{
 "cells": [
  {
   "cell_type": "code",
   "execution_count": 1,
   "source": [
    "import numpy as np\n",
    "import torch\n",
    "from tqdm import tqdm\n",
    "from skimage.metrics import structural_similarity as ssim\n",
    "from torch.autograd import Variable\n",
    "from matplotlib.pyplot import imshow\n",
    "import matplotlib.pyplot as plt\n",
    "from torchvision.datasets import EMNIST\n",
    "from time import time\n",
    "import sklearn.preprocessing\n",
    "import numpy as np\n",
    "import robust_onlinehd\n",
    "from GenAttack import GenAttack"
   ],
   "outputs": [],
   "metadata": {}
  },
  {
   "cell_type": "code",
   "execution_count": 2,
   "source": [
    "scaler = sklearn.preprocessing.Normalizer()"
   ],
   "outputs": [],
   "metadata": {}
  },
  {
   "cell_type": "code",
   "execution_count": 3,
   "source": [
    "torch.manual_seed(54)"
   ],
   "outputs": [
    {
     "output_type": "execute_result",
     "data": {
      "text/plain": [
       "<torch._C.Generator at 0x7f036fed82f0>"
      ]
     },
     "metadata": {},
     "execution_count": 3
    }
   ],
   "metadata": {}
  },
  {
   "cell_type": "code",
   "execution_count": 4,
   "source": [
    "\n",
    "# loads simple mnist dataset\n",
    "def load():  \n",
    "    temp = EMNIST('./data/EMNIST', split = 'letters', train = True, download = True)\n",
    "    x = temp.data.unsqueeze(3).numpy().transpose((0,2,1,3))\n",
    "    y = temp.targets.numpy() - 1\n",
    "\n",
    "    temp = EMNIST('./data/EMNIST', split = 'letters', train = False, download = True)\n",
    "    x_test = temp.data.unsqueeze(3).numpy().transpose((0,2,1,3))\n",
    "    y_test = temp.targets.numpy() - 1\n",
    "\n",
    "    # changes data to pytorch's tensors\n",
    "    x = torch.from_numpy(x).float()   \n",
    "    y = torch.from_numpy(y).long().squeeze()\n",
    "    x_test = torch.from_numpy(x_test).float()\n",
    "    y_test = torch.from_numpy(y_test).long().squeeze()\n",
    "    \n",
    "    if len(x.shape) == 3:\n",
    "        x = x.unsqueeze(3)\n",
    "        x_test = x_test.unsqueeze(3)\n",
    "\n",
    "    return x, x_test, y, y_test\n",
    "\n",
    "\n",
    "print('Loading...')\n",
    "x, x_test, y, y_test = load()"
   ],
   "outputs": [
    {
     "output_type": "stream",
     "name": "stdout",
     "text": [
      "Loading...\n"
     ]
    }
   ],
   "metadata": {}
  },
  {
   "cell_type": "code",
   "execution_count": 5,
   "source": [
    "#criterias = [(0, 100, 0), (100, 150, 125), (150, 200, 175), (200, 256, 255)]\n",
    "#criterias = [(0, 50, 0), (50, 100, 75), (100, 125, 124), (125, 150, 149), (150, 175, 174), (175, 200, 199), (200, 225, 224), (225, 256, 255)]\n",
    "#criterias = []\n",
    "kernel_size = 3\n",
    "#kernel_size = 1\n",
    "classes = y.unique().size(0)\n",
    "features = x.size(1) * x.size(2)\n",
    "model = robust_onlinehd.OnlineHD(kernel_size, scaler, classes, features, dim = 10000)\n",
    "model.set_criterias(x, 8)\n",
    "\n",
    "\n",
    "if torch.cuda.is_available():\n",
    "    #x = x.cuda()\n",
    "    #y = y.cuda()\n",
    "    #x_test = x_test.cuda()\n",
    "    #y_test = y_test.cuda()\n",
    "    model = model.to('cuda')\n",
    "    print('Using GPU!')\n",
    "\n",
    "print('Training...')\n",
    "t = time()\n",
    "\n",
    "model = model.fit(x, y, bootstrap=.3, lr=0.095, epochs=300, batch_size=8196)\n",
    "t = time() - t\n",
    "\n",
    "print('Validating...')\n",
    "yhat = model(x).cpu()\n",
    "yhat_test = model(x_test).cpu()\n",
    "acc = (y == yhat).float().mean()\n",
    "acc_test = (y_test == yhat_test).float().mean()\n",
    "print(f'{acc = :6f}')\n",
    "print(f'{acc_test = :6f}')\n",
    "print(f'{t = :6f}')\n"
   ],
   "outputs": [
    {
     "output_type": "stream",
     "name": "stdout",
     "text": [
      "Using GPU!\n",
      "Training...\n",
      "Validating...\n",
      "acc = 0.985080\n",
      "acc_test = 0.884856\n",
      "t = 101.347876\n"
     ]
    }
   ],
   "metadata": {}
  },
  {
   "cell_type": "code",
   "execution_count": 6,
   "source": [
    "preds = model(x_test).cpu().numpy()\n",
    "#preds = model(x).cpu().numpy()"
   ],
   "outputs": [],
   "metadata": {}
  },
  {
   "cell_type": "code",
   "execution_count": 7,
   "source": [
    "targets = torch.randint(0, 10, preds.shape)\n",
    "for i in tqdm(range(len(preds))):\n",
    "    while targets[i] == preds[i]:\n",
    "        targets[i] = torch.randint(0,10, (1,)).item()"
   ],
   "outputs": [
    {
     "output_type": "stream",
     "name": "stderr",
     "text": [
      "100%|██████████| 20800/20800 [00:00<00:00, 55491.93it/s]\n"
     ]
    }
   ],
   "metadata": {}
  },
  {
   "cell_type": "code",
   "execution_count": 8,
   "source": [
    "unif = torch.ones(targets.shape[0])\n",
    "while True:\n",
    "    indices = unif.multinomial(100)\n",
    "    for idx in indices:\n",
    "        if targets[idx] == y_test[idx]:\n",
    "            break\n",
    "    if idx == indices[-1] and targets[idx] != y_test[idx]:\n",
    "        break\n",
    "    else:\n",
    "        indices = unif.multinomial(100)"
   ],
   "outputs": [],
   "metadata": {}
  },
  {
   "cell_type": "code",
   "execution_count": 9,
   "source": [
    "attacker = GenAttack(model, classes, 28 * 28, scaler, 0.6, 'cuda')\n",
    "N = 8                          # size of population to evolve\n",
    "G = 5000                        # number of generations to evolve through\n",
    "p = torch.FloatTensor([0.9])   # the parameter for Bernoulli distribution used in mutation\n",
    "alpha = torch.FloatTensor([1.0]) # the parameter controlling mutation amount (step-size in the original paper)\n",
    "delta = torch.FloatTensor([0.9]) # the parametr controlling mutation amount (norm threshold in the original paper)"
   ],
   "outputs": [],
   "metadata": {}
  },
  {
   "cell_type": "code",
   "execution_count": 10,
   "source": [
    "pops = []\n",
    "results = []"
   ],
   "outputs": [],
   "metadata": {}
  },
  {
   "cell_type": "code",
   "execution_count": 11,
   "source": [
    "t = time()\n",
    "for i in tqdm(indices):\n",
    "    temp = attacker.attack(x_test[i], targets[i], delta, alpha, p, N, G)\n",
    "    pops.append(temp[0].numpy())\n",
    "    results.append(temp[1])\n",
    "t = time() - t\n",
    "\n",
    "print(f'{t = :6f}')"
   ],
   "outputs": [
    {
     "output_type": "stream",
     "name": "stderr",
     "text": [
      "  1%|          | 1/100 [02:00<3:18:50, 120.51s/it]"
     ]
    },
    {
     "output_type": "stream",
     "name": "stdout",
     "text": [
      "All 5000 generations failed.\n"
     ]
    },
    {
     "output_type": "stream",
     "name": "stderr",
     "text": [
      "  2%|▏         | 2/100 [03:01<2:19:48, 85.60s/it] "
     ]
    },
    {
     "output_type": "stream",
     "name": "stdout",
     "text": [
      "All 5000 generations failed.\n"
     ]
    },
    {
     "output_type": "stream",
     "name": "stderr",
     "text": [
      "  3%|▎         | 3/100 [04:00<1:58:46, 73.47s/it]"
     ]
    },
    {
     "output_type": "stream",
     "name": "stdout",
     "text": [
      "All 5000 generations failed.\n"
     ]
    },
    {
     "output_type": "stream",
     "name": "stderr",
     "text": [
      "  4%|▍         | 4/100 [04:59<1:48:11, 67.62s/it]"
     ]
    },
    {
     "output_type": "stream",
     "name": "stdout",
     "text": [
      "All 5000 generations failed.\n"
     ]
    },
    {
     "output_type": "stream",
     "name": "stderr",
     "text": [
      "  5%|▌         | 5/100 [05:58<1:42:22, 64.65s/it]"
     ]
    },
    {
     "output_type": "stream",
     "name": "stdout",
     "text": [
      "All 5000 generations failed.\n"
     ]
    },
    {
     "output_type": "stream",
     "name": "stderr",
     "text": [
      "  6%|▌         | 6/100 [05:59<1:07:12, 42.90s/it]"
     ]
    },
    {
     "output_type": "stream",
     "name": "stdout",
     "text": [
      "All candidates died at generation 56\n",
      "Target =  tensor(6, device='cuda:0')\n"
     ]
    },
    {
     "output_type": "stream",
     "name": "stderr",
     "text": [
      "  7%|▋         | 7/100 [06:58<1:14:30, 48.07s/it]"
     ]
    },
    {
     "output_type": "stream",
     "name": "stdout",
     "text": [
      "All 5000 generations failed.\n"
     ]
    },
    {
     "output_type": "stream",
     "name": "stderr",
     "text": [
      "  8%|▊         | 8/100 [07:01<52:01, 33.93s/it]  "
     ]
    },
    {
     "output_type": "stream",
     "name": "stdout",
     "text": [
      "All candidates died at generation 312\n",
      "Target =  tensor(4, device='cuda:0')\n"
     ]
    },
    {
     "output_type": "stream",
     "name": "stderr",
     "text": [
      "  9%|▉         | 9/100 [08:00<1:03:11, 41.67s/it]"
     ]
    },
    {
     "output_type": "stream",
     "name": "stdout",
     "text": [
      "All 5000 generations failed.\n"
     ]
    },
    {
     "output_type": "stream",
     "name": "stderr",
     "text": [
      " 10%|█         | 10/100 [09:02<1:11:45, 47.83s/it]"
     ]
    },
    {
     "output_type": "stream",
     "name": "stdout",
     "text": [
      "All 5000 generations failed.\n"
     ]
    },
    {
     "output_type": "stream",
     "name": "stderr",
     "text": [
      " 11%|█         | 11/100 [10:01<1:16:22, 51.49s/it]"
     ]
    },
    {
     "output_type": "stream",
     "name": "stdout",
     "text": [
      "All 5000 generations failed.\n"
     ]
    },
    {
     "output_type": "stream",
     "name": "stderr",
     "text": [
      " 12%|█▏        | 12/100 [11:00<1:18:51, 53.77s/it]"
     ]
    },
    {
     "output_type": "stream",
     "name": "stdout",
     "text": [
      "All 5000 generations failed.\n"
     ]
    },
    {
     "output_type": "stream",
     "name": "stderr",
     "text": [
      " 13%|█▎        | 13/100 [11:59<1:20:07, 55.26s/it]"
     ]
    },
    {
     "output_type": "stream",
     "name": "stdout",
     "text": [
      "All 5000 generations failed.\n"
     ]
    },
    {
     "output_type": "stream",
     "name": "stderr",
     "text": [
      " 14%|█▍        | 14/100 [13:02<1:22:19, 57.43s/it]"
     ]
    },
    {
     "output_type": "stream",
     "name": "stdout",
     "text": [
      "All 5000 generations failed.\n"
     ]
    },
    {
     "output_type": "stream",
     "name": "stderr",
     "text": [
      " 15%|█▌        | 15/100 [14:01<1:22:07, 57.97s/it]"
     ]
    },
    {
     "output_type": "stream",
     "name": "stdout",
     "text": [
      "All 5000 generations failed.\n"
     ]
    },
    {
     "output_type": "stream",
     "name": "stderr",
     "text": [
      " 16%|█▌        | 16/100 [14:59<1:21:28, 58.20s/it]"
     ]
    },
    {
     "output_type": "stream",
     "name": "stdout",
     "text": [
      "All 5000 generations failed.\n"
     ]
    },
    {
     "output_type": "stream",
     "name": "stderr",
     "text": [
      " 17%|█▋        | 17/100 [15:59<1:21:14, 58.73s/it]"
     ]
    },
    {
     "output_type": "stream",
     "name": "stdout",
     "text": [
      "All 5000 generations failed.\n"
     ]
    },
    {
     "output_type": "stream",
     "name": "stderr",
     "text": [
      " 18%|█▊        | 18/100 [16:58<1:20:22, 58.81s/it]"
     ]
    },
    {
     "output_type": "stream",
     "name": "stdout",
     "text": [
      "All 5000 generations failed.\n"
     ]
    },
    {
     "output_type": "stream",
     "name": "stderr",
     "text": [
      " 19%|█▉        | 19/100 [17:57<1:19:23, 58.81s/it]"
     ]
    },
    {
     "output_type": "stream",
     "name": "stdout",
     "text": [
      "All 5000 generations failed.\n"
     ]
    },
    {
     "output_type": "stream",
     "name": "stderr",
     "text": [
      " 20%|██        | 20/100 [18:58<1:19:15, 59.44s/it]"
     ]
    },
    {
     "output_type": "stream",
     "name": "stdout",
     "text": [
      "All 5000 generations failed.\n"
     ]
    },
    {
     "output_type": "stream",
     "name": "stderr",
     "text": [
      " 21%|██        | 21/100 [20:01<1:19:25, 60.33s/it]"
     ]
    },
    {
     "output_type": "stream",
     "name": "stdout",
     "text": [
      "All 5000 generations failed.\n",
      "All candidates died at generation 0\n",
      "Target =  tensor(0, device='cuda:0')\n"
     ]
    },
    {
     "output_type": "stream",
     "name": "stderr",
     "text": [
      " 24%|██▍       | 24/100 [21:00<44:03, 34.79s/it]"
     ]
    },
    {
     "output_type": "stream",
     "name": "stdout",
     "text": [
      "All 5000 generations failed.\n",
      "All candidates died at generation 10\n",
      "Target =  tensor(9, device='cuda:0')\n"
     ]
    },
    {
     "output_type": "stream",
     "name": "stderr",
     "text": [
      " 25%|██▌       | 25/100 [22:00<51:44, 41.39s/it]"
     ]
    },
    {
     "output_type": "stream",
     "name": "stdout",
     "text": [
      "All 5000 generations failed.\n"
     ]
    },
    {
     "output_type": "stream",
     "name": "stderr",
     "text": [
      " 26%|██▌       | 26/100 [23:04<58:24, 47.36s/it]"
     ]
    },
    {
     "output_type": "stream",
     "name": "stdout",
     "text": [
      "All 5000 generations failed.\n"
     ]
    },
    {
     "output_type": "stream",
     "name": "stderr",
     "text": [
      " 27%|██▋       | 27/100 [24:03<1:01:40, 50.70s/it]"
     ]
    },
    {
     "output_type": "stream",
     "name": "stdout",
     "text": [
      "All 5000 generations failed.\n"
     ]
    },
    {
     "output_type": "stream",
     "name": "stderr",
     "text": [
      " 28%|██▊       | 28/100 [25:02<1:03:37, 53.02s/it]"
     ]
    },
    {
     "output_type": "stream",
     "name": "stdout",
     "text": [
      "All 5000 generations failed.\n"
     ]
    },
    {
     "output_type": "stream",
     "name": "stderr",
     "text": [
      " 29%|██▉       | 29/100 [26:01<1:04:55, 54.87s/it]"
     ]
    },
    {
     "output_type": "stream",
     "name": "stdout",
     "text": [
      "All 5000 generations failed.\n"
     ]
    },
    {
     "output_type": "stream",
     "name": "stderr",
     "text": [
      " 30%|███       | 30/100 [27:00<1:05:33, 56.19s/it]"
     ]
    },
    {
     "output_type": "stream",
     "name": "stdout",
     "text": [
      "All 5000 generations failed.\n"
     ]
    },
    {
     "output_type": "stream",
     "name": "stderr",
     "text": [
      " 31%|███       | 31/100 [28:00<1:05:45, 57.18s/it]"
     ]
    },
    {
     "output_type": "stream",
     "name": "stdout",
     "text": [
      "All 5000 generations failed.\n"
     ]
    },
    {
     "output_type": "stream",
     "name": "stderr",
     "text": [
      " 32%|███▏      | 32/100 [29:00<1:05:37, 57.90s/it]"
     ]
    },
    {
     "output_type": "stream",
     "name": "stdout",
     "text": [
      "All 5000 generations failed.\n"
     ]
    },
    {
     "output_type": "stream",
     "name": "stderr",
     "text": [
      " 33%|███▎      | 33/100 [30:02<1:06:05, 59.18s/it]"
     ]
    },
    {
     "output_type": "stream",
     "name": "stdout",
     "text": [
      "All 5000 generations failed.\n"
     ]
    },
    {
     "output_type": "stream",
     "name": "stderr",
     "text": [
      " 34%|███▍      | 34/100 [31:03<1:05:39, 59.68s/it]"
     ]
    },
    {
     "output_type": "stream",
     "name": "stdout",
     "text": [
      "All 5000 generations failed.\n"
     ]
    },
    {
     "output_type": "stream",
     "name": "stderr",
     "text": [
      " 35%|███▌      | 35/100 [32:02<1:04:23, 59.43s/it]"
     ]
    },
    {
     "output_type": "stream",
     "name": "stdout",
     "text": [
      "All 5000 generations failed.\n"
     ]
    },
    {
     "output_type": "stream",
     "name": "stderr",
     "text": [
      " 36%|███▌      | 36/100 [33:07<1:05:21, 61.27s/it]"
     ]
    },
    {
     "output_type": "stream",
     "name": "stdout",
     "text": [
      "All 5000 generations failed.\n"
     ]
    },
    {
     "output_type": "stream",
     "name": "stderr",
     "text": [
      " 37%|███▋      | 37/100 [34:07<1:03:55, 60.88s/it]"
     ]
    },
    {
     "output_type": "stream",
     "name": "stdout",
     "text": [
      "All 5000 generations failed.\n"
     ]
    },
    {
     "output_type": "stream",
     "name": "stderr",
     "text": [
      " 38%|███▊      | 38/100 [35:08<1:02:56, 60.91s/it]"
     ]
    },
    {
     "output_type": "stream",
     "name": "stdout",
     "text": [
      "All 5000 generations failed.\n"
     ]
    },
    {
     "output_type": "stream",
     "name": "stderr",
     "text": [
      " 39%|███▉      | 39/100 [36:08<1:01:34, 60.56s/it]"
     ]
    },
    {
     "output_type": "stream",
     "name": "stdout",
     "text": [
      "All 5000 generations failed.\n"
     ]
    },
    {
     "output_type": "stream",
     "name": "stderr",
     "text": [
      " 40%|████      | 40/100 [37:08<1:00:28, 60.48s/it]"
     ]
    },
    {
     "output_type": "stream",
     "name": "stdout",
     "text": [
      "All 5000 generations failed.\n",
      "All candidates died at generation 0\n",
      "Target =  tensor(1, device='cuda:0')\n"
     ]
    },
    {
     "output_type": "stream",
     "name": "stderr",
     "text": [
      " 42%|████▏     | 42/100 [38:09<45:00, 46.57s/it]  "
     ]
    },
    {
     "output_type": "stream",
     "name": "stdout",
     "text": [
      "All 5000 generations failed.\n"
     ]
    },
    {
     "output_type": "stream",
     "name": "stderr",
     "text": [
      " 43%|████▎     | 43/100 [39:08<47:07, 49.60s/it]"
     ]
    },
    {
     "output_type": "stream",
     "name": "stdout",
     "text": [
      "All 5000 generations failed.\n"
     ]
    },
    {
     "output_type": "stream",
     "name": "stderr",
     "text": [
      " 44%|████▍     | 44/100 [40:12<49:59, 53.56s/it]"
     ]
    },
    {
     "output_type": "stream",
     "name": "stdout",
     "text": [
      "All 5000 generations failed.\n"
     ]
    },
    {
     "output_type": "stream",
     "name": "stderr",
     "text": [
      " 45%|████▌     | 45/100 [41:13<50:53, 55.53s/it]"
     ]
    },
    {
     "output_type": "stream",
     "name": "stdout",
     "text": [
      "All 5000 generations failed.\n"
     ]
    },
    {
     "output_type": "stream",
     "name": "stderr",
     "text": [
      " 46%|████▌     | 46/100 [42:16<51:50, 57.60s/it]"
     ]
    },
    {
     "output_type": "stream",
     "name": "stdout",
     "text": [
      "All 5000 generations failed.\n",
      "All candidates died at generation 4\n",
      "Target =  tensor(4, device='cuda:0')\n"
     ]
    },
    {
     "output_type": "stream",
     "name": "stderr",
     "text": [
      " 48%|████▊     | 48/100 [43:17<39:26, 45.50s/it]"
     ]
    },
    {
     "output_type": "stream",
     "name": "stdout",
     "text": [
      "All 5000 generations failed.\n"
     ]
    },
    {
     "output_type": "stream",
     "name": "stderr",
     "text": [
      " 49%|████▉     | 49/100 [44:16<41:24, 48.71s/it]"
     ]
    },
    {
     "output_type": "stream",
     "name": "stdout",
     "text": [
      "All 5000 generations failed.\n"
     ]
    },
    {
     "output_type": "stream",
     "name": "stderr",
     "text": [
      " 50%|█████     | 50/100 [45:14<42:45, 51.31s/it]"
     ]
    },
    {
     "output_type": "stream",
     "name": "stdout",
     "text": [
      "All 5000 generations failed.\n"
     ]
    },
    {
     "output_type": "stream",
     "name": "stderr",
     "text": [
      " 51%|█████     | 51/100 [46:13<43:32, 53.32s/it]"
     ]
    },
    {
     "output_type": "stream",
     "name": "stdout",
     "text": [
      "All 5000 generations failed.\n"
     ]
    },
    {
     "output_type": "stream",
     "name": "stderr",
     "text": [
      " 52%|█████▏    | 52/100 [47:12<43:50, 54.81s/it]"
     ]
    },
    {
     "output_type": "stream",
     "name": "stdout",
     "text": [
      "All 5000 generations failed.\n"
     ]
    },
    {
     "output_type": "stream",
     "name": "stderr",
     "text": [
      " 53%|█████▎    | 53/100 [48:11<43:47, 55.89s/it]"
     ]
    },
    {
     "output_type": "stream",
     "name": "stdout",
     "text": [
      "All 5000 generations failed.\n"
     ]
    },
    {
     "output_type": "stream",
     "name": "stderr",
     "text": [
      " 54%|█████▍    | 54/100 [49:11<43:46, 57.11s/it]"
     ]
    },
    {
     "output_type": "stream",
     "name": "stdout",
     "text": [
      "All 5000 generations failed.\n"
     ]
    },
    {
     "output_type": "stream",
     "name": "stderr",
     "text": [
      " 55%|█████▌    | 55/100 [50:11<43:27, 57.94s/it]"
     ]
    },
    {
     "output_type": "stream",
     "name": "stdout",
     "text": [
      "All 5000 generations failed.\n"
     ]
    },
    {
     "output_type": "stream",
     "name": "stderr",
     "text": [
      " 56%|█████▌    | 56/100 [51:09<42:39, 58.17s/it]"
     ]
    },
    {
     "output_type": "stream",
     "name": "stdout",
     "text": [
      "All 5000 generations failed.\n"
     ]
    },
    {
     "output_type": "stream",
     "name": "stderr",
     "text": [
      " 57%|█████▋    | 57/100 [52:08<41:48, 58.33s/it]"
     ]
    },
    {
     "output_type": "stream",
     "name": "stdout",
     "text": [
      "All 5000 generations failed.\n"
     ]
    },
    {
     "output_type": "stream",
     "name": "stderr",
     "text": [
      " 58%|█████▊    | 58/100 [53:07<40:57, 58.52s/it]"
     ]
    },
    {
     "output_type": "stream",
     "name": "stdout",
     "text": [
      "All 5000 generations failed.\n"
     ]
    },
    {
     "output_type": "stream",
     "name": "stderr",
     "text": [
      " 59%|█████▉    | 59/100 [54:06<40:01, 58.57s/it]"
     ]
    },
    {
     "output_type": "stream",
     "name": "stdout",
     "text": [
      "All 5000 generations failed.\n"
     ]
    },
    {
     "output_type": "stream",
     "name": "stderr",
     "text": [
      " 60%|██████    | 60/100 [55:05<39:06, 58.67s/it]"
     ]
    },
    {
     "output_type": "stream",
     "name": "stdout",
     "text": [
      "All 5000 generations failed.\n"
     ]
    },
    {
     "output_type": "stream",
     "name": "stderr",
     "text": [
      " 61%|██████    | 61/100 [56:03<38:07, 58.65s/it]"
     ]
    },
    {
     "output_type": "stream",
     "name": "stdout",
     "text": [
      "All 5000 generations failed.\n"
     ]
    },
    {
     "output_type": "stream",
     "name": "stderr",
     "text": [
      " 62%|██████▏   | 62/100 [57:03<37:15, 58.84s/it]"
     ]
    },
    {
     "output_type": "stream",
     "name": "stdout",
     "text": [
      "All 5000 generations failed.\n"
     ]
    },
    {
     "output_type": "stream",
     "name": "stderr",
     "text": [
      " 63%|██████▎   | 63/100 [58:02<36:18, 58.87s/it]"
     ]
    },
    {
     "output_type": "stream",
     "name": "stdout",
     "text": [
      "All 5000 generations failed.\n"
     ]
    },
    {
     "output_type": "stream",
     "name": "stderr",
     "text": [
      " 64%|██████▍   | 64/100 [59:02<35:37, 59.39s/it]"
     ]
    },
    {
     "output_type": "stream",
     "name": "stdout",
     "text": [
      "All 5000 generations failed.\n"
     ]
    },
    {
     "output_type": "stream",
     "name": "stderr",
     "text": [
      " 65%|██████▌   | 65/100 [1:00:03<34:52, 59.77s/it]"
     ]
    },
    {
     "output_type": "stream",
     "name": "stdout",
     "text": [
      "All 5000 generations failed.\n"
     ]
    },
    {
     "output_type": "stream",
     "name": "stderr",
     "text": [
      " 66%|██████▌   | 66/100 [1:01:02<33:43, 59.51s/it]"
     ]
    },
    {
     "output_type": "stream",
     "name": "stdout",
     "text": [
      "All 5000 generations failed.\n"
     ]
    },
    {
     "output_type": "stream",
     "name": "stderr",
     "text": [
      " 68%|██████▊   | 68/100 [1:02:04<22:31, 42.24s/it]"
     ]
    },
    {
     "output_type": "stream",
     "name": "stdout",
     "text": [
      "All 5000 generations failed.\n",
      "All candidates died at generation 7\n",
      "Target =  tensor(9, device='cuda:0')\n"
     ]
    },
    {
     "output_type": "stream",
     "name": "stderr",
     "text": [
      " 69%|██████▉   | 69/100 [1:03:03<24:27, 47.34s/it]"
     ]
    },
    {
     "output_type": "stream",
     "name": "stdout",
     "text": [
      "All 5000 generations failed.\n"
     ]
    },
    {
     "output_type": "stream",
     "name": "stderr",
     "text": [
      " 70%|███████   | 70/100 [1:04:04<25:39, 51.33s/it]"
     ]
    },
    {
     "output_type": "stream",
     "name": "stdout",
     "text": [
      "All 5000 generations failed.\n"
     ]
    },
    {
     "output_type": "stream",
     "name": "stderr",
     "text": [
      " 71%|███████   | 71/100 [1:05:03<25:55, 53.65s/it]"
     ]
    },
    {
     "output_type": "stream",
     "name": "stdout",
     "text": [
      "All 5000 generations failed.\n"
     ]
    },
    {
     "output_type": "stream",
     "name": "stderr",
     "text": [
      " 72%|███████▏  | 72/100 [1:06:05<26:10, 56.10s/it]"
     ]
    },
    {
     "output_type": "stream",
     "name": "stdout",
     "text": [
      "All 5000 generations failed.\n"
     ]
    },
    {
     "output_type": "stream",
     "name": "stderr",
     "text": [
      " 73%|███████▎  | 73/100 [1:07:09<26:22, 58.60s/it]"
     ]
    },
    {
     "output_type": "stream",
     "name": "stdout",
     "text": [
      "All 5000 generations failed.\n"
     ]
    },
    {
     "output_type": "stream",
     "name": "stderr",
     "text": [
      " 74%|███████▍  | 74/100 [1:08:08<25:26, 58.70s/it]"
     ]
    },
    {
     "output_type": "stream",
     "name": "stdout",
     "text": [
      "All 5000 generations failed.\n"
     ]
    },
    {
     "output_type": "stream",
     "name": "stderr",
     "text": [
      " 75%|███████▌  | 75/100 [1:09:08<24:37, 59.09s/it]"
     ]
    },
    {
     "output_type": "stream",
     "name": "stdout",
     "text": [
      "All 5000 generations failed.\n"
     ]
    },
    {
     "output_type": "stream",
     "name": "stderr",
     "text": [
      " 76%|███████▌  | 76/100 [1:10:09<23:48, 59.51s/it]"
     ]
    },
    {
     "output_type": "stream",
     "name": "stdout",
     "text": [
      "All 5000 generations failed.\n"
     ]
    },
    {
     "output_type": "stream",
     "name": "stderr",
     "text": [
      " 77%|███████▋  | 77/100 [1:11:07<22:42, 59.24s/it]"
     ]
    },
    {
     "output_type": "stream",
     "name": "stdout",
     "text": [
      "All 5000 generations failed.\n"
     ]
    },
    {
     "output_type": "stream",
     "name": "stderr",
     "text": [
      " 78%|███████▊  | 78/100 [1:12:06<21:41, 59.14s/it]"
     ]
    },
    {
     "output_type": "stream",
     "name": "stdout",
     "text": [
      "All 5000 generations failed.\n"
     ]
    },
    {
     "output_type": "stream",
     "name": "stderr",
     "text": [
      " 79%|███████▉  | 79/100 [1:13:05<20:40, 59.07s/it]"
     ]
    },
    {
     "output_type": "stream",
     "name": "stdout",
     "text": [
      "All 5000 generations failed.\n"
     ]
    },
    {
     "output_type": "stream",
     "name": "stderr",
     "text": [
      " 80%|████████  | 80/100 [1:14:04<19:40, 59.03s/it]"
     ]
    },
    {
     "output_type": "stream",
     "name": "stdout",
     "text": [
      "All 5000 generations failed.\n"
     ]
    },
    {
     "output_type": "stream",
     "name": "stderr",
     "text": [
      " 81%|████████  | 81/100 [1:15:03<18:40, 58.96s/it]"
     ]
    },
    {
     "output_type": "stream",
     "name": "stdout",
     "text": [
      "All 5000 generations failed.\n"
     ]
    },
    {
     "output_type": "stream",
     "name": "stderr",
     "text": [
      " 82%|████████▏ | 82/100 [1:16:03<17:49, 59.40s/it]"
     ]
    },
    {
     "output_type": "stream",
     "name": "stdout",
     "text": [
      "All 5000 generations failed.\n"
     ]
    },
    {
     "output_type": "stream",
     "name": "stderr",
     "text": [
      " 83%|████████▎ | 83/100 [1:17:05<17:02, 60.16s/it]"
     ]
    },
    {
     "output_type": "stream",
     "name": "stdout",
     "text": [
      "All 5000 generations failed.\n"
     ]
    },
    {
     "output_type": "stream",
     "name": "stderr",
     "text": [
      " 84%|████████▍ | 84/100 [1:18:07<16:11, 60.71s/it]"
     ]
    },
    {
     "output_type": "stream",
     "name": "stdout",
     "text": [
      "All 5000 generations failed.\n"
     ]
    },
    {
     "output_type": "stream",
     "name": "stderr",
     "text": [
      " 85%|████████▌ | 85/100 [1:19:09<15:18, 61.22s/it]"
     ]
    },
    {
     "output_type": "stream",
     "name": "stdout",
     "text": [
      "All 5000 generations failed.\n"
     ]
    },
    {
     "output_type": "stream",
     "name": "stderr",
     "text": [
      " 86%|████████▌ | 86/100 [1:20:11<14:18, 61.31s/it]"
     ]
    },
    {
     "output_type": "stream",
     "name": "stdout",
     "text": [
      "All 5000 generations failed.\n"
     ]
    },
    {
     "output_type": "stream",
     "name": "stderr",
     "text": [
      " 87%|████████▋ | 87/100 [1:21:11<13:10, 60.83s/it]"
     ]
    },
    {
     "output_type": "stream",
     "name": "stdout",
     "text": [
      "All 5000 generations failed.\n"
     ]
    },
    {
     "output_type": "stream",
     "name": "stderr",
     "text": [
      " 88%|████████▊ | 88/100 [1:22:13<12:16, 61.41s/it]"
     ]
    },
    {
     "output_type": "stream",
     "name": "stdout",
     "text": [
      "All 5000 generations failed.\n"
     ]
    },
    {
     "output_type": "stream",
     "name": "stderr",
     "text": [
      " 89%|████████▉ | 89/100 [1:23:12<11:07, 60.70s/it]"
     ]
    },
    {
     "output_type": "stream",
     "name": "stdout",
     "text": [
      "All 5000 generations failed.\n"
     ]
    },
    {
     "output_type": "stream",
     "name": "stderr",
     "text": [
      " 90%|█████████ | 90/100 [1:24:11<10:01, 60.16s/it]"
     ]
    },
    {
     "output_type": "stream",
     "name": "stdout",
     "text": [
      "All 5000 generations failed.\n"
     ]
    },
    {
     "output_type": "stream",
     "name": "stderr",
     "text": [
      " 91%|█████████ | 91/100 [1:25:10<08:57, 59.75s/it]"
     ]
    },
    {
     "output_type": "stream",
     "name": "stdout",
     "text": [
      "All 5000 generations failed.\n"
     ]
    },
    {
     "output_type": "stream",
     "name": "stderr",
     "text": [
      " 92%|█████████▏| 92/100 [1:26:09<07:56, 59.55s/it]"
     ]
    },
    {
     "output_type": "stream",
     "name": "stdout",
     "text": [
      "All 5000 generations failed.\n"
     ]
    },
    {
     "output_type": "stream",
     "name": "stderr",
     "text": [
      " 93%|█████████▎| 93/100 [1:27:11<07:00, 60.09s/it]"
     ]
    },
    {
     "output_type": "stream",
     "name": "stdout",
     "text": [
      "All 5000 generations failed.\n"
     ]
    },
    {
     "output_type": "stream",
     "name": "stderr",
     "text": [
      " 94%|█████████▍| 94/100 [1:28:12<06:02, 60.44s/it]"
     ]
    },
    {
     "output_type": "stream",
     "name": "stdout",
     "text": [
      "All 5000 generations failed.\n"
     ]
    },
    {
     "output_type": "stream",
     "name": "stderr",
     "text": [
      " 95%|█████████▌| 95/100 [1:29:12<05:01, 60.36s/it]"
     ]
    },
    {
     "output_type": "stream",
     "name": "stdout",
     "text": [
      "All 5000 generations failed.\n"
     ]
    },
    {
     "output_type": "stream",
     "name": "stderr",
     "text": [
      " 96%|█████████▌| 96/100 [1:30:11<03:59, 59.88s/it]"
     ]
    },
    {
     "output_type": "stream",
     "name": "stdout",
     "text": [
      "All 5000 generations failed.\n"
     ]
    },
    {
     "output_type": "stream",
     "name": "stderr",
     "text": [
      " 97%|█████████▋| 97/100 [1:31:10<02:59, 59.77s/it]"
     ]
    },
    {
     "output_type": "stream",
     "name": "stdout",
     "text": [
      "All 5000 generations failed.\n"
     ]
    },
    {
     "output_type": "stream",
     "name": "stderr",
     "text": [
      " 98%|█████████▊| 98/100 [1:32:09<01:58, 59.44s/it]"
     ]
    },
    {
     "output_type": "stream",
     "name": "stdout",
     "text": [
      "All 5000 generations failed.\n"
     ]
    },
    {
     "output_type": "stream",
     "name": "stderr",
     "text": [
      " 99%|█████████▉| 99/100 [1:33:09<00:59, 59.58s/it]"
     ]
    },
    {
     "output_type": "stream",
     "name": "stdout",
     "text": [
      "All 5000 generations failed.\n"
     ]
    },
    {
     "output_type": "stream",
     "name": "stderr",
     "text": [
      "100%|██████████| 100/100 [1:34:08<00:00, 56.48s/it]"
     ]
    },
    {
     "output_type": "stream",
     "name": "stdout",
     "text": [
      "All 5000 generations failed.\n",
      "t = 5648.065614\n"
     ]
    },
    {
     "output_type": "stream",
     "name": "stderr",
     "text": [
      "\n"
     ]
    }
   ],
   "metadata": {}
  },
  {
   "cell_type": "code",
   "execution_count": 12,
   "source": [
    "pops = np.array(pops)"
   ],
   "outputs": [],
   "metadata": {}
  },
  {
   "cell_type": "code",
   "execution_count": 13,
   "source": [
    "sample_preds = preds[indices]"
   ],
   "outputs": [],
   "metadata": {}
  },
  {
   "cell_type": "code",
   "execution_count": 14,
   "source": [
    "new_preds = []\n",
    "for i in range(100):\n",
    "    new_preds.append(model(torch.tensor(pops[i])).cpu().numpy())"
   ],
   "outputs": [],
   "metadata": {}
  },
  {
   "cell_type": "code",
   "execution_count": 15,
   "source": [
    "success = 0\n",
    "success_idx = []\n",
    "for i in range(100):\n",
    "    if targets[indices[i]].item() in new_preds[i]:\n",
    "        success_idx.append((indices[i].item(), (i, np.where(new_preds[i] == targets[indices[i]].item())[0][0])))\n",
    "        success += 1\n",
    "print(success)"
   ],
   "outputs": [
    {
     "output_type": "stream",
     "name": "stdout",
     "text": [
      "0\n"
     ]
    }
   ],
   "metadata": {}
  },
  {
   "cell_type": "code",
   "execution_count": 16,
   "source": [
    "cache = {\n",
    "    'indices' : indices,\n",
    "    'sample_preds' : sample_preds,\n",
    "    'pops' : np.array(pops),\n",
    "    'hyper_parameter' : [N, G, p, alpha, delta],\n",
    "    'success_idx' : success_idx,\n",
    "    'model' : model, \n",
    "    'scaler' : model.scaler,\n",
    "    'targets' : targets,\n",
    "    'results' : results\n",
    "}"
   ],
   "outputs": [],
   "metadata": {}
  },
  {
   "cell_type": "code",
   "execution_count": 17,
   "source": [
    "torch.save(cache, 'robust_onlinehd_emnist.pt')"
   ],
   "outputs": [],
   "metadata": {}
  },
  {
   "cell_type": "code",
   "execution_count": 18,
   "source": [
    "model(torch.tensor(pops[0]))"
   ],
   "outputs": [
    {
     "output_type": "execute_result",
     "data": {
      "text/plain": [
       "tensor([4, 4, 4, 4, 4, 4, 4, 4], device='cuda:0')"
      ]
     },
     "metadata": {},
     "execution_count": 18
    }
   ],
   "metadata": {}
  },
  {
   "cell_type": "code",
   "execution_count": 19,
   "source": [
    "labels = {\n",
    "    0 : 'a',\n",
    "    1 : 'b',\n",
    "    2 : 'c',\n",
    "    3 : 'd',\n",
    "    4 : 'e',\n",
    "    5 : 'f',\n",
    "    6 : 'g',\n",
    "    7 : 'h',\n",
    "    8 : 'i',\n",
    "    9 : 'j',\n",
    "    10 : 'k',\n",
    "    11 : 'l',\n",
    "    12 : 'm',\n",
    "    13 : 'n',\n",
    "    14 : 'o',\n",
    "    15 : 'p',\n",
    "    16 : 'q',\n",
    "    17 : 'r',\n",
    "    18 : 's',\n",
    "    19 : 't',\n",
    "    20 : 'u',\n",
    "    21 : 'v',\n",
    "    22 : 'w',\n",
    "    23 : 'x',\n",
    "    24 : 'y',\n",
    "    25 : 'z'\n",
    "}"
   ],
   "outputs": [],
   "metadata": {}
  },
  {
   "cell_type": "code",
   "execution_count": 20,
   "source": [
    "origin_idx, (new_idx, new_idx_idx) = success_idx[torch.randint(0, len(success_idx), (1,)).item()]\n",
    "\n",
    "f, axes = plt.subplots(1, 2)\n",
    "axes[0].imshow(x_test[origin_idx], cmap=plt.gray())\n",
    "_ = axes[0].set_title('Properly classified : %s' % labels[sample_preds[new_idx].item()])\n",
    "axes[1].imshow(pops[new_idx][new_idx_idx].astype(np.int32))\n",
    "_ = axes[1].set_title('Misclassified : %s' % labels[new_preds[new_idx][new_idx_idx]])"
   ],
   "outputs": [
    {
     "output_type": "error",
     "ename": "RuntimeError",
     "evalue": "random_ expects 'from' to be less than 'to', but got from=0 >= to=0",
     "traceback": [
      "\u001b[0;31m---------------------------------------------------------------------------\u001b[0m",
      "\u001b[0;31mRuntimeError\u001b[0m                              Traceback (most recent call last)",
      "\u001b[0;32m<ipython-input-20-37df94a4035d>\u001b[0m in \u001b[0;36m<module>\u001b[0;34m\u001b[0m\n\u001b[0;32m----> 1\u001b[0;31m \u001b[0morigin_idx\u001b[0m\u001b[0;34m,\u001b[0m \u001b[0;34m(\u001b[0m\u001b[0mnew_idx\u001b[0m\u001b[0;34m,\u001b[0m \u001b[0mnew_idx_idx\u001b[0m\u001b[0;34m)\u001b[0m \u001b[0;34m=\u001b[0m \u001b[0msuccess_idx\u001b[0m\u001b[0;34m[\u001b[0m\u001b[0mtorch\u001b[0m\u001b[0;34m.\u001b[0m\u001b[0mrandint\u001b[0m\u001b[0;34m(\u001b[0m\u001b[0;36m0\u001b[0m\u001b[0;34m,\u001b[0m \u001b[0mlen\u001b[0m\u001b[0;34m(\u001b[0m\u001b[0msuccess_idx\u001b[0m\u001b[0;34m)\u001b[0m\u001b[0;34m,\u001b[0m \u001b[0;34m(\u001b[0m\u001b[0;36m1\u001b[0m\u001b[0;34m,\u001b[0m\u001b[0;34m)\u001b[0m\u001b[0;34m)\u001b[0m\u001b[0;34m.\u001b[0m\u001b[0mitem\u001b[0m\u001b[0;34m(\u001b[0m\u001b[0;34m)\u001b[0m\u001b[0;34m]\u001b[0m\u001b[0;34m\u001b[0m\u001b[0;34m\u001b[0m\u001b[0m\n\u001b[0m\u001b[1;32m      2\u001b[0m \u001b[0;34m\u001b[0m\u001b[0m\n\u001b[1;32m      3\u001b[0m \u001b[0mf\u001b[0m\u001b[0;34m,\u001b[0m \u001b[0maxes\u001b[0m \u001b[0;34m=\u001b[0m \u001b[0mplt\u001b[0m\u001b[0;34m.\u001b[0m\u001b[0msubplots\u001b[0m\u001b[0;34m(\u001b[0m\u001b[0;36m1\u001b[0m\u001b[0;34m,\u001b[0m \u001b[0;36m2\u001b[0m\u001b[0;34m)\u001b[0m\u001b[0;34m\u001b[0m\u001b[0;34m\u001b[0m\u001b[0m\n\u001b[1;32m      4\u001b[0m \u001b[0maxes\u001b[0m\u001b[0;34m[\u001b[0m\u001b[0;36m0\u001b[0m\u001b[0;34m]\u001b[0m\u001b[0;34m.\u001b[0m\u001b[0mimshow\u001b[0m\u001b[0;34m(\u001b[0m\u001b[0mx_test\u001b[0m\u001b[0;34m[\u001b[0m\u001b[0morigin_idx\u001b[0m\u001b[0;34m]\u001b[0m\u001b[0;34m,\u001b[0m \u001b[0mcmap\u001b[0m\u001b[0;34m=\u001b[0m\u001b[0mplt\u001b[0m\u001b[0;34m.\u001b[0m\u001b[0mgray\u001b[0m\u001b[0;34m(\u001b[0m\u001b[0;34m)\u001b[0m\u001b[0;34m)\u001b[0m\u001b[0;34m\u001b[0m\u001b[0;34m\u001b[0m\u001b[0m\n\u001b[1;32m      5\u001b[0m \u001b[0m_\u001b[0m \u001b[0;34m=\u001b[0m \u001b[0maxes\u001b[0m\u001b[0;34m[\u001b[0m\u001b[0;36m0\u001b[0m\u001b[0;34m]\u001b[0m\u001b[0;34m.\u001b[0m\u001b[0mset_title\u001b[0m\u001b[0;34m(\u001b[0m\u001b[0;34m'Properly classified : %s'\u001b[0m \u001b[0;34m%\u001b[0m \u001b[0mlabels\u001b[0m\u001b[0;34m[\u001b[0m\u001b[0msample_preds\u001b[0m\u001b[0;34m[\u001b[0m\u001b[0mnew_idx\u001b[0m\u001b[0;34m]\u001b[0m\u001b[0;34m.\u001b[0m\u001b[0mitem\u001b[0m\u001b[0;34m(\u001b[0m\u001b[0;34m)\u001b[0m\u001b[0;34m]\u001b[0m\u001b[0;34m)\u001b[0m\u001b[0;34m\u001b[0m\u001b[0;34m\u001b[0m\u001b[0m\n",
      "\u001b[0;31mRuntimeError\u001b[0m: random_ expects 'from' to be less than 'to', but got from=0 >= to=0"
     ]
    }
   ],
   "metadata": {}
  }
 ],
 "metadata": {
  "orig_nbformat": 4,
  "language_info": {
   "name": "python",
   "version": "3.8.10",
   "mimetype": "text/x-python",
   "codemirror_mode": {
    "name": "ipython",
    "version": 3
   },
   "pygments_lexer": "ipython3",
   "nbconvert_exporter": "python",
   "file_extension": ".py"
  },
  "kernelspec": {
   "name": "python3",
   "display_name": "Python 3.8.10 64-bit ('py38': conda)"
  },
  "interpreter": {
   "hash": "3db542ac60b6226dd50a79a39a56822b2dbbe89167b91e3ffb64b8d7c630bc20"
  }
 },
 "nbformat": 4,
 "nbformat_minor": 2
}