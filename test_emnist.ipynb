{
 "cells": [
  {
   "cell_type": "code",
   "execution_count": 1,
   "source": [
    "import numpy as np\n",
    "import torch\n",
    "from tqdm import tqdm\n",
    "from skimage.metrics import structural_similarity as ssim\n",
    "from torch.autograd import Variable\n",
    "from matplotlib.pyplot import imshow\n",
    "import matplotlib.pyplot as plt\n",
    "from torchvision.datasets import EMNIST\n",
    "from time import time\n",
    "import sklearn.preprocessing\n",
    "import numpy as np\n",
    "import robust_onlinehd\n",
    "from GenAttack import GenAttack"
   ],
   "outputs": [],
   "metadata": {}
  },
  {
   "cell_type": "code",
   "execution_count": 2,
   "source": [
    "scaler = sklearn.preprocessing.Normalizer()"
   ],
   "outputs": [],
   "metadata": {}
  },
  {
   "cell_type": "code",
   "execution_count": 3,
   "source": [
    "torch.manual_seed(54)"
   ],
   "outputs": [
    {
     "output_type": "execute_result",
     "data": {
      "text/plain": [
       "<torch._C.Generator at 0x7fdac1a44470>"
      ]
     },
     "metadata": {},
     "execution_count": 3
    }
   ],
   "metadata": {}
  },
  {
   "cell_type": "code",
   "execution_count": 4,
   "source": [
    "\n",
    "# loads simple mnist dataset\n",
    "def load():  \n",
    "    temp = EMNIST('./data/EMNIST', split = 'letters', train = True, download = True)\n",
    "    x = temp.data.unsqueeze(3).numpy().transpose((0,2,1,3))\n",
    "    y = temp.targets.numpy() - 1\n",
    "\n",
    "    temp = EMNIST('./data/EMNIST', split = 'letters', train = False, download = True)\n",
    "    x_test = temp.data.unsqueeze(3).numpy().transpose((0,2,1,3))\n",
    "    y_test = temp.targets.numpy() - 1\n",
    "\n",
    "    # changes data to pytorch's tensors\n",
    "    x = torch.from_numpy(x).float()   \n",
    "    y = torch.from_numpy(y).long().squeeze()\n",
    "    x_test = torch.from_numpy(x_test).float()\n",
    "    y_test = torch.from_numpy(y_test).long().squeeze()\n",
    "    \n",
    "    if len(x.shape) == 3:\n",
    "        x = x.unsqueeze(3)\n",
    "        x_test = x_test.unsqueeze(3)\n",
    "\n",
    "    return x, x_test, y, y_test\n",
    "\n",
    "\n",
    "print('Loading...')\n",
    "x, x_test, y, y_test = load()"
   ],
   "outputs": [
    {
     "output_type": "stream",
     "name": "stdout",
     "text": [
      "Loading...\n"
     ]
    }
   ],
   "metadata": {}
  },
  {
   "cell_type": "code",
   "execution_count": 5,
   "source": [
    "#criterias = [(0, 100, 0), (100, 150, 125), (150, 200, 175), (200, 256, 255)]\n",
    "criterias = [(0, 50, 0), (50, 100, 75), (100, 125, 124), (125, 150, 149), (150, 175, 174), (175, 200, 199), (200, 225, 224), (225, 256, 255)]\n",
    "#criterias = []\n",
    "#kernel_size = 3\n",
    "kernel_size = 1\n",
    "classes = y.unique().size(0)\n",
    "features = x.size(1) * x.size(2)\n",
    "model = robust_onlinehd.OnlineHD(criterias, kernel_size, scaler, classes, features, dim = 10000)\n",
    "\n",
    "\n",
    "if torch.cuda.is_available():\n",
    "    #x = x.cuda()\n",
    "    #y = y.cuda()\n",
    "    #x_test = x_test.cuda()\n",
    "    #y_test = y_test.cuda()\n",
    "    model = model.to('cuda')\n",
    "    print('Using GPU!')\n",
    "\n",
    "print('Training...')\n",
    "t = time()\n",
    "\n",
    "model = model.fit(x, y, bootstrap=.3, lr=0.095, epochs=300, batch_size=8196)\n",
    "t = time() - t\n",
    "\n",
    "print('Validating...')\n",
    "yhat = model(x).cpu()\n",
    "yhat_test = model(x_test).cpu()\n",
    "acc = (y == yhat).float().mean()\n",
    "acc_test = (y_test == yhat_test).float().mean()\n",
    "print(f'{acc = :6f}')\n",
    "print(f'{acc_test = :6f}')\n",
    "print(f'{t = :6f}')\n"
   ],
   "outputs": [
    {
     "output_type": "stream",
     "name": "stdout",
     "text": [
      "Using GPU!\n",
      "Training...\n",
      "Validating...\n",
      "acc = 0.994800\n",
      "acc_test = 0.856058\n",
      "t = 99.388161\n"
     ]
    }
   ],
   "metadata": {}
  },
  {
   "cell_type": "code",
   "execution_count": 6,
   "source": [
    "preds = model(x_test).cpu().numpy()\n",
    "#preds = model(x).cpu().numpy()"
   ],
   "outputs": [],
   "metadata": {}
  },
  {
   "cell_type": "code",
   "execution_count": 7,
   "source": [
    "targets = torch.randint(0, 10, preds.shape)\n",
    "for i in tqdm(range(len(preds))):\n",
    "    while targets[i] == preds[i]:\n",
    "        targets[i] = torch.randint(0,10, (1,)).item()"
   ],
   "outputs": [
    {
     "output_type": "stream",
     "name": "stderr",
     "text": [
      "100%|██████████| 20800/20800 [00:00<00:00, 56159.06it/s]\n"
     ]
    }
   ],
   "metadata": {}
  },
  {
   "cell_type": "code",
   "execution_count": 8,
   "source": [
    "unif = torch.ones(targets.shape[0])\n",
    "while True:\n",
    "    indices = unif.multinomial(100)\n",
    "    for idx in indices:\n",
    "        if targets[idx] == y_test[idx]:\n",
    "            break\n",
    "    if idx == indices[-1] and targets[idx] != y_test[idx]:\n",
    "        break\n",
    "    else:\n",
    "        indices = unif.multinomial(100)"
   ],
   "outputs": [],
   "metadata": {}
  },
  {
   "cell_type": "code",
   "execution_count": 9,
   "source": [
    "attacker = GenAttack(model, classes, 28 * 28, scaler, 0.6, 'cuda')\n",
    "N = 8                          # size of population to evolve\n",
    "G = 5000                        # number of generations to evolve through\n",
    "p = torch.FloatTensor([0.9])   # the parameter for Bernoulli distribution used in mutation\n",
    "alpha = torch.FloatTensor([1.0]) # the parameter controlling mutation amount (step-size in the original paper)\n",
    "delta = torch.FloatTensor([0.9]) # the parametr controlling mutation amount (norm threshold in the original paper)"
   ],
   "outputs": [],
   "metadata": {}
  },
  {
   "cell_type": "code",
   "execution_count": 10,
   "source": [
    "pops = []\n",
    "results = []"
   ],
   "outputs": [],
   "metadata": {}
  },
  {
   "cell_type": "code",
   "execution_count": 11,
   "source": [
    "t = time()\n",
    "for i in tqdm(indices):\n",
    "    temp = attacker.attack(x_test[i], targets[i], delta, alpha, p, N, G)\n",
    "    pops.append(temp[0].numpy())\n",
    "    results.append(temp[1])\n",
    "t = time() - t\n",
    "\n",
    "print(f'{t = :6f}')"
   ],
   "outputs": [
    {
     "output_type": "stream",
     "name": "stderr",
     "text": [
      "  1%|          | 1/100 [02:19<3:50:53, 139.94s/it]"
     ]
    },
    {
     "output_type": "stream",
     "name": "stdout",
     "text": [
      "All 5000 generations failed.\n"
     ]
    },
    {
     "output_type": "stream",
     "name": "stderr",
     "text": [
      "  2%|▏         | 2/100 [04:40<3:49:27, 140.48s/it]"
     ]
    },
    {
     "output_type": "stream",
     "name": "stdout",
     "text": [
      "All 5000 generations failed.\n"
     ]
    },
    {
     "output_type": "stream",
     "name": "stderr",
     "text": [
      "  3%|▎         | 3/100 [07:00<3:46:45, 140.26s/it]"
     ]
    },
    {
     "output_type": "stream",
     "name": "stdout",
     "text": [
      "All 5000 generations failed.\n"
     ]
    },
    {
     "output_type": "stream",
     "name": "stderr",
     "text": [
      "  4%|▍         | 4/100 [09:20<3:44:10, 140.11s/it]"
     ]
    },
    {
     "output_type": "stream",
     "name": "stdout",
     "text": [
      "All 5000 generations failed.\n"
     ]
    },
    {
     "output_type": "stream",
     "name": "stderr",
     "text": [
      "  5%|▌         | 5/100 [11:41<3:42:10, 140.32s/it]"
     ]
    },
    {
     "output_type": "stream",
     "name": "stdout",
     "text": [
      "All 5000 generations failed.\n"
     ]
    },
    {
     "output_type": "stream",
     "name": "stderr",
     "text": [
      "  6%|▌         | 6/100 [14:01<3:39:44, 140.26s/it]"
     ]
    },
    {
     "output_type": "stream",
     "name": "stdout",
     "text": [
      "All 5000 generations failed.\n"
     ]
    },
    {
     "output_type": "stream",
     "name": "stderr",
     "text": [
      "  7%|▋         | 7/100 [16:21<3:37:28, 140.30s/it]"
     ]
    },
    {
     "output_type": "stream",
     "name": "stdout",
     "text": [
      "All 5000 generations failed.\n"
     ]
    },
    {
     "output_type": "stream",
     "name": "stderr",
     "text": [
      "  8%|▊         | 8/100 [18:42<3:35:18, 140.42s/it]"
     ]
    },
    {
     "output_type": "stream",
     "name": "stdout",
     "text": [
      "All 5000 generations failed.\n"
     ]
    },
    {
     "output_type": "stream",
     "name": "stderr",
     "text": [
      "  9%|▉         | 9/100 [21:03<3:33:13, 140.59s/it]"
     ]
    },
    {
     "output_type": "stream",
     "name": "stdout",
     "text": [
      "All 5000 generations failed.\n"
     ]
    },
    {
     "output_type": "stream",
     "name": "stderr",
     "text": [
      " 10%|█         | 10/100 [23:23<3:30:33, 140.38s/it]"
     ]
    },
    {
     "output_type": "stream",
     "name": "stdout",
     "text": [
      "All 5000 generations failed.\n"
     ]
    },
    {
     "output_type": "stream",
     "name": "stderr",
     "text": [
      " 11%|█         | 11/100 [25:44<3:28:20, 140.46s/it]"
     ]
    },
    {
     "output_type": "stream",
     "name": "stdout",
     "text": [
      "All 5000 generations failed.\n"
     ]
    },
    {
     "output_type": "stream",
     "name": "stderr",
     "text": [
      " 12%|█▏        | 12/100 [28:04<3:26:03, 140.50s/it]"
     ]
    },
    {
     "output_type": "stream",
     "name": "stdout",
     "text": [
      "All 5000 generations failed.\n"
     ]
    },
    {
     "output_type": "stream",
     "name": "stderr",
     "text": [
      " 13%|█▎        | 13/100 [30:25<3:23:55, 140.64s/it]"
     ]
    },
    {
     "output_type": "stream",
     "name": "stdout",
     "text": [
      "All 5000 generations failed.\n"
     ]
    },
    {
     "output_type": "stream",
     "name": "stderr",
     "text": [
      " 14%|█▍        | 14/100 [32:45<3:21:18, 140.44s/it]"
     ]
    },
    {
     "output_type": "stream",
     "name": "stdout",
     "text": [
      "All 5000 generations failed.\n"
     ]
    },
    {
     "output_type": "stream",
     "name": "stderr",
     "text": [
      " 15%|█▌        | 15/100 [35:06<3:19:00, 140.48s/it]"
     ]
    },
    {
     "output_type": "stream",
     "name": "stdout",
     "text": [
      "All 5000 generations failed.\n"
     ]
    },
    {
     "output_type": "stream",
     "name": "stderr",
     "text": [
      " 16%|█▌        | 16/100 [37:26<3:16:30, 140.36s/it]"
     ]
    },
    {
     "output_type": "stream",
     "name": "stdout",
     "text": [
      "All 5000 generations failed.\n"
     ]
    },
    {
     "output_type": "stream",
     "name": "stderr",
     "text": [
      " 17%|█▋        | 17/100 [39:47<3:14:20, 140.48s/it]"
     ]
    },
    {
     "output_type": "stream",
     "name": "stdout",
     "text": [
      "All 5000 generations failed.\n"
     ]
    },
    {
     "output_type": "stream",
     "name": "stderr",
     "text": [
      " 18%|█▊        | 18/100 [42:07<3:11:55, 140.44s/it]"
     ]
    },
    {
     "output_type": "stream",
     "name": "stdout",
     "text": [
      "All 5000 generations failed.\n"
     ]
    },
    {
     "output_type": "stream",
     "name": "stderr",
     "text": [
      " 19%|█▉        | 19/100 [44:28<3:09:48, 140.60s/it]"
     ]
    },
    {
     "output_type": "stream",
     "name": "stdout",
     "text": [
      "All 5000 generations failed.\n"
     ]
    },
    {
     "output_type": "stream",
     "name": "stderr",
     "text": [
      " 20%|██        | 20/100 [46:49<3:07:31, 140.65s/it]"
     ]
    },
    {
     "output_type": "stream",
     "name": "stdout",
     "text": [
      "All 5000 generations failed.\n"
     ]
    },
    {
     "output_type": "stream",
     "name": "stderr",
     "text": [
      " 21%|██        | 21/100 [49:09<3:05:09, 140.62s/it]"
     ]
    },
    {
     "output_type": "stream",
     "name": "stdout",
     "text": [
      "All 5000 generations failed.\n"
     ]
    },
    {
     "output_type": "stream",
     "name": "stderr",
     "text": [
      " 22%|██▏       | 22/100 [51:30<3:02:50, 140.64s/it]"
     ]
    },
    {
     "output_type": "stream",
     "name": "stdout",
     "text": [
      "All 5000 generations failed.\n"
     ]
    },
    {
     "output_type": "stream",
     "name": "stderr",
     "text": [
      " 23%|██▎       | 23/100 [53:50<3:00:23, 140.57s/it]"
     ]
    },
    {
     "output_type": "stream",
     "name": "stdout",
     "text": [
      "All 5000 generations failed.\n"
     ]
    },
    {
     "output_type": "stream",
     "name": "stderr",
     "text": [
      " 24%|██▍       | 24/100 [56:11<2:58:08, 140.64s/it]"
     ]
    },
    {
     "output_type": "stream",
     "name": "stdout",
     "text": [
      "All 5000 generations failed.\n"
     ]
    },
    {
     "output_type": "stream",
     "name": "stderr",
     "text": [
      " 25%|██▌       | 25/100 [58:32<2:55:56, 140.76s/it]"
     ]
    },
    {
     "output_type": "stream",
     "name": "stdout",
     "text": [
      "All 5000 generations failed.\n"
     ]
    },
    {
     "output_type": "stream",
     "name": "stderr",
     "text": [
      " 26%|██▌       | 26/100 [1:00:53<2:53:41, 140.83s/it]"
     ]
    },
    {
     "output_type": "stream",
     "name": "stdout",
     "text": [
      "All 5000 generations failed.\n"
     ]
    },
    {
     "output_type": "stream",
     "name": "stderr",
     "text": [
      " 27%|██▋       | 27/100 [1:03:13<2:50:55, 140.48s/it]"
     ]
    },
    {
     "output_type": "stream",
     "name": "stdout",
     "text": [
      "All 5000 generations failed.\n"
     ]
    },
    {
     "output_type": "stream",
     "name": "stderr",
     "text": [
      " 28%|██▊       | 28/100 [1:05:34<2:48:48, 140.68s/it]"
     ]
    },
    {
     "output_type": "stream",
     "name": "stdout",
     "text": [
      "All 5000 generations failed.\n"
     ]
    },
    {
     "output_type": "stream",
     "name": "stderr",
     "text": [
      " 29%|██▉       | 29/100 [1:07:54<2:46:23, 140.61s/it]"
     ]
    },
    {
     "output_type": "stream",
     "name": "stdout",
     "text": [
      "All 5000 generations failed.\n"
     ]
    },
    {
     "output_type": "stream",
     "name": "stderr",
     "text": [
      " 30%|███       | 30/100 [1:10:15<2:44:06, 140.67s/it]"
     ]
    },
    {
     "output_type": "stream",
     "name": "stdout",
     "text": [
      "All 5000 generations failed.\n"
     ]
    },
    {
     "output_type": "stream",
     "name": "stderr",
     "text": [
      " 31%|███       | 31/100 [1:12:36<2:41:40, 140.58s/it]"
     ]
    },
    {
     "output_type": "stream",
     "name": "stdout",
     "text": [
      "All 5000 generations failed.\n"
     ]
    },
    {
     "output_type": "stream",
     "name": "stderr",
     "text": [
      " 32%|███▏      | 32/100 [1:14:56<2:39:22, 140.62s/it]"
     ]
    },
    {
     "output_type": "stream",
     "name": "stdout",
     "text": [
      "All 5000 generations failed.\n"
     ]
    },
    {
     "output_type": "stream",
     "name": "stderr",
     "text": [
      " 33%|███▎      | 33/100 [1:17:17<2:36:58, 140.58s/it]"
     ]
    },
    {
     "output_type": "stream",
     "name": "stdout",
     "text": [
      "All 5000 generations failed.\n"
     ]
    },
    {
     "output_type": "stream",
     "name": "stderr",
     "text": [
      " 34%|███▍      | 34/100 [1:19:37<2:34:32, 140.49s/it]"
     ]
    },
    {
     "output_type": "stream",
     "name": "stdout",
     "text": [
      "All 5000 generations failed.\n"
     ]
    },
    {
     "output_type": "stream",
     "name": "stderr",
     "text": [
      " 35%|███▌      | 35/100 [1:21:57<2:31:57, 140.27s/it]"
     ]
    },
    {
     "output_type": "stream",
     "name": "stdout",
     "text": [
      "All 5000 generations failed.\n"
     ]
    },
    {
     "output_type": "stream",
     "name": "stderr",
     "text": [
      " 36%|███▌      | 36/100 [1:24:17<2:29:41, 140.33s/it]"
     ]
    },
    {
     "output_type": "stream",
     "name": "stdout",
     "text": [
      "All 5000 generations failed.\n"
     ]
    },
    {
     "output_type": "stream",
     "name": "stderr",
     "text": [
      " 37%|███▋      | 37/100 [1:26:38<2:27:19, 140.32s/it]"
     ]
    },
    {
     "output_type": "stream",
     "name": "stdout",
     "text": [
      "All 5000 generations failed.\n"
     ]
    },
    {
     "output_type": "stream",
     "name": "stderr",
     "text": [
      " 38%|███▊      | 38/100 [1:28:58<2:24:53, 140.22s/it]"
     ]
    },
    {
     "output_type": "stream",
     "name": "stdout",
     "text": [
      "All 5000 generations failed.\n"
     ]
    },
    {
     "output_type": "stream",
     "name": "stderr",
     "text": [
      " 39%|███▉      | 39/100 [1:31:18<2:22:37, 140.28s/it]"
     ]
    },
    {
     "output_type": "stream",
     "name": "stdout",
     "text": [
      "All 5000 generations failed.\n"
     ]
    },
    {
     "output_type": "stream",
     "name": "stderr",
     "text": [
      " 40%|████      | 40/100 [1:33:38<2:20:19, 140.32s/it]"
     ]
    },
    {
     "output_type": "stream",
     "name": "stdout",
     "text": [
      "All 5000 generations failed.\n"
     ]
    },
    {
     "output_type": "stream",
     "name": "stderr",
     "text": [
      " 41%|████      | 41/100 [1:35:59<2:18:09, 140.50s/it]"
     ]
    },
    {
     "output_type": "stream",
     "name": "stdout",
     "text": [
      "All 5000 generations failed.\n"
     ]
    },
    {
     "output_type": "stream",
     "name": "stderr",
     "text": [
      " 42%|████▏     | 42/100 [1:38:20<2:15:45, 140.45s/it]"
     ]
    },
    {
     "output_type": "stream",
     "name": "stdout",
     "text": [
      "All 5000 generations failed.\n"
     ]
    },
    {
     "output_type": "stream",
     "name": "stderr",
     "text": [
      " 43%|████▎     | 43/100 [1:40:40<2:13:26, 140.46s/it]"
     ]
    },
    {
     "output_type": "stream",
     "name": "stdout",
     "text": [
      "All 5000 generations failed.\n"
     ]
    },
    {
     "output_type": "stream",
     "name": "stderr",
     "text": [
      " 44%|████▍     | 44/100 [1:43:01<2:11:11, 140.56s/it]"
     ]
    },
    {
     "output_type": "stream",
     "name": "stdout",
     "text": [
      "All 5000 generations failed.\n"
     ]
    },
    {
     "output_type": "stream",
     "name": "stderr",
     "text": [
      " 45%|████▌     | 45/100 [1:45:21<2:08:46, 140.48s/it]"
     ]
    },
    {
     "output_type": "stream",
     "name": "stdout",
     "text": [
      "All 5000 generations failed.\n"
     ]
    },
    {
     "output_type": "stream",
     "name": "stderr",
     "text": [
      " 46%|████▌     | 46/100 [1:47:42<2:06:30, 140.57s/it]"
     ]
    },
    {
     "output_type": "stream",
     "name": "stdout",
     "text": [
      "All 5000 generations failed.\n"
     ]
    },
    {
     "output_type": "stream",
     "name": "stderr",
     "text": [
      " 47%|████▋     | 47/100 [1:50:02<2:04:07, 140.52s/it]"
     ]
    },
    {
     "output_type": "stream",
     "name": "stdout",
     "text": [
      "All 5000 generations failed.\n"
     ]
    },
    {
     "output_type": "stream",
     "name": "stderr",
     "text": [
      " 48%|████▊     | 48/100 [1:52:23<2:01:44, 140.47s/it]"
     ]
    },
    {
     "output_type": "stream",
     "name": "stdout",
     "text": [
      "All 5000 generations failed.\n"
     ]
    },
    {
     "output_type": "stream",
     "name": "stderr",
     "text": [
      " 49%|████▉     | 49/100 [1:54:43<1:59:22, 140.45s/it]"
     ]
    },
    {
     "output_type": "stream",
     "name": "stdout",
     "text": [
      "All 5000 generations failed.\n"
     ]
    },
    {
     "output_type": "stream",
     "name": "stderr",
     "text": [
      " 50%|█████     | 50/100 [1:57:04<1:57:04, 140.49s/it]"
     ]
    },
    {
     "output_type": "stream",
     "name": "stdout",
     "text": [
      "All 5000 generations failed.\n"
     ]
    },
    {
     "output_type": "stream",
     "name": "stderr",
     "text": [
      " 51%|█████     | 51/100 [1:59:24<1:54:39, 140.40s/it]"
     ]
    },
    {
     "output_type": "stream",
     "name": "stdout",
     "text": [
      "All 5000 generations failed.\n"
     ]
    },
    {
     "output_type": "stream",
     "name": "stderr",
     "text": [
      " 52%|█████▏    | 52/100 [1:59:32<1:20:28, 100.60s/it]"
     ]
    },
    {
     "output_type": "stream",
     "name": "stdout",
     "text": [
      "All candidates died at generation 276\n",
      "Target =  tensor(9, device='cuda:0')\n"
     ]
    },
    {
     "output_type": "stream",
     "name": "stderr",
     "text": [
      " 53%|█████▎    | 53/100 [2:01:52<1:28:06, 112.47s/it]"
     ]
    },
    {
     "output_type": "stream",
     "name": "stdout",
     "text": [
      "All 5000 generations failed.\n"
     ]
    },
    {
     "output_type": "stream",
     "name": "stderr",
     "text": [
      " 54%|█████▍    | 54/100 [2:04:12<1:32:37, 120.82s/it]"
     ]
    },
    {
     "output_type": "stream",
     "name": "stdout",
     "text": [
      "All 5000 generations failed.\n",
      "All candidates died at generation 0\n",
      "Target =  tensor(0, device='cuda:0')\n"
     ]
    },
    {
     "output_type": "stream",
     "name": "stderr",
     "text": [
      " 56%|█████▌    | 56/100 [2:06:33<1:11:28, 97.47s/it] "
     ]
    },
    {
     "output_type": "stream",
     "name": "stdout",
     "text": [
      "All 5000 generations failed.\n"
     ]
    },
    {
     "output_type": "stream",
     "name": "stderr",
     "text": [
      " 57%|█████▋    | 57/100 [2:08:53<1:17:30, 108.16s/it]"
     ]
    },
    {
     "output_type": "stream",
     "name": "stdout",
     "text": [
      "All 5000 generations failed.\n"
     ]
    },
    {
     "output_type": "stream",
     "name": "stderr",
     "text": [
      " 58%|█████▊    | 58/100 [2:11:14<1:21:41, 116.70s/it]"
     ]
    },
    {
     "output_type": "stream",
     "name": "stdout",
     "text": [
      "All 5000 generations failed.\n"
     ]
    },
    {
     "output_type": "stream",
     "name": "stderr",
     "text": [
      " 59%|█████▉    | 59/100 [2:13:34<1:24:10, 123.18s/it]"
     ]
    },
    {
     "output_type": "stream",
     "name": "stdout",
     "text": [
      "All 5000 generations failed.\n"
     ]
    },
    {
     "output_type": "stream",
     "name": "stderr",
     "text": [
      " 60%|██████    | 60/100 [2:15:55<1:25:25, 128.13s/it]"
     ]
    },
    {
     "output_type": "stream",
     "name": "stdout",
     "text": [
      "All 5000 generations failed.\n"
     ]
    },
    {
     "output_type": "stream",
     "name": "stderr",
     "text": [
      " 61%|██████    | 61/100 [2:18:16<1:25:39, 131.77s/it]"
     ]
    },
    {
     "output_type": "stream",
     "name": "stdout",
     "text": [
      "All 5000 generations failed.\n"
     ]
    },
    {
     "output_type": "stream",
     "name": "stderr",
     "text": [
      " 62%|██████▏   | 62/100 [2:20:37<1:25:02, 134.27s/it]"
     ]
    },
    {
     "output_type": "stream",
     "name": "stdout",
     "text": [
      "All 5000 generations failed.\n"
     ]
    },
    {
     "output_type": "stream",
     "name": "stderr",
     "text": [
      " 63%|██████▎   | 63/100 [2:22:57<1:23:56, 136.13s/it]"
     ]
    },
    {
     "output_type": "stream",
     "name": "stdout",
     "text": [
      "All 5000 generations failed.\n"
     ]
    },
    {
     "output_type": "stream",
     "name": "stderr",
     "text": [
      " 64%|██████▍   | 64/100 [2:25:18<1:22:29, 137.49s/it]"
     ]
    },
    {
     "output_type": "stream",
     "name": "stdout",
     "text": [
      "All 5000 generations failed.\n"
     ]
    },
    {
     "output_type": "stream",
     "name": "stderr",
     "text": [
      " 65%|██████▌   | 65/100 [2:27:39<1:20:45, 138.43s/it]"
     ]
    },
    {
     "output_type": "stream",
     "name": "stdout",
     "text": [
      "All 5000 generations failed.\n"
     ]
    },
    {
     "output_type": "stream",
     "name": "stderr",
     "text": [
      " 66%|██████▌   | 66/100 [2:29:59<1:18:45, 138.99s/it]"
     ]
    },
    {
     "output_type": "stream",
     "name": "stdout",
     "text": [
      "All 5000 generations failed.\n"
     ]
    },
    {
     "output_type": "stream",
     "name": "stderr",
     "text": [
      " 67%|██████▋   | 67/100 [2:32:19<1:16:39, 139.37s/it]"
     ]
    },
    {
     "output_type": "stream",
     "name": "stdout",
     "text": [
      "All 5000 generations failed.\n"
     ]
    },
    {
     "output_type": "stream",
     "name": "stderr",
     "text": [
      " 68%|██████▊   | 68/100 [2:34:39<1:14:26, 139.57s/it]"
     ]
    },
    {
     "output_type": "stream",
     "name": "stdout",
     "text": [
      "All 5000 generations failed.\n"
     ]
    },
    {
     "output_type": "stream",
     "name": "stderr",
     "text": [
      " 69%|██████▉   | 69/100 [2:36:59<1:12:12, 139.74s/it]"
     ]
    },
    {
     "output_type": "stream",
     "name": "stdout",
     "text": [
      "All 5000 generations failed.\n"
     ]
    },
    {
     "output_type": "stream",
     "name": "stderr",
     "text": [
      " 70%|███████   | 70/100 [2:39:20<1:09:59, 139.98s/it]"
     ]
    },
    {
     "output_type": "stream",
     "name": "stdout",
     "text": [
      "All 5000 generations failed.\n"
     ]
    },
    {
     "output_type": "stream",
     "name": "stderr",
     "text": [
      " 71%|███████   | 71/100 [2:39:23<47:48, 98.90s/it]   "
     ]
    },
    {
     "output_type": "stream",
     "name": "stdout",
     "text": [
      "All candidates died at generation 102\n",
      "Target =  tensor(3, device='cuda:0')\n"
     ]
    },
    {
     "output_type": "stream",
     "name": "stderr",
     "text": [
      " 72%|███████▏  | 72/100 [2:41:43<51:58, 111.36s/it]"
     ]
    },
    {
     "output_type": "stream",
     "name": "stdout",
     "text": [
      "All 5000 generations failed.\n"
     ]
    },
    {
     "output_type": "stream",
     "name": "stderr",
     "text": [
      " 73%|███████▎  | 73/100 [2:44:04<54:04, 120.15s/it]"
     ]
    },
    {
     "output_type": "stream",
     "name": "stdout",
     "text": [
      "All 5000 generations failed.\n"
     ]
    },
    {
     "output_type": "stream",
     "name": "stderr",
     "text": [
      " 74%|███████▍  | 74/100 [2:46:24<54:41, 126.22s/it]"
     ]
    },
    {
     "output_type": "stream",
     "name": "stdout",
     "text": [
      "All 5000 generations failed.\n"
     ]
    },
    {
     "output_type": "stream",
     "name": "stderr",
     "text": [
      " 75%|███████▌  | 75/100 [2:48:45<54:23, 130.52s/it]"
     ]
    },
    {
     "output_type": "stream",
     "name": "stdout",
     "text": [
      "All 5000 generations failed.\n"
     ]
    },
    {
     "output_type": "stream",
     "name": "stderr",
     "text": [
      " 76%|███████▌  | 76/100 [2:51:06<53:28, 133.69s/it]"
     ]
    },
    {
     "output_type": "stream",
     "name": "stdout",
     "text": [
      "All 5000 generations failed.\n"
     ]
    },
    {
     "output_type": "stream",
     "name": "stderr",
     "text": [
      " 77%|███████▋  | 77/100 [2:53:27<52:02, 135.75s/it]"
     ]
    },
    {
     "output_type": "stream",
     "name": "stdout",
     "text": [
      "All 5000 generations failed.\n"
     ]
    },
    {
     "output_type": "stream",
     "name": "stderr",
     "text": [
      " 78%|███████▊  | 78/100 [2:55:47<50:17, 137.15s/it]"
     ]
    },
    {
     "output_type": "stream",
     "name": "stdout",
     "text": [
      "All 5000 generations failed.\n"
     ]
    },
    {
     "output_type": "stream",
     "name": "stderr",
     "text": [
      " 79%|███████▉  | 79/100 [2:58:08<48:22, 138.23s/it]"
     ]
    },
    {
     "output_type": "stream",
     "name": "stdout",
     "text": [
      "All 5000 generations failed.\n"
     ]
    },
    {
     "output_type": "stream",
     "name": "stderr",
     "text": [
      " 80%|████████  | 80/100 [3:00:28<46:18, 138.91s/it]"
     ]
    },
    {
     "output_type": "stream",
     "name": "stdout",
     "text": [
      "All 5000 generations failed.\n"
     ]
    },
    {
     "output_type": "stream",
     "name": "stderr",
     "text": [
      " 81%|████████  | 81/100 [3:02:49<44:08, 139.38s/it]"
     ]
    },
    {
     "output_type": "stream",
     "name": "stdout",
     "text": [
      "All 5000 generations failed.\n"
     ]
    },
    {
     "output_type": "stream",
     "name": "stderr",
     "text": [
      " 82%|████████▏ | 82/100 [3:05:09<41:55, 139.75s/it]"
     ]
    },
    {
     "output_type": "stream",
     "name": "stdout",
     "text": [
      "All 5000 generations failed.\n"
     ]
    },
    {
     "output_type": "stream",
     "name": "stderr",
     "text": [
      " 83%|████████▎ | 83/100 [3:07:30<39:38, 139.93s/it]"
     ]
    },
    {
     "output_type": "stream",
     "name": "stdout",
     "text": [
      "All 5000 generations failed.\n"
     ]
    },
    {
     "output_type": "stream",
     "name": "stderr",
     "text": [
      " 84%|████████▍ | 84/100 [3:09:50<37:20, 140.01s/it]"
     ]
    },
    {
     "output_type": "stream",
     "name": "stdout",
     "text": [
      "All 5000 generations failed.\n"
     ]
    },
    {
     "output_type": "stream",
     "name": "stderr",
     "text": [
      " 85%|████████▌ | 85/100 [3:12:11<35:04, 140.33s/it]"
     ]
    },
    {
     "output_type": "stream",
     "name": "stdout",
     "text": [
      "All 5000 generations failed.\n"
     ]
    },
    {
     "output_type": "stream",
     "name": "stderr",
     "text": [
      " 86%|████████▌ | 86/100 [3:14:31<32:45, 140.39s/it]"
     ]
    },
    {
     "output_type": "stream",
     "name": "stdout",
     "text": [
      "All 5000 generations failed.\n"
     ]
    },
    {
     "output_type": "stream",
     "name": "stderr",
     "text": [
      " 87%|████████▋ | 87/100 [3:16:52<30:24, 140.36s/it]"
     ]
    },
    {
     "output_type": "stream",
     "name": "stdout",
     "text": [
      "All 5000 generations failed.\n"
     ]
    },
    {
     "output_type": "stream",
     "name": "stderr",
     "text": [
      " 88%|████████▊ | 88/100 [3:19:12<28:05, 140.44s/it]"
     ]
    },
    {
     "output_type": "stream",
     "name": "stdout",
     "text": [
      "All 5000 generations failed.\n"
     ]
    },
    {
     "output_type": "stream",
     "name": "stderr",
     "text": [
      " 89%|████████▉ | 89/100 [3:21:33<25:45, 140.49s/it]"
     ]
    },
    {
     "output_type": "stream",
     "name": "stdout",
     "text": [
      "All 5000 generations failed.\n",
      "All candidates died at generation 0\n",
      "Target =  tensor(3, device='cuda:0')\n"
     ]
    },
    {
     "output_type": "stream",
     "name": "stderr",
     "text": [
      " 91%|█████████ | 91/100 [3:23:54<16:12, 108.08s/it]"
     ]
    },
    {
     "output_type": "stream",
     "name": "stdout",
     "text": [
      "All 5000 generations failed.\n"
     ]
    },
    {
     "output_type": "stream",
     "name": "stderr",
     "text": [
      " 92%|█████████▏| 92/100 [3:26:04<15:08, 113.58s/it]"
     ]
    },
    {
     "output_type": "stream",
     "name": "stdout",
     "text": [
      "All 5000 generations failed.\n"
     ]
    },
    {
     "output_type": "stream",
     "name": "stderr",
     "text": [
      " 93%|█████████▎| 93/100 [3:27:29<12:22, 106.04s/it]"
     ]
    },
    {
     "output_type": "stream",
     "name": "stdout",
     "text": [
      "All 5000 generations failed.\n"
     ]
    },
    {
     "output_type": "stream",
     "name": "stderr",
     "text": [
      " 94%|█████████▍| 94/100 [3:28:53<10:00, 100.04s/it]"
     ]
    },
    {
     "output_type": "stream",
     "name": "stdout",
     "text": [
      "All 5000 generations failed.\n"
     ]
    },
    {
     "output_type": "stream",
     "name": "stderr",
     "text": [
      " 95%|█████████▌| 95/100 [3:30:17<07:58, 95.68s/it] "
     ]
    },
    {
     "output_type": "stream",
     "name": "stdout",
     "text": [
      "All 5000 generations failed.\n"
     ]
    },
    {
     "output_type": "stream",
     "name": "stderr",
     "text": [
      " 96%|█████████▌| 96/100 [3:31:42<06:10, 92.74s/it]"
     ]
    },
    {
     "output_type": "stream",
     "name": "stdout",
     "text": [
      "All 5000 generations failed.\n"
     ]
    },
    {
     "output_type": "stream",
     "name": "stderr",
     "text": [
      " 97%|█████████▋| 97/100 [3:33:07<04:31, 90.44s/it]"
     ]
    },
    {
     "output_type": "stream",
     "name": "stdout",
     "text": [
      "All 5000 generations failed.\n"
     ]
    },
    {
     "output_type": "stream",
     "name": "stderr",
     "text": [
      " 98%|█████████▊| 98/100 [3:34:33<02:58, 89.12s/it]"
     ]
    },
    {
     "output_type": "stream",
     "name": "stdout",
     "text": [
      "All 5000 generations failed.\n"
     ]
    },
    {
     "output_type": "stream",
     "name": "stderr",
     "text": [
      " 99%|█████████▉| 99/100 [3:35:58<01:27, 87.89s/it]"
     ]
    },
    {
     "output_type": "stream",
     "name": "stdout",
     "text": [
      "All 5000 generations failed.\n"
     ]
    },
    {
     "output_type": "stream",
     "name": "stderr",
     "text": [
      "100%|██████████| 100/100 [3:37:23<00:00, 130.43s/it]"
     ]
    },
    {
     "output_type": "stream",
     "name": "stdout",
     "text": [
      "All 5000 generations failed.\n",
      "t = 13043.168766\n"
     ]
    },
    {
     "output_type": "stream",
     "name": "stderr",
     "text": [
      "\n"
     ]
    }
   ],
   "metadata": {}
  },
  {
   "cell_type": "code",
   "execution_count": 12,
   "source": [
    "pops = np.array(pops)"
   ],
   "outputs": [],
   "metadata": {}
  },
  {
   "cell_type": "code",
   "execution_count": 13,
   "source": [
    "sample_preds = preds[indices]"
   ],
   "outputs": [],
   "metadata": {}
  },
  {
   "cell_type": "code",
   "execution_count": 14,
   "source": [
    "new_preds = []\n",
    "for i in range(100):\n",
    "    new_preds.append(model(torch.tensor(pops[i])).cpu().numpy())"
   ],
   "outputs": [],
   "metadata": {}
  },
  {
   "cell_type": "code",
   "execution_count": 15,
   "source": [
    "success = 0\n",
    "success_idx = []\n",
    "for i in range(100):\n",
    "    if targets[indices[i]].item() in new_preds[i]:\n",
    "        success_idx.append((indices[i].item(), (i, np.where(new_preds[i] == targets[indices[i]].item())[0][0])))\n",
    "        success += 1\n",
    "print(success)"
   ],
   "outputs": [
    {
     "output_type": "stream",
     "name": "stdout",
     "text": [
      "0\n"
     ]
    }
   ],
   "metadata": {}
  },
  {
   "cell_type": "code",
   "execution_count": 16,
   "source": [
    "cache = {\n",
    "    'indices' : indices,\n",
    "    'sample_preds' : sample_preds,\n",
    "    'pops' : np.array(pops),\n",
    "    'hyper_parameter' : [N, G, p, alpha, delta],\n",
    "    'success_idx' : success_idx,\n",
    "    'model' : model, \n",
    "    'scaler' : model.scaler,\n",
    "    'targets' : targets,\n",
    "    'results' : results\n",
    "}"
   ],
   "outputs": [],
   "metadata": {}
  },
  {
   "cell_type": "code",
   "execution_count": 17,
   "source": [
    "torch.save(cache, 'robust_onlinehd_emnist.pt')"
   ],
   "outputs": [],
   "metadata": {}
  },
  {
   "cell_type": "code",
   "execution_count": 18,
   "source": [
    "model(torch.tensor(pops[0]))"
   ],
   "outputs": [
    {
     "output_type": "execute_result",
     "data": {
      "text/plain": [
       "tensor([15, 15, 15, 15, 15, 15, 15, 15], device='cuda:0')"
      ]
     },
     "metadata": {},
     "execution_count": 18
    }
   ],
   "metadata": {}
  },
  {
   "cell_type": "code",
   "execution_count": 19,
   "source": [
    "labels = {\n",
    "    0 : 'a',\n",
    "    1 : 'b',\n",
    "    2 : 'c',\n",
    "    3 : 'd',\n",
    "    4 : 'e',\n",
    "    5 : 'f',\n",
    "    6 : 'g',\n",
    "    7 : 'h',\n",
    "    8 : 'i',\n",
    "    9 : 'j',\n",
    "    10 : 'k',\n",
    "    11 : 'l',\n",
    "    12 : 'm',\n",
    "    13 : 'n',\n",
    "    14 : 'o',\n",
    "    15 : 'p',\n",
    "    16 : 'q',\n",
    "    17 : 'r',\n",
    "    18 : 's',\n",
    "    19 : 't',\n",
    "    20 : 'u',\n",
    "    21 : 'v',\n",
    "    22 : 'w',\n",
    "    23 : 'x',\n",
    "    24 : 'y',\n",
    "    25 : 'z'\n",
    "}"
   ],
   "outputs": [],
   "metadata": {}
  },
  {
   "cell_type": "code",
   "execution_count": 20,
   "source": [
    "origin_idx, (new_idx, new_idx_idx) = success_idx[torch.randint(0, len(success_idx), (1,)).item()]\n",
    "\n",
    "f, axes = plt.subplots(1, 2)\n",
    "axes[0].imshow(x_test[origin_idx], cmap=plt.gray())\n",
    "_ = axes[0].set_title('Properly classified : %s' % labels[sample_preds[new_idx].item()])\n",
    "axes[1].imshow(pops[new_idx][new_idx_idx].astype(np.int32))\n",
    "_ = axes[1].set_title('Misclassified : %s' % labels[new_preds[new_idx][new_idx_idx]])"
   ],
   "outputs": [
    {
     "output_type": "error",
     "ename": "RuntimeError",
     "evalue": "random_ expects 'from' to be less than 'to', but got from=0 >= to=0",
     "traceback": [
      "\u001b[0;31m---------------------------------------------------------------------------\u001b[0m",
      "\u001b[0;31mRuntimeError\u001b[0m                              Traceback (most recent call last)",
      "\u001b[0;32m<ipython-input-20-37df94a4035d>\u001b[0m in \u001b[0;36m<module>\u001b[0;34m\u001b[0m\n\u001b[0;32m----> 1\u001b[0;31m \u001b[0morigin_idx\u001b[0m\u001b[0;34m,\u001b[0m \u001b[0;34m(\u001b[0m\u001b[0mnew_idx\u001b[0m\u001b[0;34m,\u001b[0m \u001b[0mnew_idx_idx\u001b[0m\u001b[0;34m)\u001b[0m \u001b[0;34m=\u001b[0m \u001b[0msuccess_idx\u001b[0m\u001b[0;34m[\u001b[0m\u001b[0mtorch\u001b[0m\u001b[0;34m.\u001b[0m\u001b[0mrandint\u001b[0m\u001b[0;34m(\u001b[0m\u001b[0;36m0\u001b[0m\u001b[0;34m,\u001b[0m \u001b[0mlen\u001b[0m\u001b[0;34m(\u001b[0m\u001b[0msuccess_idx\u001b[0m\u001b[0;34m)\u001b[0m\u001b[0;34m,\u001b[0m \u001b[0;34m(\u001b[0m\u001b[0;36m1\u001b[0m\u001b[0;34m,\u001b[0m\u001b[0;34m)\u001b[0m\u001b[0;34m)\u001b[0m\u001b[0;34m.\u001b[0m\u001b[0mitem\u001b[0m\u001b[0;34m(\u001b[0m\u001b[0;34m)\u001b[0m\u001b[0;34m]\u001b[0m\u001b[0;34m\u001b[0m\u001b[0;34m\u001b[0m\u001b[0m\n\u001b[0m\u001b[1;32m      2\u001b[0m \u001b[0;34m\u001b[0m\u001b[0m\n\u001b[1;32m      3\u001b[0m \u001b[0mf\u001b[0m\u001b[0;34m,\u001b[0m \u001b[0maxes\u001b[0m \u001b[0;34m=\u001b[0m \u001b[0mplt\u001b[0m\u001b[0;34m.\u001b[0m\u001b[0msubplots\u001b[0m\u001b[0;34m(\u001b[0m\u001b[0;36m1\u001b[0m\u001b[0;34m,\u001b[0m \u001b[0;36m2\u001b[0m\u001b[0;34m)\u001b[0m\u001b[0;34m\u001b[0m\u001b[0;34m\u001b[0m\u001b[0m\n\u001b[1;32m      4\u001b[0m \u001b[0maxes\u001b[0m\u001b[0;34m[\u001b[0m\u001b[0;36m0\u001b[0m\u001b[0;34m]\u001b[0m\u001b[0;34m.\u001b[0m\u001b[0mimshow\u001b[0m\u001b[0;34m(\u001b[0m\u001b[0mx_test\u001b[0m\u001b[0;34m[\u001b[0m\u001b[0morigin_idx\u001b[0m\u001b[0;34m]\u001b[0m\u001b[0;34m,\u001b[0m \u001b[0mcmap\u001b[0m\u001b[0;34m=\u001b[0m\u001b[0mplt\u001b[0m\u001b[0;34m.\u001b[0m\u001b[0mgray\u001b[0m\u001b[0;34m(\u001b[0m\u001b[0;34m)\u001b[0m\u001b[0;34m)\u001b[0m\u001b[0;34m\u001b[0m\u001b[0;34m\u001b[0m\u001b[0m\n\u001b[1;32m      5\u001b[0m \u001b[0m_\u001b[0m \u001b[0;34m=\u001b[0m \u001b[0maxes\u001b[0m\u001b[0;34m[\u001b[0m\u001b[0;36m0\u001b[0m\u001b[0;34m]\u001b[0m\u001b[0;34m.\u001b[0m\u001b[0mset_title\u001b[0m\u001b[0;34m(\u001b[0m\u001b[0;34m'Properly classified : %s'\u001b[0m \u001b[0;34m%\u001b[0m \u001b[0mlabels\u001b[0m\u001b[0;34m[\u001b[0m\u001b[0msample_preds\u001b[0m\u001b[0;34m[\u001b[0m\u001b[0mnew_idx\u001b[0m\u001b[0;34m]\u001b[0m\u001b[0;34m.\u001b[0m\u001b[0mitem\u001b[0m\u001b[0;34m(\u001b[0m\u001b[0;34m)\u001b[0m\u001b[0;34m]\u001b[0m\u001b[0;34m)\u001b[0m\u001b[0;34m\u001b[0m\u001b[0;34m\u001b[0m\u001b[0m\n",
      "\u001b[0;31mRuntimeError\u001b[0m: random_ expects 'from' to be less than 'to', but got from=0 >= to=0"
     ]
    }
   ],
   "metadata": {}
  }
 ],
 "metadata": {
  "orig_nbformat": 4,
  "language_info": {
   "name": "python",
   "version": "3.8.10",
   "mimetype": "text/x-python",
   "codemirror_mode": {
    "name": "ipython",
    "version": 3
   },
   "pygments_lexer": "ipython3",
   "nbconvert_exporter": "python",
   "file_extension": ".py"
  },
  "kernelspec": {
   "name": "python3",
   "display_name": "Python 3.8.10 64-bit ('py38': conda)"
  },
  "interpreter": {
   "hash": "3db542ac60b6226dd50a79a39a56822b2dbbe89167b91e3ffb64b8d7c630bc20"
  }
 },
 "nbformat": 4,
 "nbformat_minor": 2
}