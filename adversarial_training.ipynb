{
 "cells": [
  {
   "cell_type": "code",
   "execution_count": 1,
   "source": [
    "import numpy as np\n",
    "import torch\n",
    "from tqdm import tqdm\n",
    "from skimage.metrics import structural_similarity as ssim\n",
    "from torch.autograd import Variable\n",
    "from matplotlib.pyplot import imshow\n",
    "import matplotlib.pyplot as plt\n",
    "from tensorflow.keras.datasets import mnist\n",
    "from time import time\n",
    "import sklearn.preprocessing\n",
    "import numpy as np\n",
    "import robust_onlinehd\n",
    "from GenAttack import GenAttack\n",
    "from tensorflow.keras.datasets import mnist, fashion_mnist\n",
    "from torchvision.datasets import EMNIST\n",
    "import pickle"
   ],
   "outputs": [],
   "metadata": {}
  },
  {
   "cell_type": "code",
   "execution_count": 2,
   "source": [
    "torch.manual_seed(27)"
   ],
   "outputs": [
    {
     "output_type": "execute_result",
     "data": {
      "text/plain": [
       "<torch._C.Generator at 0x7f3914be64f0>"
      ]
     },
     "metadata": {},
     "execution_count": 2
    }
   ],
   "metadata": {}
  },
  {
   "cell_type": "code",
   "execution_count": 3,
   "source": [
    "dataset = \"emnist\"\n",
    "algo = [ 'JSMA', 'DeepFool', 'FSGM']"
   ],
   "outputs": [],
   "metadata": {}
  },
  {
   "cell_type": "code",
   "execution_count": 4,
   "source": [
    "# loads simple mnist dataset\n",
    "def load():\n",
    "    if dataset == 'mnist':\n",
    "        (x, y), (x_test, y_test) = mnist.load_data()\n",
    "    elif dataset == 'fashion_mnist':\n",
    "        (x, y), (x_test, y_test) = fashion_mnist.load_data()\n",
    "    else:\n",
    "        temp = EMNIST('./data/EMNIST', split = 'letters', train = True, download = True)\n",
    "        x = temp.data.unsqueeze(3).numpy().transpose((0,2,1,3))\n",
    "        y = temp.targets.numpy() - 1\n",
    "\n",
    "        temp = EMNIST('./data/EMNIST', split = 'letters', train = False, download = True)\n",
    "        x_test = temp.data.unsqueeze(3).numpy().transpose((0,2,1,3))\n",
    "        y_test = temp.targets.numpy() - 1 \n",
    "\n",
    "    # changes data to pytorch's tensors\n",
    "    x = torch.from_numpy(x).float()   \n",
    "    y = torch.from_numpy(y).long().squeeze()\n",
    "    x_test = torch.from_numpy(x_test).float()\n",
    "    y_test = torch.from_numpy(y_test).long().squeeze()\n",
    "    \n",
    "    if len(x.shape) == 3:\n",
    "        x = x.unsqueeze(3)\n",
    "        x_test = x_test.unsqueeze(3)\n",
    "\n",
    "    return x, x_test, y, y_test\n",
    "\n",
    "\n",
    "print('Loading...')\n",
    "x, x_test, y, y_test = load()"
   ],
   "outputs": [
    {
     "output_type": "stream",
     "name": "stdout",
     "text": [
      "Loading...\n"
     ]
    }
   ],
   "metadata": {}
  },
  {
   "cell_type": "code",
   "execution_count": 6,
   "source": [
    "x_test.shape"
   ],
   "outputs": [
    {
     "output_type": "execute_result",
     "data": {
      "text/plain": [
       "torch.Size([20800, 28, 28, 1])"
      ]
     },
     "metadata": {},
     "execution_count": 6
    }
   ],
   "metadata": {}
  },
  {
   "cell_type": "code",
   "execution_count": 5,
   "source": [
    "if dataset == \"fashion_mnist\":\n",
    "    dataset = \"FMNIST\"\n",
    "elif dataset == \"mnist\":\n",
    "    dataset = \"MNIST\"\n",
    "else:\n",
    "    dataset = \"EMNIST\""
   ],
   "outputs": [],
   "metadata": {}
  },
  {
   "cell_type": "code",
   "execution_count": 6,
   "source": [
    "examples = {}"
   ],
   "outputs": [],
   "metadata": {}
  },
  {
   "cell_type": "code",
   "execution_count": 7,
   "source": [
    "for a in algo:\n",
    "    if a == \"JSMA\":\n",
    "        data = pickle.load(open('/workspace/shared/HDC_data/%s_%s.pickle' % (dataset, a), 'rb'))\n",
    "        examples['%s train_x' % a] = data['train_data']\n",
    "        examples['%s train_y' % a] = data['train_label']\n",
    "        examples['%s test_x' % a] = data['test_data']\n",
    "        examples['%s test_y' % a] = data['test_label']\n",
    "    elif a == \"DeepFool\":\n",
    "        data = pickle.load(open('/workspace/shared/HDC_data/%s_%s.pickle' % (dataset, a), 'rb'))\n",
    "        examples['%s train_x' % a] = torch.from_numpy(data['train_data'])\n",
    "        examples['%s train_y' % a] = data['train_label']\n",
    "        examples['%s test_x' % a] = torch.from_numpy(data['test_data'])\n",
    "        examples['%s test_y' % a] = data['test_label']\n",
    "    else:\n",
    "        with open('/workspace/shared/HDC_data/%s_%s.pickle' % (dataset, a), 'rb') as f:\n",
    "            examples['%s train_x' % a] = pickle.load(f).clone().detach()\n",
    "            examples['%s train_y' % a] = pickle.load(f).clone().detach().long()\n",
    "            examples['%s test_x' % a] = pickle.load(f).clone().detach()\n",
    "            examples['%s test_y' % a] = pickle.load(f).clone().detach().long()\n",
    "\n",
    "    examples['%s train_x' % a] = examples['%s train_x' % a].unsqueeze(3)\n",
    "    examples['%s test_x' % a] = examples['%s test_x' % a].unsqueeze(3)\n",
    "    examples['%s train_y' % a] = examples['%s train_y' % a].squeeze()\n",
    "    examples['%s test_y' % a] = examples['%s test_y' % a].squeeze()"
   ],
   "outputs": [],
   "metadata": {}
  },
  {
   "cell_type": "code",
   "execution_count": 8,
   "source": [
    "new_x = x.clone().detach()\n",
    "new_y = y.clone().detach()\n",
    "new_x = torch.cat((new_x, *[examples['%s train_x' %a] for a in algo]))\n",
    "new_y = torch.cat((new_y, *[examples['%s train_y' %a] for a in algo]))"
   ],
   "outputs": [],
   "metadata": {}
  },
  {
   "cell_type": "code",
   "execution_count": 9,
   "source": [
    "new_x_test = x_test.clone().detach()\n",
    "new_y_test = y_test.clone().detach()\n",
    "new_x_test = torch.cat((new_x_test, *[examples['%s test_x' %a] for a in algo]))\n",
    "new_y_test = torch.cat((new_y_test, *[examples['%s test_y' %a] for a in algo]))"
   ],
   "outputs": [],
   "metadata": {}
  },
  {
   "cell_type": "code",
   "execution_count": 12,
   "source": [
    "if dataset == \"EMNIST\":\n",
    "    unif = torch.ones(new_x.shape[0])\n",
    "    indices = unif.multinomial(int(new_x.shape[0] * 0.85))\n",
    "else:\n",
    "    indices = range(new_x.shape[0])"
   ],
   "outputs": [],
   "metadata": {}
  },
  {
   "cell_type": "code",
   "execution_count": 13,
   "source": [
    "kernel_size = 3\n",
    "classes = y.unique().size(0)\n",
    "model = robust_onlinehd.OnlineHD(False, x[0].shape, kernel_size, sklearn.preprocessing.Normalizer(), classes, dim = 10000)\n",
    "if dataset == \"FMNIST\":\n",
    "    model.set_criterias(x, 10)\n",
    "else:\n",
    "    model.set_criterias(x, 8)\n",
    "\n",
    "\n",
    "if torch.cuda.is_available():\n",
    "    model = model.to(\"cuda:1\")\n",
    "    print('Using GPU!')\n",
    "\n",
    "print('Training...')\n",
    "t = time()\n",
    "\n",
    "model = model.fit(new_x[indices], new_y[indices], bootstrap=.3, lr=0.095, epochs=300, batch_size=8196)\n",
    "t = time() - t\n",
    "\n",
    "print('Validating...')\n",
    "yhat = model(new_x).cpu()\n",
    "yhat_test = model(new_x_test).cpu()\n",
    "acc = (new_y == yhat).float().mean()\n",
    "acc_test = (new_y_test == yhat_test).float().mean()\n",
    "print(f'{acc = :6f}')\n",
    "print(f'{acc_test = :6f}')\n",
    "print(f'{t = :6f}')\n"
   ],
   "outputs": [
    {
     "output_type": "stream",
     "name": "stdout",
     "text": [
      "Using GPU!\n",
      "Training...\n"
     ]
    }
   ],
   "metadata": {}
  },
  {
   "cell_type": "code",
   "execution_count": null,
   "source": [
    "test_pred = model(x_test).cpu()\n",
    "print('origin', (test_pred == y_test).float().mean())\n",
    "for a in algo:\n",
    "    test_pred = model(examples['%s test_x' % a]).cpu()\n",
    "    print(a, (test_pred == examples['%s test_y' % a]).float().mean())"
   ],
   "outputs": [
    {
     "output_type": "stream",
     "name": "stdout",
     "text": [
      "origin tensor(0.8204)\n",
      "JSMA tensor(0.6621)\n",
      "DeepFool tensor(0.8053)\n",
      "FSGM tensor(0.9542)\n"
     ]
    }
   ],
   "metadata": {}
  }
 ],
 "metadata": {
  "orig_nbformat": 4,
  "language_info": {
   "name": "python",
   "version": "3.8.10",
   "mimetype": "text/x-python",
   "codemirror_mode": {
    "name": "ipython",
    "version": 3
   },
   "pygments_lexer": "ipython3",
   "nbconvert_exporter": "python",
   "file_extension": ".py"
  },
  "kernelspec": {
   "name": "python3",
   "display_name": "Python 3.8.10 64-bit ('py38': conda)"
  },
  "interpreter": {
   "hash": "3db542ac60b6226dd50a79a39a56822b2dbbe89167b91e3ffb64b8d7c630bc20"
  }
 },
 "nbformat": 4,
 "nbformat_minor": 2
}