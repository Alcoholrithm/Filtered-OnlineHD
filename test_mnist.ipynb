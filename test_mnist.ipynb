{
 "cells": [
  {
   "cell_type": "code",
   "execution_count": 1,
   "source": [
    "import numpy as np\n",
    "import torch\n",
    "from tqdm import tqdm\n",
    "from skimage.metrics import structural_similarity as ssim\n",
    "from torch.autograd import Variable\n",
    "from matplotlib.pyplot import imshow\n",
    "import matplotlib.pyplot as plt\n",
    "from tensorflow.keras.datasets import mnist\n",
    "from time import time\n",
    "import sklearn.preprocessing\n",
    "import numpy as np\n",
    "import robust_onlinehd\n",
    "from GenAttack import GenAttack"
   ],
   "outputs": [],
   "metadata": {}
  },
  {
   "cell_type": "code",
   "execution_count": 2,
   "source": [
    "scaler = sklearn.preprocessing.Normalizer()"
   ],
   "outputs": [],
   "metadata": {}
  },
  {
   "cell_type": "code",
   "execution_count": 3,
   "source": [
    "torch.manual_seed(33)"
   ],
   "outputs": [
    {
     "output_type": "execute_result",
     "data": {
      "text/plain": [
       "<torch._C.Generator at 0x7f09372024f0>"
      ]
     },
     "metadata": {},
     "execution_count": 3
    }
   ],
   "metadata": {}
  },
  {
   "cell_type": "code",
   "execution_count": 4,
   "source": [
    "\n",
    "# loads simple mnist dataset\n",
    "def load():  \n",
    "    (x, y), (x_test, y_test) = mnist.load_data()\n",
    "\n",
    "\n",
    "    # changes data to pytorch's tensors\n",
    "    x = torch.from_numpy(x).float()   \n",
    "    y = torch.from_numpy(y).long().squeeze()\n",
    "    x_test = torch.from_numpy(x_test).float()\n",
    "    y_test = torch.from_numpy(y_test).long().squeeze()\n",
    "    \n",
    "    if len(x.shape) == 3:\n",
    "        x = x.unsqueeze(3)\n",
    "        x_test = x_test.unsqueeze(3)\n",
    "\n",
    "    return x, x_test, y, y_test\n",
    "\n",
    "\n",
    "print('Loading...')\n",
    "x, x_test, y, y_test = load()"
   ],
   "outputs": [
    {
     "output_type": "stream",
     "name": "stdout",
     "text": [
      "Loading...\n"
     ]
    }
   ],
   "metadata": {}
  },
  {
   "cell_type": "code",
   "execution_count": 5,
   "source": [
    "#criterias = [(0, 100, 0), (100, 150, 125), (150, 200, 175), (200, 256, 255)]\n",
    "#criterias = [(0, 50, 0), (50, 100, 75), (100, 125, 124), (125, 150, 149), (150, 175, 174), (175, 200, 199), (200, 225, 224), (225, 256, 255)]\n",
    "#criterias = []\n",
    "#kernel_size = 3\n",
    "kernel_size = 1\n",
    "classes = y.unique().size(0)\n",
    "features = x.size(1) * x.size(2)\n",
    "model = robust_onlinehd.OnlineHD(kernel_size, scaler, classes, features, dim = 10000)"
   ],
   "outputs": [],
   "metadata": {}
  },
  {
   "cell_type": "code",
   "execution_count": 6,
   "source": [
    "model.set_criterias(x, 8)\n",
    "\n",
    "if torch.cuda.is_available():\n",
    "    #x = x.cuda()\n",
    "    #y = y.cuda()\n",
    "    #x_test = x_test.cuda()\n",
    "    #y_test = y_test.cuda()\n",
    "    model = model.to('cuda')\n",
    "    print('Using GPU!')\n",
    "\n",
    "print('Training...')\n",
    "t = time()\n",
    "\n",
    "model = model.fit(x, y, bootstrap=.3, lr=0.095, epochs=300, batch_size=8196)\n",
    "t = time() - t\n",
    "\n",
    "print('Validating...')\n",
    "yhat = model(x).cpu()\n",
    "yhat_test = model(x_test).cpu()\n",
    "acc = (y == yhat).float().mean()\n",
    "acc_test = (y_test == yhat_test).float().mean()\n",
    "print(f'{acc = :6f}')\n",
    "print(f'{acc_test = :6f}')\n",
    "print(f'{t = :6f}')\n"
   ],
   "outputs": [
    {
     "output_type": "stream",
     "name": "stdout",
     "text": [
      "Using GPU!\n",
      "Training...\n"
     ]
    }
   ],
   "metadata": {}
  },
  {
   "cell_type": "code",
   "execution_count": null,
   "source": [
    "preds = model(x_test).cpu().numpy()\n",
    "#preds = model(x).cpu().numpy()"
   ],
   "outputs": [],
   "metadata": {}
  },
  {
   "cell_type": "code",
   "execution_count": null,
   "source": [
    "targets = torch.randint(0, 10, preds.shape)\n",
    "for i in tqdm(range(len(preds))):\n",
    "    while targets[i] == preds[i]:\n",
    "        targets[i] = torch.randint(0,10, (1,)).item()"
   ],
   "outputs": [
    {
     "output_type": "stream",
     "name": "stderr",
     "text": [
      "100%|██████████| 10000/10000 [00:00<00:00, 51448.01it/s]\n"
     ]
    }
   ],
   "metadata": {}
  },
  {
   "cell_type": "code",
   "execution_count": null,
   "source": [
    "unif = torch.ones(targets.shape[0])\n",
    "while True:\n",
    "    indices = unif.multinomial(100)\n",
    "    for idx in indices:\n",
    "        if targets[idx] == y_test[idx]:\n",
    "            break\n",
    "    if idx == indices[-1] and targets[idx] != y_test[idx]:\n",
    "        break\n",
    "    else:\n",
    "        indices = unif.multinomial(100)"
   ],
   "outputs": [],
   "metadata": {}
  },
  {
   "cell_type": "code",
   "execution_count": null,
   "source": [
    "attacker = GenAttack(model, classes, 28 * 28, model.scaler, 0.3, 'cuda')\n",
    "N = 8                          # size of population to evolve\n",
    "G = 5000                        # number of generations to evolve through\n",
    "p = torch.FloatTensor([0.9])   # the parameter for Bernoulli distribution used in mutation\n",
    "alpha = torch.FloatTensor([1.0]) # the parameter controlling mutation amount (step-size in the original paper)\n",
    "delta = torch.FloatTensor([.9]) # the parametr controlling mutation amount (norm threshold in the original paper)"
   ],
   "outputs": [],
   "metadata": {}
  },
  {
   "cell_type": "code",
   "execution_count": null,
   "source": [
    "pops = []\n",
    "results = []"
   ],
   "outputs": [],
   "metadata": {}
  },
  {
   "cell_type": "code",
   "execution_count": null,
   "source": [
    "t = time()\n",
    "for i in tqdm(indices):\n",
    "    temp = attacker.attack(x_test[i], targets[i], delta, alpha, p, N, G)\n",
    "    pops.append(temp[0].numpy())\n",
    "    results.append(temp[1])\n",
    "t = time() - t\n",
    "\n",
    "print(f'{t = :6f}')"
   ],
   "outputs": [
    {
     "output_type": "stream",
     "name": "stderr",
     "text": [
      "  1%|          | 1/100 [04:01<6:38:52, 241.74s/it]"
     ]
    },
    {
     "output_type": "stream",
     "name": "stdout",
     "text": [
      "All 5000 generations failed.\n"
     ]
    },
    {
     "output_type": "stream",
     "name": "stderr",
     "text": [
      "  2%|▏         | 2/100 [07:55<6:27:15, 237.09s/it]"
     ]
    },
    {
     "output_type": "stream",
     "name": "stdout",
     "text": [
      "All 5000 generations failed.\n"
     ]
    },
    {
     "output_type": "stream",
     "name": "stderr",
     "text": [
      "  3%|▎         | 3/100 [11:42<6:15:34, 232.32s/it]"
     ]
    },
    {
     "output_type": "stream",
     "name": "stdout",
     "text": [
      "All 5000 generations failed.\n"
     ]
    },
    {
     "output_type": "stream",
     "name": "stderr",
     "text": [
      "  4%|▍         | 4/100 [15:28<6:08:02, 230.02s/it]"
     ]
    },
    {
     "output_type": "stream",
     "name": "stdout",
     "text": [
      "All 5000 generations failed.\n"
     ]
    },
    {
     "output_type": "stream",
     "name": "stderr",
     "text": [
      "  5%|▌         | 5/100 [19:14<6:01:58, 228.61s/it]"
     ]
    },
    {
     "output_type": "stream",
     "name": "stdout",
     "text": [
      "All 5000 generations failed.\n"
     ]
    },
    {
     "output_type": "stream",
     "name": "stderr",
     "text": [
      "  6%|▌         | 6/100 [23:00<5:56:46, 227.73s/it]"
     ]
    },
    {
     "output_type": "stream",
     "name": "stdout",
     "text": [
      "All 5000 generations failed.\n"
     ]
    },
    {
     "output_type": "stream",
     "name": "stderr",
     "text": [
      "  7%|▋         | 7/100 [26:47<5:52:37, 227.51s/it]"
     ]
    },
    {
     "output_type": "stream",
     "name": "stdout",
     "text": [
      "All 5000 generations failed.\n"
     ]
    },
    {
     "output_type": "stream",
     "name": "stderr",
     "text": [
      "  8%|▊         | 8/100 [30:34<5:48:14, 227.11s/it]"
     ]
    },
    {
     "output_type": "stream",
     "name": "stdout",
     "text": [
      "All 5000 generations failed.\n"
     ]
    },
    {
     "output_type": "stream",
     "name": "stderr",
     "text": [
      "  9%|▉         | 9/100 [34:20<5:44:13, 226.96s/it]"
     ]
    },
    {
     "output_type": "stream",
     "name": "stdout",
     "text": [
      "All 5000 generations failed.\n"
     ]
    },
    {
     "output_type": "stream",
     "name": "stderr",
     "text": [
      " 10%|█         | 10/100 [38:06<5:40:05, 226.73s/it]"
     ]
    },
    {
     "output_type": "stream",
     "name": "stdout",
     "text": [
      "All 5000 generations failed.\n"
     ]
    },
    {
     "output_type": "stream",
     "name": "stderr",
     "text": [
      " 11%|█         | 11/100 [41:56<5:37:26, 227.49s/it]"
     ]
    },
    {
     "output_type": "stream",
     "name": "stdout",
     "text": [
      "All 5000 generations failed.\n"
     ]
    },
    {
     "output_type": "stream",
     "name": "stderr",
     "text": [
      " 12%|█▏        | 12/100 [45:42<5:33:19, 227.27s/it]"
     ]
    },
    {
     "output_type": "stream",
     "name": "stdout",
     "text": [
      "All 5000 generations failed.\n"
     ]
    },
    {
     "output_type": "stream",
     "name": "stderr",
     "text": [
      " 13%|█▎        | 13/100 [49:29<5:29:15, 227.08s/it]"
     ]
    },
    {
     "output_type": "stream",
     "name": "stdout",
     "text": [
      "All 5000 generations failed.\n"
     ]
    },
    {
     "output_type": "stream",
     "name": "stderr",
     "text": [
      " 14%|█▍        | 14/100 [53:17<5:25:47, 227.30s/it]"
     ]
    },
    {
     "output_type": "stream",
     "name": "stdout",
     "text": [
      "All 5000 generations failed.\n"
     ]
    },
    {
     "output_type": "stream",
     "name": "stderr",
     "text": [
      " 15%|█▌        | 15/100 [57:06<5:22:36, 227.72s/it]"
     ]
    },
    {
     "output_type": "stream",
     "name": "stdout",
     "text": [
      "All 5000 generations failed.\n"
     ]
    },
    {
     "output_type": "stream",
     "name": "stderr",
     "text": [
      " 16%|█▌        | 16/100 [1:00:52<5:18:21, 227.40s/it]"
     ]
    },
    {
     "output_type": "stream",
     "name": "stdout",
     "text": [
      "All 5000 generations failed.\n"
     ]
    },
    {
     "output_type": "stream",
     "name": "stderr",
     "text": [
      " 17%|█▋        | 17/100 [1:04:37<5:13:30, 226.63s/it]"
     ]
    },
    {
     "output_type": "stream",
     "name": "stdout",
     "text": [
      "All 5000 generations failed.\n"
     ]
    },
    {
     "output_type": "stream",
     "name": "stderr",
     "text": [
      " 18%|█▊        | 18/100 [1:08:24<5:09:43, 226.63s/it]"
     ]
    },
    {
     "output_type": "stream",
     "name": "stdout",
     "text": [
      "All 5000 generations failed.\n"
     ]
    },
    {
     "output_type": "stream",
     "name": "stderr",
     "text": [
      " 19%|█▉        | 19/100 [1:12:13<5:07:04, 227.46s/it]"
     ]
    },
    {
     "output_type": "stream",
     "name": "stdout",
     "text": [
      "All 5000 generations failed.\n"
     ]
    },
    {
     "output_type": "stream",
     "name": "stderr",
     "text": [
      " 20%|██        | 20/100 [1:15:59<5:02:48, 227.10s/it]"
     ]
    },
    {
     "output_type": "stream",
     "name": "stdout",
     "text": [
      "All 5000 generations failed.\n"
     ]
    },
    {
     "output_type": "stream",
     "name": "stderr",
     "text": [
      " 21%|██        | 21/100 [1:19:47<4:59:23, 227.38s/it]"
     ]
    },
    {
     "output_type": "stream",
     "name": "stdout",
     "text": [
      "All 5000 generations failed.\n"
     ]
    },
    {
     "output_type": "stream",
     "name": "stderr",
     "text": [
      " 22%|██▏       | 22/100 [1:23:35<4:55:32, 227.34s/it]"
     ]
    },
    {
     "output_type": "stream",
     "name": "stdout",
     "text": [
      "All 5000 generations failed.\n"
     ]
    },
    {
     "output_type": "stream",
     "name": "stderr",
     "text": [
      " 23%|██▎       | 23/100 [1:27:22<4:51:36, 227.23s/it]"
     ]
    },
    {
     "output_type": "stream",
     "name": "stdout",
     "text": [
      "All 5000 generations failed.\n"
     ]
    },
    {
     "output_type": "stream",
     "name": "stderr",
     "text": [
      " 24%|██▍       | 24/100 [1:31:09<4:47:40, 227.12s/it]"
     ]
    },
    {
     "output_type": "stream",
     "name": "stdout",
     "text": [
      "All 5000 generations failed.\n"
     ]
    },
    {
     "output_type": "stream",
     "name": "stderr",
     "text": [
      " 25%|██▌       | 25/100 [1:34:56<4:43:51, 227.09s/it]"
     ]
    },
    {
     "output_type": "stream",
     "name": "stdout",
     "text": [
      "All 5000 generations failed.\n"
     ]
    },
    {
     "output_type": "stream",
     "name": "stderr",
     "text": [
      " 26%|██▌       | 26/100 [1:38:43<4:40:05, 227.10s/it]"
     ]
    },
    {
     "output_type": "stream",
     "name": "stdout",
     "text": [
      "All 5000 generations failed.\n"
     ]
    },
    {
     "output_type": "stream",
     "name": "stderr",
     "text": [
      " 27%|██▋       | 27/100 [1:42:30<4:36:14, 227.05s/it]"
     ]
    },
    {
     "output_type": "stream",
     "name": "stdout",
     "text": [
      "All 5000 generations failed.\n"
     ]
    },
    {
     "output_type": "stream",
     "name": "stderr",
     "text": [
      " 28%|██▊       | 28/100 [1:46:16<4:32:12, 226.84s/it]"
     ]
    },
    {
     "output_type": "stream",
     "name": "stdout",
     "text": [
      "All 5000 generations failed.\n"
     ]
    },
    {
     "output_type": "stream",
     "name": "stderr",
     "text": [
      " 29%|██▉       | 29/100 [1:50:03<4:28:40, 227.04s/it]"
     ]
    },
    {
     "output_type": "stream",
     "name": "stdout",
     "text": [
      "All 5000 generations failed.\n"
     ]
    },
    {
     "output_type": "stream",
     "name": "stderr",
     "text": [
      " 30%|███       | 30/100 [1:53:51<4:24:54, 227.07s/it]"
     ]
    },
    {
     "output_type": "stream",
     "name": "stdout",
     "text": [
      "All 5000 generations failed.\n"
     ]
    },
    {
     "output_type": "stream",
     "name": "stderr",
     "text": [
      " 31%|███       | 31/100 [1:57:38<4:21:14, 227.16s/it]"
     ]
    },
    {
     "output_type": "stream",
     "name": "stdout",
     "text": [
      "All 5000 generations failed.\n"
     ]
    },
    {
     "output_type": "stream",
     "name": "stderr",
     "text": [
      " 32%|███▏      | 32/100 [2:01:26<4:17:47, 227.46s/it]"
     ]
    },
    {
     "output_type": "stream",
     "name": "stdout",
     "text": [
      "All 5000 generations failed.\n"
     ]
    },
    {
     "output_type": "stream",
     "name": "stderr",
     "text": [
      " 33%|███▎      | 33/100 [2:05:13<4:13:42, 227.20s/it]"
     ]
    },
    {
     "output_type": "stream",
     "name": "stdout",
     "text": [
      "All 5000 generations failed.\n"
     ]
    },
    {
     "output_type": "stream",
     "name": "stderr",
     "text": [
      " 34%|███▍      | 34/100 [2:09:00<4:09:52, 227.16s/it]"
     ]
    },
    {
     "output_type": "stream",
     "name": "stdout",
     "text": [
      "All 5000 generations failed.\n"
     ]
    },
    {
     "output_type": "stream",
     "name": "stderr",
     "text": [
      " 35%|███▌      | 35/100 [2:12:48<4:06:20, 227.39s/it]"
     ]
    },
    {
     "output_type": "stream",
     "name": "stdout",
     "text": [
      "All 5000 generations failed.\n"
     ]
    },
    {
     "output_type": "stream",
     "name": "stderr",
     "text": [
      " 36%|███▌      | 36/100 [2:16:35<4:02:25, 227.27s/it]"
     ]
    },
    {
     "output_type": "stream",
     "name": "stdout",
     "text": [
      "All 5000 generations failed.\n"
     ]
    },
    {
     "output_type": "stream",
     "name": "stderr",
     "text": [
      " 37%|███▋      | 37/100 [2:20:22<3:58:36, 227.24s/it]"
     ]
    },
    {
     "output_type": "stream",
     "name": "stdout",
     "text": [
      "All 5000 generations failed.\n"
     ]
    },
    {
     "output_type": "stream",
     "name": "stderr",
     "text": [
      " 38%|███▊      | 38/100 [2:24:08<3:54:33, 226.99s/it]"
     ]
    },
    {
     "output_type": "stream",
     "name": "stdout",
     "text": [
      "All 5000 generations failed.\n"
     ]
    },
    {
     "output_type": "stream",
     "name": "stderr",
     "text": [
      " 39%|███▉      | 39/100 [2:27:55<3:50:35, 226.81s/it]"
     ]
    },
    {
     "output_type": "stream",
     "name": "stdout",
     "text": [
      "All 5000 generations failed.\n"
     ]
    },
    {
     "output_type": "stream",
     "name": "stderr",
     "text": [
      " 40%|████      | 40/100 [2:31:41<3:46:45, 226.76s/it]"
     ]
    },
    {
     "output_type": "stream",
     "name": "stdout",
     "text": [
      "All 5000 generations failed.\n"
     ]
    },
    {
     "output_type": "stream",
     "name": "stderr",
     "text": [
      " 41%|████      | 41/100 [2:35:29<3:43:13, 227.02s/it]"
     ]
    },
    {
     "output_type": "stream",
     "name": "stdout",
     "text": [
      "All 5000 generations failed.\n"
     ]
    },
    {
     "output_type": "stream",
     "name": "stderr",
     "text": [
      " 42%|████▏     | 42/100 [2:39:16<3:39:21, 226.92s/it]"
     ]
    },
    {
     "output_type": "stream",
     "name": "stdout",
     "text": [
      "All 5000 generations failed.\n"
     ]
    },
    {
     "output_type": "stream",
     "name": "stderr",
     "text": [
      " 43%|████▎     | 43/100 [2:43:03<3:35:48, 227.16s/it]"
     ]
    },
    {
     "output_type": "stream",
     "name": "stdout",
     "text": [
      "All 5000 generations failed.\n"
     ]
    },
    {
     "output_type": "stream",
     "name": "stderr",
     "text": [
      " 44%|████▍     | 44/100 [2:46:51<3:32:04, 227.22s/it]"
     ]
    },
    {
     "output_type": "stream",
     "name": "stdout",
     "text": [
      "All 5000 generations failed.\n"
     ]
    },
    {
     "output_type": "stream",
     "name": "stderr",
     "text": [
      " 45%|████▌     | 45/100 [2:50:38<3:28:14, 227.18s/it]"
     ]
    },
    {
     "output_type": "stream",
     "name": "stdout",
     "text": [
      "All 5000 generations failed.\n"
     ]
    },
    {
     "output_type": "stream",
     "name": "stderr",
     "text": [
      " 46%|████▌     | 46/100 [2:54:26<3:24:52, 227.63s/it]"
     ]
    },
    {
     "output_type": "stream",
     "name": "stdout",
     "text": [
      "All 5000 generations failed.\n"
     ]
    },
    {
     "output_type": "stream",
     "name": "stderr",
     "text": [
      " 47%|████▋     | 47/100 [2:58:16<3:21:36, 228.24s/it]"
     ]
    },
    {
     "output_type": "stream",
     "name": "stdout",
     "text": [
      "All 5000 generations failed.\n"
     ]
    },
    {
     "output_type": "stream",
     "name": "stderr",
     "text": [
      " 48%|████▊     | 48/100 [3:01:48<3:13:31, 223.29s/it]"
     ]
    },
    {
     "output_type": "stream",
     "name": "stdout",
     "text": [
      "All 5000 generations failed.\n"
     ]
    },
    {
     "output_type": "stream",
     "name": "stderr",
     "text": [
      " 49%|████▉     | 49/100 [3:05:36<3:11:00, 224.72s/it]"
     ]
    },
    {
     "output_type": "stream",
     "name": "stdout",
     "text": [
      "All 5000 generations failed.\n"
     ]
    },
    {
     "output_type": "stream",
     "name": "stderr",
     "text": [
      " 50%|█████     | 50/100 [3:09:23<3:07:54, 225.49s/it]"
     ]
    },
    {
     "output_type": "stream",
     "name": "stdout",
     "text": [
      "All 5000 generations failed.\n"
     ]
    },
    {
     "output_type": "stream",
     "name": "stderr",
     "text": [
      " 51%|█████     | 51/100 [3:13:09<3:04:16, 225.63s/it]"
     ]
    },
    {
     "output_type": "stream",
     "name": "stdout",
     "text": [
      "All 5000 generations failed.\n"
     ]
    },
    {
     "output_type": "stream",
     "name": "stderr",
     "text": [
      " 52%|█████▏    | 52/100 [3:16:56<3:00:41, 225.86s/it]"
     ]
    },
    {
     "output_type": "stream",
     "name": "stdout",
     "text": [
      "All 5000 generations failed.\n"
     ]
    },
    {
     "output_type": "stream",
     "name": "stderr",
     "text": [
      " 53%|█████▎    | 53/100 [3:20:43<2:57:16, 226.30s/it]"
     ]
    },
    {
     "output_type": "stream",
     "name": "stdout",
     "text": [
      "All 5000 generations failed.\n"
     ]
    },
    {
     "output_type": "stream",
     "name": "stderr",
     "text": [
      " 54%|█████▍    | 54/100 [3:24:30<2:53:36, 226.44s/it]"
     ]
    },
    {
     "output_type": "stream",
     "name": "stdout",
     "text": [
      "All 5000 generations failed.\n"
     ]
    },
    {
     "output_type": "stream",
     "name": "stderr",
     "text": [
      " 55%|█████▌    | 55/100 [3:28:17<2:50:05, 226.78s/it]"
     ]
    },
    {
     "output_type": "stream",
     "name": "stdout",
     "text": [
      "All 5000 generations failed.\n"
     ]
    },
    {
     "output_type": "stream",
     "name": "stderr",
     "text": [
      " 56%|█████▌    | 56/100 [3:32:03<2:46:10, 226.61s/it]"
     ]
    },
    {
     "output_type": "stream",
     "name": "stdout",
     "text": [
      "All 5000 generations failed.\n"
     ]
    },
    {
     "output_type": "stream",
     "name": "stderr",
     "text": [
      " 57%|█████▋    | 57/100 [3:35:50<2:42:18, 226.47s/it]"
     ]
    },
    {
     "output_type": "stream",
     "name": "stdout",
     "text": [
      "All 5000 generations failed.\n"
     ]
    },
    {
     "output_type": "stream",
     "name": "stderr",
     "text": [
      " 58%|█████▊    | 58/100 [3:39:32<2:37:44, 225.35s/it]"
     ]
    },
    {
     "output_type": "stream",
     "name": "stdout",
     "text": [
      "All 5000 generations failed.\n"
     ]
    },
    {
     "output_type": "stream",
     "name": "stderr",
     "text": [
      " 59%|█████▉    | 59/100 [3:43:20<2:34:24, 225.97s/it]"
     ]
    },
    {
     "output_type": "stream",
     "name": "stdout",
     "text": [
      "All 5000 generations failed.\n"
     ]
    },
    {
     "output_type": "stream",
     "name": "stderr",
     "text": [
      " 60%|██████    | 60/100 [3:47:06<2:30:46, 226.17s/it]"
     ]
    },
    {
     "output_type": "stream",
     "name": "stdout",
     "text": [
      "All 5000 generations failed.\n"
     ]
    },
    {
     "output_type": "stream",
     "name": "stderr",
     "text": [
      " 61%|██████    | 61/100 [3:50:52<2:26:59, 226.14s/it]"
     ]
    },
    {
     "output_type": "stream",
     "name": "stdout",
     "text": [
      "All 5000 generations failed.\n"
     ]
    },
    {
     "output_type": "stream",
     "name": "stderr",
     "text": [
      " 62%|██████▏   | 62/100 [3:54:40<2:23:28, 226.53s/it]"
     ]
    },
    {
     "output_type": "stream",
     "name": "stdout",
     "text": [
      "All 5000 generations failed.\n"
     ]
    },
    {
     "output_type": "stream",
     "name": "stderr",
     "text": [
      " 63%|██████▎   | 63/100 [3:58:28<2:19:54, 226.88s/it]"
     ]
    },
    {
     "output_type": "stream",
     "name": "stdout",
     "text": [
      "All 5000 generations failed.\n"
     ]
    },
    {
     "output_type": "stream",
     "name": "stderr",
     "text": [
      " 64%|██████▍   | 64/100 [4:02:15<2:16:08, 226.90s/it]"
     ]
    },
    {
     "output_type": "stream",
     "name": "stdout",
     "text": [
      "All 5000 generations failed.\n"
     ]
    },
    {
     "output_type": "stream",
     "name": "stderr",
     "text": [
      " 65%|██████▌   | 65/100 [4:06:03<2:12:39, 227.40s/it]"
     ]
    },
    {
     "output_type": "stream",
     "name": "stdout",
     "text": [
      "All 5000 generations failed.\n"
     ]
    },
    {
     "output_type": "stream",
     "name": "stderr",
     "text": [
      " 66%|██████▌   | 66/100 [4:09:51<2:08:51, 227.41s/it]"
     ]
    },
    {
     "output_type": "stream",
     "name": "stdout",
     "text": [
      "All 5000 generations failed.\n"
     ]
    },
    {
     "output_type": "stream",
     "name": "stderr",
     "text": [
      " 67%|██████▋   | 67/100 [4:11:26<1:43:17, 187.80s/it]"
     ]
    },
    {
     "output_type": "stream",
     "name": "stdout",
     "text": [
      "Attack Success at generation 2101\n"
     ]
    },
    {
     "output_type": "stream",
     "name": "stderr",
     "text": [
      " 68%|██████▊   | 68/100 [4:15:08<1:45:36, 198.01s/it]"
     ]
    },
    {
     "output_type": "stream",
     "name": "stdout",
     "text": [
      "All 5000 generations failed.\n"
     ]
    },
    {
     "output_type": "stream",
     "name": "stderr",
     "text": [
      " 69%|██████▉   | 69/100 [4:18:54<1:46:42, 206.52s/it]"
     ]
    },
    {
     "output_type": "stream",
     "name": "stdout",
     "text": [
      "All 5000 generations failed.\n"
     ]
    },
    {
     "output_type": "stream",
     "name": "stderr",
     "text": [
      " 70%|███████   | 70/100 [4:22:41<1:46:15, 212.51s/it]"
     ]
    },
    {
     "output_type": "stream",
     "name": "stdout",
     "text": [
      "All 5000 generations failed.\n"
     ]
    },
    {
     "output_type": "stream",
     "name": "stderr",
     "text": [
      " 71%|███████   | 71/100 [4:26:28<1:44:49, 216.89s/it]"
     ]
    },
    {
     "output_type": "stream",
     "name": "stdout",
     "text": [
      "All 5000 generations failed.\n"
     ]
    },
    {
     "output_type": "stream",
     "name": "stderr",
     "text": [
      " 72%|███████▏  | 72/100 [4:30:15<1:42:41, 220.04s/it]"
     ]
    },
    {
     "output_type": "stream",
     "name": "stdout",
     "text": [
      "All 5000 generations failed.\n"
     ]
    },
    {
     "output_type": "stream",
     "name": "stderr",
     "text": [
      " 73%|███████▎  | 73/100 [4:34:03<1:40:04, 222.38s/it]"
     ]
    },
    {
     "output_type": "stream",
     "name": "stdout",
     "text": [
      "All 5000 generations failed.\n"
     ]
    },
    {
     "output_type": "stream",
     "name": "stderr",
     "text": [
      " 74%|███████▍  | 74/100 [4:37:49<1:36:48, 223.40s/it]"
     ]
    },
    {
     "output_type": "stream",
     "name": "stdout",
     "text": [
      "All 5000 generations failed.\n"
     ]
    },
    {
     "output_type": "stream",
     "name": "stderr",
     "text": [
      " 75%|███████▌  | 75/100 [4:41:35<1:33:29, 224.37s/it]"
     ]
    },
    {
     "output_type": "stream",
     "name": "stdout",
     "text": [
      "All 5000 generations failed.\n"
     ]
    },
    {
     "output_type": "stream",
     "name": "stderr",
     "text": [
      " 76%|███████▌  | 76/100 [4:45:22<1:29:59, 224.99s/it]"
     ]
    },
    {
     "output_type": "stream",
     "name": "stdout",
     "text": [
      "All 5000 generations failed.\n"
     ]
    },
    {
     "output_type": "stream",
     "name": "stderr",
     "text": [
      " 77%|███████▋  | 77/100 [4:49:08<1:26:23, 225.35s/it]"
     ]
    },
    {
     "output_type": "stream",
     "name": "stdout",
     "text": [
      "All 5000 generations failed.\n"
     ]
    },
    {
     "output_type": "stream",
     "name": "stderr",
     "text": [
      " 78%|███████▊  | 78/100 [4:52:55<1:22:47, 225.79s/it]"
     ]
    },
    {
     "output_type": "stream",
     "name": "stdout",
     "text": [
      "All 5000 generations failed.\n"
     ]
    },
    {
     "output_type": "stream",
     "name": "stderr",
     "text": [
      " 79%|███████▉  | 79/100 [4:56:41<1:19:04, 225.94s/it]"
     ]
    },
    {
     "output_type": "stream",
     "name": "stdout",
     "text": [
      "All 5000 generations failed.\n"
     ]
    },
    {
     "output_type": "stream",
     "name": "stderr",
     "text": [
      " 80%|████████  | 80/100 [5:00:28<1:15:21, 226.08s/it]"
     ]
    },
    {
     "output_type": "stream",
     "name": "stdout",
     "text": [
      "All 5000 generations failed.\n"
     ]
    },
    {
     "output_type": "stream",
     "name": "stderr",
     "text": [
      " 81%|████████  | 81/100 [5:04:13<1:11:32, 225.93s/it]"
     ]
    },
    {
     "output_type": "stream",
     "name": "stdout",
     "text": [
      "All 5000 generations failed.\n"
     ]
    },
    {
     "output_type": "stream",
     "name": "stderr",
     "text": [
      " 82%|████████▏ | 82/100 [5:07:59<1:07:47, 225.98s/it]"
     ]
    },
    {
     "output_type": "stream",
     "name": "stdout",
     "text": [
      "All 5000 generations failed.\n"
     ]
    },
    {
     "output_type": "stream",
     "name": "stderr",
     "text": [
      " 83%|████████▎ | 83/100 [5:11:45<1:04:02, 226.05s/it]"
     ]
    },
    {
     "output_type": "stream",
     "name": "stdout",
     "text": [
      "All 5000 generations failed.\n"
     ]
    },
    {
     "output_type": "stream",
     "name": "stderr",
     "text": [
      " 84%|████████▍ | 84/100 [5:15:33<1:00:25, 226.58s/it]"
     ]
    },
    {
     "output_type": "stream",
     "name": "stdout",
     "text": [
      "All 5000 generations failed.\n"
     ]
    },
    {
     "output_type": "stream",
     "name": "stderr",
     "text": [
      " 85%|████████▌ | 85/100 [5:19:20<56:39, 226.66s/it]  "
     ]
    },
    {
     "output_type": "stream",
     "name": "stdout",
     "text": [
      "All 5000 generations failed.\n"
     ]
    },
    {
     "output_type": "stream",
     "name": "stderr",
     "text": [
      " 86%|████████▌ | 86/100 [5:23:07<52:54, 226.72s/it]"
     ]
    },
    {
     "output_type": "stream",
     "name": "stdout",
     "text": [
      "All 5000 generations failed.\n"
     ]
    },
    {
     "output_type": "stream",
     "name": "stderr",
     "text": [
      " 87%|████████▋ | 87/100 [5:26:54<49:07, 226.72s/it]"
     ]
    },
    {
     "output_type": "stream",
     "name": "stdout",
     "text": [
      "All 5000 generations failed.\n"
     ]
    },
    {
     "output_type": "stream",
     "name": "stderr",
     "text": [
      " 88%|████████▊ | 88/100 [5:30:41<45:23, 226.99s/it]"
     ]
    },
    {
     "output_type": "stream",
     "name": "stdout",
     "text": [
      "All 5000 generations failed.\n"
     ]
    },
    {
     "output_type": "stream",
     "name": "stderr",
     "text": [
      " 89%|████████▉ | 89/100 [5:34:28<41:37, 227.01s/it]"
     ]
    },
    {
     "output_type": "stream",
     "name": "stdout",
     "text": [
      "All 5000 generations failed.\n"
     ]
    },
    {
     "output_type": "stream",
     "name": "stderr",
     "text": [
      " 90%|█████████ | 90/100 [5:38:15<37:48, 226.83s/it]"
     ]
    },
    {
     "output_type": "stream",
     "name": "stdout",
     "text": [
      "All 5000 generations failed.\n"
     ]
    },
    {
     "output_type": "stream",
     "name": "stderr",
     "text": [
      " 91%|█████████ | 91/100 [5:42:02<34:01, 226.84s/it]"
     ]
    },
    {
     "output_type": "stream",
     "name": "stdout",
     "text": [
      "All 5000 generations failed.\n"
     ]
    },
    {
     "output_type": "stream",
     "name": "stderr",
     "text": [
      " 92%|█████████▏| 92/100 [5:45:49<30:16, 227.06s/it]"
     ]
    },
    {
     "output_type": "stream",
     "name": "stdout",
     "text": [
      "All 5000 generations failed.\n"
     ]
    },
    {
     "output_type": "stream",
     "name": "stderr",
     "text": [
      " 93%|█████████▎| 93/100 [5:49:36<26:28, 226.93s/it]"
     ]
    },
    {
     "output_type": "stream",
     "name": "stdout",
     "text": [
      "All 5000 generations failed.\n"
     ]
    },
    {
     "output_type": "stream",
     "name": "stderr",
     "text": [
      " 94%|█████████▍| 94/100 [5:53:23<22:42, 227.07s/it]"
     ]
    },
    {
     "output_type": "stream",
     "name": "stdout",
     "text": [
      "All 5000 generations failed.\n"
     ]
    },
    {
     "output_type": "stream",
     "name": "stderr",
     "text": [
      " 95%|█████████▌| 95/100 [5:57:10<18:55, 227.07s/it]"
     ]
    },
    {
     "output_type": "stream",
     "name": "stdout",
     "text": [
      "All 5000 generations failed.\n"
     ]
    },
    {
     "output_type": "stream",
     "name": "stderr",
     "text": [
      " 96%|█████████▌| 96/100 [5:59:42<13:37, 204.34s/it]"
     ]
    },
    {
     "output_type": "stream",
     "name": "stdout",
     "text": [
      "All 5000 generations failed.\n"
     ]
    },
    {
     "output_type": "stream",
     "name": "stderr",
     "text": [
      " 97%|█████████▋| 97/100 [6:01:58<09:11, 183.93s/it]"
     ]
    },
    {
     "output_type": "stream",
     "name": "stdout",
     "text": [
      "All 5000 generations failed.\n"
     ]
    },
    {
     "output_type": "stream",
     "name": "stderr",
     "text": [
      " 98%|█████████▊| 98/100 [6:04:14<05:39, 169.55s/it]"
     ]
    },
    {
     "output_type": "stream",
     "name": "stdout",
     "text": [
      "All 5000 generations failed.\n"
     ]
    },
    {
     "output_type": "stream",
     "name": "stderr",
     "text": [
      " 99%|█████████▉| 99/100 [6:06:30<02:39, 159.59s/it]"
     ]
    },
    {
     "output_type": "stream",
     "name": "stdout",
     "text": [
      "All 5000 generations failed.\n"
     ]
    },
    {
     "output_type": "stream",
     "name": "stderr",
     "text": [
      "100%|██████████| 100/100 [6:08:46<00:00, 221.27s/it]"
     ]
    },
    {
     "output_type": "stream",
     "name": "stdout",
     "text": [
      "All 5000 generations failed.\n",
      "t = 22126.547835\n"
     ]
    },
    {
     "output_type": "stream",
     "name": "stderr",
     "text": [
      "\n"
     ]
    }
   ],
   "metadata": {}
  },
  {
   "cell_type": "code",
   "execution_count": null,
   "source": [
    "pops = np.array(pops)"
   ],
   "outputs": [],
   "metadata": {}
  },
  {
   "cell_type": "code",
   "execution_count": null,
   "source": [
    "sample_preds = preds[indices]"
   ],
   "outputs": [],
   "metadata": {}
  },
  {
   "cell_type": "code",
   "execution_count": null,
   "source": [
    "new_preds = []\n",
    "for i in range(100):\n",
    "    new_preds.append(model(torch.tensor(pops[i])).cpu().numpy())"
   ],
   "outputs": [],
   "metadata": {}
  },
  {
   "cell_type": "code",
   "execution_count": null,
   "source": [
    "success = 0\n",
    "success_idx = []\n",
    "for i in range(100):\n",
    "    if targets[indices[i]].item() in new_preds[i]:\n",
    "        success_idx.append((indices[i].item(), (i, np.where(new_preds[i] == targets[indices[i]].item())[0][0])))\n",
    "        success += 1\n",
    "print(success)"
   ],
   "outputs": [
    {
     "output_type": "stream",
     "name": "stdout",
     "text": [
      "1\n"
     ]
    }
   ],
   "metadata": {}
  },
  {
   "cell_type": "code",
   "execution_count": null,
   "source": [
    "cache = {\n",
    "    'indices' : indices,\n",
    "    'sample_preds' : sample_preds,\n",
    "    'pops' : np.array(pops),\n",
    "    'hyper_parameter' : [N, G, p, alpha, delta],\n",
    "    'success_idx' : success_idx,\n",
    "    'model' : model, \n",
    "    'scaler' : model.scaler,\n",
    "    'targets' : targets,\n",
    "    'results' : results\n",
    "}"
   ],
   "outputs": [],
   "metadata": {}
  },
  {
   "cell_type": "code",
   "execution_count": null,
   "source": [
    "torch.save(cache, 'robust_onlinehd_mnist.pt')"
   ],
   "outputs": [],
   "metadata": {}
  },
  {
   "cell_type": "code",
   "execution_count": null,
   "source": [
    "model(torch.tensor(pops[13]))"
   ],
   "outputs": [
    {
     "output_type": "execute_result",
     "data": {
      "text/plain": [
       "tensor([4, 4, 4, 4, 4, 4, 4, 4], device='cuda:0')"
      ]
     },
     "metadata": {},
     "execution_count": 18
    }
   ],
   "metadata": {}
  },
  {
   "cell_type": "code",
   "execution_count": null,
   "source": [
    "labels = {\n",
    "    0 : '0',\n",
    "    1 : '1',\n",
    "    2 : '2',\n",
    "    3 : '3',\n",
    "    4 : '4',\n",
    "    5 : '5',\n",
    "    6 : '6',\n",
    "    7 : '7',\n",
    "    8 : '8',\n",
    "    9 : '9'\n",
    "}"
   ],
   "outputs": [],
   "metadata": {}
  },
  {
   "cell_type": "code",
   "execution_count": null,
   "source": [
    "origin_idx, (new_idx, new_idx_idx) = success_idx[torch.randint(0, len(success_idx), (1,)).item()]\n",
    "\n",
    "f, axes = plt.subplots(1, 2)\n",
    "axes[0].imshow(x_test[origin_idx], cmap=plt.gray())\n",
    "_ = axes[0].set_title('Properly classified : %s' % labels[sample_preds[new_idx].item()])\n",
    "axes[1].imshow(pops[new_idx][new_idx_idx].astype(np.int32))\n",
    "_ = axes[1].set_title('Misclassified : %s' % labels[new_preds[new_idx][new_idx_idx]])"
   ],
   "outputs": [
    {
     "output_type": "display_data",
     "data": {
      "text/plain": [
       "<Figure size 432x288 with 2 Axes>"
      ],
      "image/svg+xml": "<?xml version=\"1.0\" encoding=\"utf-8\" standalone=\"no\"?>\n<!DOCTYPE svg PUBLIC \"-//W3C//DTD SVG 1.1//EN\"\n  \"http://www.w3.org/Graphics/SVG/1.1/DTD/svg11.dtd\">\n<svg height=\"198.378068pt\" version=\"1.1\" viewBox=\"0 0 368.925 198.378068\" width=\"368.925pt\" xmlns=\"http://www.w3.org/2000/svg\" xmlns:xlink=\"http://www.w3.org/1999/xlink\">\n <metadata>\n  <rdf:RDF xmlns:cc=\"http://creativecommons.org/ns#\" xmlns:dc=\"http://purl.org/dc/elements/1.1/\" xmlns:rdf=\"http://www.w3.org/1999/02/22-rdf-syntax-ns#\">\n   <cc:Work>\n    <dc:type rdf:resource=\"http://purl.org/dc/dcmitype/StillImage\"/>\n    <dc:date>2021-08-09T00:40:34.518846</dc:date>\n    <dc:format>image/svg+xml</dc:format>\n    <dc:creator>\n     <cc:Agent>\n      <dc:title>Matplotlib v3.4.2, https://matplotlib.org/</dc:title>\n     </cc:Agent>\n    </dc:creator>\n   </cc:Work>\n  </rdf:RDF>\n </metadata>\n <defs>\n  <style type=\"text/css\">*{stroke-linecap:butt;stroke-linejoin:round;}</style>\n </defs>\n <g id=\"figure_1\">\n  <g id=\"patch_1\">\n   <path d=\"M -0 198.378068 \nL 368.925 198.378068 \nL 368.925 0 \nL -0 0 \nz\n\" style=\"fill:none;\"/>\n  </g>\n  <g id=\"axes_1\">\n   <g id=\"patch_2\">\n    <path d=\"M 26.925 174.499943 \nL 179.106818 174.499943 \nL 179.106818 22.318125 \nL 26.925 22.318125 \nz\n\" style=\"fill:#ffffff;\"/>\n   </g>\n   <g clip-path=\"url(#pa491bb330e)\">\n    <image height=\"153\" id=\"image6aa17f9e94\" transform=\"scale(1 -1)translate(0 -153)\" width=\"153\" x=\"26.925\" xlink:href=\"data:image/png;base64,\niVBORw0KGgoAAAANSUhEUgAAAJkAAACZCAYAAAA8XJi6AAAE3ElEQVR4nO3dPyj9exzH8Y/rloH8XRjkKKEQJbaT4pBSlN2oyGhhk7Iok8EgymCRhZI/EYOUMpnOMRhIiQwohNw73Lp3+Ly/t8Px+v3O+Xo+xnef43yGZ5++377OOVnOub8cIPTH794Awo/IIEdkkCMyyBEZ5IgMckQGOSKDHJFBjsgg9+fv3sB3qK+vN+dHR0feLJFImGuj0ag3e3l5SW1jcM5xkuEXIDLIERnkiAxyobjwLy8vN+d5eXnerLm52VwbiUS8WTweT2lf+AcnGeSIDHJEBjkigxyRQS7LheDTStnZ2eb8/PzcmwXdiS4sLHizwcHB1DYG5xwnGX4BIoMckUGOyCAXigv/ILOzs95sZGTEXPv29ubNcnJyvn1PPxEnGeSIDHJEBjkigxyRQS7Ud5exWMyb7ezsmGvf39+9WWFhoTd7enpKeV8/DScZ5IgMckQGOSKDXKgv/K1PK52dnZlrS0tLvdnk5KQ3m5iYSHlfPw0nGeSIDHJEBjkigxyRQS7Ud5eWpaUlcz4wMODNrq6uvFlLS4v5+uvr69Q2FmKcZJAjMsgRGeSIDHI/7sK/ra3NnO/v7yf1+tbWVnN+cnLy5T2FHScZ5IgMckQGOSKDHJFB7sfdXVZVVZnz4+Njb1ZUVOTNNjY2zNf39fV5s4+Pj0/uLpw4ySBHZJAjMsgRGeRC8dtKQRfz1tcMBLm/v/dm1oV/T0+P+fr29nZvtru7m/T7hxknGeSIDHJEBjkigxyRQS7jHivl5uZ6s8PDQ3NtY2Ojejv/ury89Gbz8/Pm2unpaW/2+vr67XtKF5xkkCMyyBEZ5IgMchl34W89qrEe6QSxvnrAOeceHx+9WVlZmTcrKChI+r2CXFxceLNoNGqutW4oMg0nGeSIDHJEBjkigxyRQS7j7i5vb2+9WUlJibl2eXnZm42Ojpprb25uvFlNTY03W1tbM19fXV1tzpN1d3dnzmtra5Nem644ySBHZJAjMsgRGeTS9tNK1sf+nXOuuLg46b9hPZKxLvCDJBIJb2Y9fvoOQTcv1pfr1dXVmWvT9QdfOckgR2SQIzLIERnk0uLCf3Bw0JsNDQ2Za7OyspKaOedcJBJJaV/poKKiwpsNDw+ba2dmZtTb+RJOMsgRGeSIDHJEBjkig1xa3F2urKx4s6AvtmtqavJmQY96Ojo6vFl3d7e5dmtr6392+J/FxUVzXllZ6c0+8wjsM6ampsy59c3c8XhcsofP4CSDHJFBjsggR2SQy7gPkvT29nqzoB80bWho8Gbb29vfvifnnMvPz/dmq6ur5tpYLJbSe21ubprz8fFxb3Z6eprSe30HTjLIERnkiAxyRAY5IoNcWjxW+oz19fWk1wb9DpLCw8ODNxsbGzPXzs3NebOWlpak3+v5+dmcp8OdpIWTDHJEBjkigxyRQS7jHiuFQVdXlzdL9v/ZnHNub2/PnHd2dn55T0qcZJAjMsgRGeSIDHJEBrmMe6wUBgcHB96sv7/fXGt9g3fQP0OmK04yyBEZ5IgMckQGOR4rQY6TDHJEBjkigxyRQY7IIEdkkCMyyBEZ5IgMckQGOSKDHJFBjsggR2SQIzLIERnkiAxyRAY5IoMckUGOyCBHZJAjMsgRGeSIDHJEBjkigxyRQY7IIEdkkCMyyBEZ5P4GqHrY/BMAZ8EAAAAASUVORK5CYII=\" y=\"-21.499943\"/>\n   </g>\n   <g id=\"matplotlib.axis_1\">\n    <g id=\"xtick_1\">\n     <g id=\"line2d_1\">\n      <defs>\n       <path d=\"M 0 0 \nL 0 3.5 \n\" id=\"m06cc58f02d\" style=\"stroke:#000000;stroke-width:0.8;\"/>\n      </defs>\n      <g>\n       <use style=\"stroke:#000000;stroke-width:0.8;\" x=\"29.642532\" xlink:href=\"#m06cc58f02d\" y=\"174.499943\"/>\n      </g>\n     </g>\n     <g id=\"text_1\">\n      <!-- 0 -->\n      <g transform=\"translate(26.461282 189.098381)scale(0.1 -0.1)\">\n       <defs>\n        <path d=\"M 2034 4250 \nQ 1547 4250 1301 3770 \nQ 1056 3291 1056 2328 \nQ 1056 1369 1301 889 \nQ 1547 409 2034 409 \nQ 2525 409 2770 889 \nQ 3016 1369 3016 2328 \nQ 3016 3291 2770 3770 \nQ 2525 4250 2034 4250 \nz\nM 2034 4750 \nQ 2819 4750 3233 4129 \nQ 3647 3509 3647 2328 \nQ 3647 1150 3233 529 \nQ 2819 -91 2034 -91 \nQ 1250 -91 836 529 \nQ 422 1150 422 2328 \nQ 422 3509 836 4129 \nQ 1250 4750 2034 4750 \nz\n\" id=\"DejaVuSans-30\" transform=\"scale(0.015625)\"/>\n       </defs>\n       <use xlink:href=\"#DejaVuSans-30\"/>\n      </g>\n     </g>\n    </g>\n    <g id=\"xtick_2\">\n     <g id=\"line2d_2\">\n      <g>\n       <use style=\"stroke:#000000;stroke-width:0.8;\" x=\"83.993182\" xlink:href=\"#m06cc58f02d\" y=\"174.499943\"/>\n      </g>\n     </g>\n     <g id=\"text_2\">\n      <!-- 10 -->\n      <g transform=\"translate(77.630682 189.098381)scale(0.1 -0.1)\">\n       <defs>\n        <path d=\"M 794 531 \nL 1825 531 \nL 1825 4091 \nL 703 3866 \nL 703 4441 \nL 1819 4666 \nL 2450 4666 \nL 2450 531 \nL 3481 531 \nL 3481 0 \nL 794 0 \nL 794 531 \nz\n\" id=\"DejaVuSans-31\" transform=\"scale(0.015625)\"/>\n       </defs>\n       <use xlink:href=\"#DejaVuSans-31\"/>\n       <use x=\"63.623047\" xlink:href=\"#DejaVuSans-30\"/>\n      </g>\n     </g>\n    </g>\n    <g id=\"xtick_3\">\n     <g id=\"line2d_3\">\n      <g>\n       <use style=\"stroke:#000000;stroke-width:0.8;\" x=\"138.343831\" xlink:href=\"#m06cc58f02d\" y=\"174.499943\"/>\n      </g>\n     </g>\n     <g id=\"text_3\">\n      <!-- 20 -->\n      <g transform=\"translate(131.981331 189.098381)scale(0.1 -0.1)\">\n       <defs>\n        <path d=\"M 1228 531 \nL 3431 531 \nL 3431 0 \nL 469 0 \nL 469 531 \nQ 828 903 1448 1529 \nQ 2069 2156 2228 2338 \nQ 2531 2678 2651 2914 \nQ 2772 3150 2772 3378 \nQ 2772 3750 2511 3984 \nQ 2250 4219 1831 4219 \nQ 1534 4219 1204 4116 \nQ 875 4013 500 3803 \nL 500 4441 \nQ 881 4594 1212 4672 \nQ 1544 4750 1819 4750 \nQ 2544 4750 2975 4387 \nQ 3406 4025 3406 3419 \nQ 3406 3131 3298 2873 \nQ 3191 2616 2906 2266 \nQ 2828 2175 2409 1742 \nQ 1991 1309 1228 531 \nz\n\" id=\"DejaVuSans-32\" transform=\"scale(0.015625)\"/>\n       </defs>\n       <use xlink:href=\"#DejaVuSans-32\"/>\n       <use x=\"63.623047\" xlink:href=\"#DejaVuSans-30\"/>\n      </g>\n     </g>\n    </g>\n   </g>\n   <g id=\"matplotlib.axis_2\">\n    <g id=\"ytick_1\">\n     <g id=\"line2d_4\">\n      <defs>\n       <path d=\"M 0 0 \nL -3.5 0 \n\" id=\"m4b19b2373a\" style=\"stroke:#000000;stroke-width:0.8;\"/>\n      </defs>\n      <g>\n       <use style=\"stroke:#000000;stroke-width:0.8;\" x=\"26.925\" xlink:href=\"#m4b19b2373a\" y=\"25.035657\"/>\n      </g>\n     </g>\n     <g id=\"text_4\">\n      <!-- 0 -->\n      <g transform=\"translate(13.5625 28.834876)scale(0.1 -0.1)\">\n       <use xlink:href=\"#DejaVuSans-30\"/>\n      </g>\n     </g>\n    </g>\n    <g id=\"ytick_2\">\n     <g id=\"line2d_5\">\n      <g>\n       <use style=\"stroke:#000000;stroke-width:0.8;\" x=\"26.925\" xlink:href=\"#m4b19b2373a\" y=\"52.210982\"/>\n      </g>\n     </g>\n     <g id=\"text_5\">\n      <!-- 5 -->\n      <g transform=\"translate(13.5625 56.010201)scale(0.1 -0.1)\">\n       <defs>\n        <path d=\"M 691 4666 \nL 3169 4666 \nL 3169 4134 \nL 1269 4134 \nL 1269 2991 \nQ 1406 3038 1543 3061 \nQ 1681 3084 1819 3084 \nQ 2600 3084 3056 2656 \nQ 3513 2228 3513 1497 \nQ 3513 744 3044 326 \nQ 2575 -91 1722 -91 \nQ 1428 -91 1123 -41 \nQ 819 9 494 109 \nL 494 744 \nQ 775 591 1075 516 \nQ 1375 441 1709 441 \nQ 2250 441 2565 725 \nQ 2881 1009 2881 1497 \nQ 2881 1984 2565 2268 \nQ 2250 2553 1709 2553 \nQ 1456 2553 1204 2497 \nQ 953 2441 691 2322 \nL 691 4666 \nz\n\" id=\"DejaVuSans-35\" transform=\"scale(0.015625)\"/>\n       </defs>\n       <use xlink:href=\"#DejaVuSans-35\"/>\n      </g>\n     </g>\n    </g>\n    <g id=\"ytick_3\">\n     <g id=\"line2d_6\">\n      <g>\n       <use style=\"stroke:#000000;stroke-width:0.8;\" x=\"26.925\" xlink:href=\"#m4b19b2373a\" y=\"79.386307\"/>\n      </g>\n     </g>\n     <g id=\"text_6\">\n      <!-- 10 -->\n      <g transform=\"translate(7.2 83.185526)scale(0.1 -0.1)\">\n       <use xlink:href=\"#DejaVuSans-31\"/>\n       <use x=\"63.623047\" xlink:href=\"#DejaVuSans-30\"/>\n      </g>\n     </g>\n    </g>\n    <g id=\"ytick_4\">\n     <g id=\"line2d_7\">\n      <g>\n       <use style=\"stroke:#000000;stroke-width:0.8;\" x=\"26.925\" xlink:href=\"#m4b19b2373a\" y=\"106.561631\"/>\n      </g>\n     </g>\n     <g id=\"text_7\">\n      <!-- 15 -->\n      <g transform=\"translate(7.2 110.36085)scale(0.1 -0.1)\">\n       <use xlink:href=\"#DejaVuSans-31\"/>\n       <use x=\"63.623047\" xlink:href=\"#DejaVuSans-35\"/>\n      </g>\n     </g>\n    </g>\n    <g id=\"ytick_5\">\n     <g id=\"line2d_8\">\n      <g>\n       <use style=\"stroke:#000000;stroke-width:0.8;\" x=\"26.925\" xlink:href=\"#m4b19b2373a\" y=\"133.736956\"/>\n      </g>\n     </g>\n     <g id=\"text_8\">\n      <!-- 20 -->\n      <g transform=\"translate(7.2 137.536175)scale(0.1 -0.1)\">\n       <use xlink:href=\"#DejaVuSans-32\"/>\n       <use x=\"63.623047\" xlink:href=\"#DejaVuSans-30\"/>\n      </g>\n     </g>\n    </g>\n    <g id=\"ytick_6\">\n     <g id=\"line2d_9\">\n      <g>\n       <use style=\"stroke:#000000;stroke-width:0.8;\" x=\"26.925\" xlink:href=\"#m4b19b2373a\" y=\"160.912281\"/>\n      </g>\n     </g>\n     <g id=\"text_9\">\n      <!-- 25 -->\n      <g transform=\"translate(7.2 164.7115)scale(0.1 -0.1)\">\n       <use xlink:href=\"#DejaVuSans-32\"/>\n       <use x=\"63.623047\" xlink:href=\"#DejaVuSans-35\"/>\n      </g>\n     </g>\n    </g>\n   </g>\n   <g id=\"patch_3\">\n    <path d=\"M 26.925 174.499943 \nL 26.925 22.318125 \n\" style=\"fill:none;stroke:#000000;stroke-linecap:square;stroke-linejoin:miter;stroke-width:0.8;\"/>\n   </g>\n   <g id=\"patch_4\">\n    <path d=\"M 179.106818 174.499943 \nL 179.106818 22.318125 \n\" style=\"fill:none;stroke:#000000;stroke-linecap:square;stroke-linejoin:miter;stroke-width:0.8;\"/>\n   </g>\n   <g id=\"patch_5\">\n    <path d=\"M 26.925 174.499943 \nL 179.106818 174.499943 \n\" style=\"fill:none;stroke:#000000;stroke-linecap:square;stroke-linejoin:miter;stroke-width:0.8;\"/>\n   </g>\n   <g id=\"patch_6\">\n    <path d=\"M 26.925 22.318125 \nL 179.106818 22.318125 \n\" style=\"fill:none;stroke:#000000;stroke-linecap:square;stroke-linejoin:miter;stroke-width:0.8;\"/>\n   </g>\n   <g id=\"text_10\">\n    <!-- Properly classified : 4 -->\n    <g transform=\"translate(38.914347 16.318125)scale(0.12 -0.12)\">\n     <defs>\n      <path d=\"M 1259 4147 \nL 1259 2394 \nL 2053 2394 \nQ 2494 2394 2734 2622 \nQ 2975 2850 2975 3272 \nQ 2975 3691 2734 3919 \nQ 2494 4147 2053 4147 \nL 1259 4147 \nz\nM 628 4666 \nL 2053 4666 \nQ 2838 4666 3239 4311 \nQ 3641 3956 3641 3272 \nQ 3641 2581 3239 2228 \nQ 2838 1875 2053 1875 \nL 1259 1875 \nL 1259 0 \nL 628 0 \nL 628 4666 \nz\n\" id=\"DejaVuSans-50\" transform=\"scale(0.015625)\"/>\n      <path d=\"M 2631 2963 \nQ 2534 3019 2420 3045 \nQ 2306 3072 2169 3072 \nQ 1681 3072 1420 2755 \nQ 1159 2438 1159 1844 \nL 1159 0 \nL 581 0 \nL 581 3500 \nL 1159 3500 \nL 1159 2956 \nQ 1341 3275 1631 3429 \nQ 1922 3584 2338 3584 \nQ 2397 3584 2469 3576 \nQ 2541 3569 2628 3553 \nL 2631 2963 \nz\n\" id=\"DejaVuSans-72\" transform=\"scale(0.015625)\"/>\n      <path d=\"M 1959 3097 \nQ 1497 3097 1228 2736 \nQ 959 2375 959 1747 \nQ 959 1119 1226 758 \nQ 1494 397 1959 397 \nQ 2419 397 2687 759 \nQ 2956 1122 2956 1747 \nQ 2956 2369 2687 2733 \nQ 2419 3097 1959 3097 \nz\nM 1959 3584 \nQ 2709 3584 3137 3096 \nQ 3566 2609 3566 1747 \nQ 3566 888 3137 398 \nQ 2709 -91 1959 -91 \nQ 1206 -91 779 398 \nQ 353 888 353 1747 \nQ 353 2609 779 3096 \nQ 1206 3584 1959 3584 \nz\n\" id=\"DejaVuSans-6f\" transform=\"scale(0.015625)\"/>\n      <path d=\"M 1159 525 \nL 1159 -1331 \nL 581 -1331 \nL 581 3500 \nL 1159 3500 \nL 1159 2969 \nQ 1341 3281 1617 3432 \nQ 1894 3584 2278 3584 \nQ 2916 3584 3314 3078 \nQ 3713 2572 3713 1747 \nQ 3713 922 3314 415 \nQ 2916 -91 2278 -91 \nQ 1894 -91 1617 61 \nQ 1341 213 1159 525 \nz\nM 3116 1747 \nQ 3116 2381 2855 2742 \nQ 2594 3103 2138 3103 \nQ 1681 3103 1420 2742 \nQ 1159 2381 1159 1747 \nQ 1159 1113 1420 752 \nQ 1681 391 2138 391 \nQ 2594 391 2855 752 \nQ 3116 1113 3116 1747 \nz\n\" id=\"DejaVuSans-70\" transform=\"scale(0.015625)\"/>\n      <path d=\"M 3597 1894 \nL 3597 1613 \nL 953 1613 \nQ 991 1019 1311 708 \nQ 1631 397 2203 397 \nQ 2534 397 2845 478 \nQ 3156 559 3463 722 \nL 3463 178 \nQ 3153 47 2828 -22 \nQ 2503 -91 2169 -91 \nQ 1331 -91 842 396 \nQ 353 884 353 1716 \nQ 353 2575 817 3079 \nQ 1281 3584 2069 3584 \nQ 2775 3584 3186 3129 \nQ 3597 2675 3597 1894 \nz\nM 3022 2063 \nQ 3016 2534 2758 2815 \nQ 2500 3097 2075 3097 \nQ 1594 3097 1305 2825 \nQ 1016 2553 972 2059 \nL 3022 2063 \nz\n\" id=\"DejaVuSans-65\" transform=\"scale(0.015625)\"/>\n      <path d=\"M 603 4863 \nL 1178 4863 \nL 1178 0 \nL 603 0 \nL 603 4863 \nz\n\" id=\"DejaVuSans-6c\" transform=\"scale(0.015625)\"/>\n      <path d=\"M 2059 -325 \nQ 1816 -950 1584 -1140 \nQ 1353 -1331 966 -1331 \nL 506 -1331 \nL 506 -850 \nL 844 -850 \nQ 1081 -850 1212 -737 \nQ 1344 -625 1503 -206 \nL 1606 56 \nL 191 3500 \nL 800 3500 \nL 1894 763 \nL 2988 3500 \nL 3597 3500 \nL 2059 -325 \nz\n\" id=\"DejaVuSans-79\" transform=\"scale(0.015625)\"/>\n      <path id=\"DejaVuSans-20\" transform=\"scale(0.015625)\"/>\n      <path d=\"M 3122 3366 \nL 3122 2828 \nQ 2878 2963 2633 3030 \nQ 2388 3097 2138 3097 \nQ 1578 3097 1268 2742 \nQ 959 2388 959 1747 \nQ 959 1106 1268 751 \nQ 1578 397 2138 397 \nQ 2388 397 2633 464 \nQ 2878 531 3122 666 \nL 3122 134 \nQ 2881 22 2623 -34 \nQ 2366 -91 2075 -91 \nQ 1284 -91 818 406 \nQ 353 903 353 1747 \nQ 353 2603 823 3093 \nQ 1294 3584 2113 3584 \nQ 2378 3584 2631 3529 \nQ 2884 3475 3122 3366 \nz\n\" id=\"DejaVuSans-63\" transform=\"scale(0.015625)\"/>\n      <path d=\"M 2194 1759 \nQ 1497 1759 1228 1600 \nQ 959 1441 959 1056 \nQ 959 750 1161 570 \nQ 1363 391 1709 391 \nQ 2188 391 2477 730 \nQ 2766 1069 2766 1631 \nL 2766 1759 \nL 2194 1759 \nz\nM 3341 1997 \nL 3341 0 \nL 2766 0 \nL 2766 531 \nQ 2569 213 2275 61 \nQ 1981 -91 1556 -91 \nQ 1019 -91 701 211 \nQ 384 513 384 1019 \nQ 384 1609 779 1909 \nQ 1175 2209 1959 2209 \nL 2766 2209 \nL 2766 2266 \nQ 2766 2663 2505 2880 \nQ 2244 3097 1772 3097 \nQ 1472 3097 1187 3025 \nQ 903 2953 641 2809 \nL 641 3341 \nQ 956 3463 1253 3523 \nQ 1550 3584 1831 3584 \nQ 2591 3584 2966 3190 \nQ 3341 2797 3341 1997 \nz\n\" id=\"DejaVuSans-61\" transform=\"scale(0.015625)\"/>\n      <path d=\"M 2834 3397 \nL 2834 2853 \nQ 2591 2978 2328 3040 \nQ 2066 3103 1784 3103 \nQ 1356 3103 1142 2972 \nQ 928 2841 928 2578 \nQ 928 2378 1081 2264 \nQ 1234 2150 1697 2047 \nL 1894 2003 \nQ 2506 1872 2764 1633 \nQ 3022 1394 3022 966 \nQ 3022 478 2636 193 \nQ 2250 -91 1575 -91 \nQ 1294 -91 989 -36 \nQ 684 19 347 128 \nL 347 722 \nQ 666 556 975 473 \nQ 1284 391 1588 391 \nQ 1994 391 2212 530 \nQ 2431 669 2431 922 \nQ 2431 1156 2273 1281 \nQ 2116 1406 1581 1522 \nL 1381 1569 \nQ 847 1681 609 1914 \nQ 372 2147 372 2553 \nQ 372 3047 722 3315 \nQ 1072 3584 1716 3584 \nQ 2034 3584 2315 3537 \nQ 2597 3491 2834 3397 \nz\n\" id=\"DejaVuSans-73\" transform=\"scale(0.015625)\"/>\n      <path d=\"M 603 3500 \nL 1178 3500 \nL 1178 0 \nL 603 0 \nL 603 3500 \nz\nM 603 4863 \nL 1178 4863 \nL 1178 4134 \nL 603 4134 \nL 603 4863 \nz\n\" id=\"DejaVuSans-69\" transform=\"scale(0.015625)\"/>\n      <path d=\"M 2375 4863 \nL 2375 4384 \nL 1825 4384 \nQ 1516 4384 1395 4259 \nQ 1275 4134 1275 3809 \nL 1275 3500 \nL 2222 3500 \nL 2222 3053 \nL 1275 3053 \nL 1275 0 \nL 697 0 \nL 697 3053 \nL 147 3053 \nL 147 3500 \nL 697 3500 \nL 697 3744 \nQ 697 4328 969 4595 \nQ 1241 4863 1831 4863 \nL 2375 4863 \nz\n\" id=\"DejaVuSans-66\" transform=\"scale(0.015625)\"/>\n      <path d=\"M 2906 2969 \nL 2906 4863 \nL 3481 4863 \nL 3481 0 \nL 2906 0 \nL 2906 525 \nQ 2725 213 2448 61 \nQ 2172 -91 1784 -91 \nQ 1150 -91 751 415 \nQ 353 922 353 1747 \nQ 353 2572 751 3078 \nQ 1150 3584 1784 3584 \nQ 2172 3584 2448 3432 \nQ 2725 3281 2906 2969 \nz\nM 947 1747 \nQ 947 1113 1208 752 \nQ 1469 391 1925 391 \nQ 2381 391 2643 752 \nQ 2906 1113 2906 1747 \nQ 2906 2381 2643 2742 \nQ 2381 3103 1925 3103 \nQ 1469 3103 1208 2742 \nQ 947 2381 947 1747 \nz\n\" id=\"DejaVuSans-64\" transform=\"scale(0.015625)\"/>\n      <path d=\"M 750 794 \nL 1409 794 \nL 1409 0 \nL 750 0 \nL 750 794 \nz\nM 750 3309 \nL 1409 3309 \nL 1409 2516 \nL 750 2516 \nL 750 3309 \nz\n\" id=\"DejaVuSans-3a\" transform=\"scale(0.015625)\"/>\n      <path d=\"M 2419 4116 \nL 825 1625 \nL 2419 1625 \nL 2419 4116 \nz\nM 2253 4666 \nL 3047 4666 \nL 3047 1625 \nL 3713 1625 \nL 3713 1100 \nL 3047 1100 \nL 3047 0 \nL 2419 0 \nL 2419 1100 \nL 313 1100 \nL 313 1709 \nL 2253 4666 \nz\n\" id=\"DejaVuSans-34\" transform=\"scale(0.015625)\"/>\n     </defs>\n     <use xlink:href=\"#DejaVuSans-50\"/>\n     <use x=\"58.552734\" xlink:href=\"#DejaVuSans-72\"/>\n     <use x=\"97.416016\" xlink:href=\"#DejaVuSans-6f\"/>\n     <use x=\"158.597656\" xlink:href=\"#DejaVuSans-70\"/>\n     <use x=\"222.074219\" xlink:href=\"#DejaVuSans-65\"/>\n     <use x=\"283.597656\" xlink:href=\"#DejaVuSans-72\"/>\n     <use x=\"324.710938\" xlink:href=\"#DejaVuSans-6c\"/>\n     <use x=\"352.494141\" xlink:href=\"#DejaVuSans-79\"/>\n     <use x=\"411.673828\" xlink:href=\"#DejaVuSans-20\"/>\n     <use x=\"443.460938\" xlink:href=\"#DejaVuSans-63\"/>\n     <use x=\"498.441406\" xlink:href=\"#DejaVuSans-6c\"/>\n     <use x=\"526.224609\" xlink:href=\"#DejaVuSans-61\"/>\n     <use x=\"587.503906\" xlink:href=\"#DejaVuSans-73\"/>\n     <use x=\"639.603516\" xlink:href=\"#DejaVuSans-73\"/>\n     <use x=\"691.703125\" xlink:href=\"#DejaVuSans-69\"/>\n     <use x=\"719.486328\" xlink:href=\"#DejaVuSans-66\"/>\n     <use x=\"754.691406\" xlink:href=\"#DejaVuSans-69\"/>\n     <use x=\"782.474609\" xlink:href=\"#DejaVuSans-65\"/>\n     <use x=\"843.998047\" xlink:href=\"#DejaVuSans-64\"/>\n     <use x=\"907.474609\" xlink:href=\"#DejaVuSans-20\"/>\n     <use x=\"939.261719\" xlink:href=\"#DejaVuSans-3a\"/>\n     <use x=\"972.953125\" xlink:href=\"#DejaVuSans-20\"/>\n     <use x=\"1004.740234\" xlink:href=\"#DejaVuSans-34\"/>\n    </g>\n   </g>\n  </g>\n  <g id=\"axes_2\">\n   <g id=\"patch_7\">\n    <path d=\"M 209.543182 174.499943 \nL 361.725 174.499943 \nL 361.725 22.318125 \nL 209.543182 22.318125 \nz\n\" style=\"fill:#ffffff;\"/>\n   </g>\n   <g clip-path=\"url(#p56b1f43fd3)\">\n    <image height=\"153\" id=\"image10c7a23a24\" transform=\"scale(1 -1)translate(0 -153)\" width=\"153\" x=\"209.543182\" xlink:href=\"data:image/png;base64,\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\" y=\"-21.499943\"/>\n   </g>\n   <g id=\"matplotlib.axis_3\">\n    <g id=\"xtick_4\">\n     <g id=\"line2d_10\">\n      <g>\n       <use style=\"stroke:#000000;stroke-width:0.8;\" x=\"212.260714\" xlink:href=\"#m06cc58f02d\" y=\"174.499943\"/>\n      </g>\n     </g>\n     <g id=\"text_11\">\n      <!-- 0 -->\n      <g transform=\"translate(209.079464 189.098381)scale(0.1 -0.1)\">\n       <use xlink:href=\"#DejaVuSans-30\"/>\n      </g>\n     </g>\n    </g>\n    <g id=\"xtick_5\">\n     <g id=\"line2d_11\">\n      <g>\n       <use style=\"stroke:#000000;stroke-width:0.8;\" x=\"266.611364\" xlink:href=\"#m06cc58f02d\" y=\"174.499943\"/>\n      </g>\n     </g>\n     <g id=\"text_12\">\n      <!-- 10 -->\n      <g transform=\"translate(260.248864 189.098381)scale(0.1 -0.1)\">\n       <use xlink:href=\"#DejaVuSans-31\"/>\n       <use x=\"63.623047\" xlink:href=\"#DejaVuSans-30\"/>\n      </g>\n     </g>\n    </g>\n    <g id=\"xtick_6\">\n     <g id=\"line2d_12\">\n      <g>\n       <use style=\"stroke:#000000;stroke-width:0.8;\" x=\"320.962013\" xlink:href=\"#m06cc58f02d\" y=\"174.499943\"/>\n      </g>\n     </g>\n     <g id=\"text_13\">\n      <!-- 20 -->\n      <g transform=\"translate(314.599513 189.098381)scale(0.1 -0.1)\">\n       <use xlink:href=\"#DejaVuSans-32\"/>\n       <use x=\"63.623047\" xlink:href=\"#DejaVuSans-30\"/>\n      </g>\n     </g>\n    </g>\n   </g>\n   <g id=\"matplotlib.axis_4\">\n    <g id=\"ytick_7\">\n     <g id=\"line2d_13\">\n      <g>\n       <use style=\"stroke:#000000;stroke-width:0.8;\" x=\"209.543182\" xlink:href=\"#m4b19b2373a\" y=\"25.035657\"/>\n      </g>\n     </g>\n     <g id=\"text_14\">\n      <!-- 0 -->\n      <g transform=\"translate(196.180682 28.834876)scale(0.1 -0.1)\">\n       <use xlink:href=\"#DejaVuSans-30\"/>\n      </g>\n     </g>\n    </g>\n    <g id=\"ytick_8\">\n     <g id=\"line2d_14\">\n      <g>\n       <use style=\"stroke:#000000;stroke-width:0.8;\" x=\"209.543182\" xlink:href=\"#m4b19b2373a\" y=\"52.210982\"/>\n      </g>\n     </g>\n     <g id=\"text_15\">\n      <!-- 5 -->\n      <g transform=\"translate(196.180682 56.010201)scale(0.1 -0.1)\">\n       <use xlink:href=\"#DejaVuSans-35\"/>\n      </g>\n     </g>\n    </g>\n    <g id=\"ytick_9\">\n     <g id=\"line2d_15\">\n      <g>\n       <use style=\"stroke:#000000;stroke-width:0.8;\" x=\"209.543182\" xlink:href=\"#m4b19b2373a\" y=\"79.386307\"/>\n      </g>\n     </g>\n     <g id=\"text_16\">\n      <!-- 10 -->\n      <g transform=\"translate(189.818182 83.185526)scale(0.1 -0.1)\">\n       <use xlink:href=\"#DejaVuSans-31\"/>\n       <use x=\"63.623047\" xlink:href=\"#DejaVuSans-30\"/>\n      </g>\n     </g>\n    </g>\n    <g id=\"ytick_10\">\n     <g id=\"line2d_16\">\n      <g>\n       <use style=\"stroke:#000000;stroke-width:0.8;\" x=\"209.543182\" xlink:href=\"#m4b19b2373a\" y=\"106.561631\"/>\n      </g>\n     </g>\n     <g id=\"text_17\">\n      <!-- 15 -->\n      <g transform=\"translate(189.818182 110.36085)scale(0.1 -0.1)\">\n       <use xlink:href=\"#DejaVuSans-31\"/>\n       <use x=\"63.623047\" xlink:href=\"#DejaVuSans-35\"/>\n      </g>\n     </g>\n    </g>\n    <g id=\"ytick_11\">\n     <g id=\"line2d_17\">\n      <g>\n       <use style=\"stroke:#000000;stroke-width:0.8;\" x=\"209.543182\" xlink:href=\"#m4b19b2373a\" y=\"133.736956\"/>\n      </g>\n     </g>\n     <g id=\"text_18\">\n      <!-- 20 -->\n      <g transform=\"translate(189.818182 137.536175)scale(0.1 -0.1)\">\n       <use xlink:href=\"#DejaVuSans-32\"/>\n       <use x=\"63.623047\" xlink:href=\"#DejaVuSans-30\"/>\n      </g>\n     </g>\n    </g>\n    <g id=\"ytick_12\">\n     <g id=\"line2d_18\">\n      <g>\n       <use style=\"stroke:#000000;stroke-width:0.8;\" x=\"209.543182\" xlink:href=\"#m4b19b2373a\" y=\"160.912281\"/>\n      </g>\n     </g>\n     <g id=\"text_19\">\n      <!-- 25 -->\n      <g transform=\"translate(189.818182 164.7115)scale(0.1 -0.1)\">\n       <use xlink:href=\"#DejaVuSans-32\"/>\n       <use x=\"63.623047\" xlink:href=\"#DejaVuSans-35\"/>\n      </g>\n     </g>\n    </g>\n   </g>\n   <g id=\"patch_8\">\n    <path d=\"M 209.543182 174.499943 \nL 209.543182 22.318125 \n\" style=\"fill:none;stroke:#000000;stroke-linecap:square;stroke-linejoin:miter;stroke-width:0.8;\"/>\n   </g>\n   <g id=\"patch_9\">\n    <path d=\"M 361.725 174.499943 \nL 361.725 22.318125 \n\" style=\"fill:none;stroke:#000000;stroke-linecap:square;stroke-linejoin:miter;stroke-width:0.8;\"/>\n   </g>\n   <g id=\"patch_10\">\n    <path d=\"M 209.543182 174.499943 \nL 361.725 174.499943 \n\" style=\"fill:none;stroke:#000000;stroke-linecap:square;stroke-linejoin:miter;stroke-width:0.8;\"/>\n   </g>\n   <g id=\"patch_11\">\n    <path d=\"M 209.543182 22.318125 \nL 361.725 22.318125 \n\" style=\"fill:none;stroke:#000000;stroke-linecap:square;stroke-linejoin:miter;stroke-width:0.8;\"/>\n   </g>\n   <g id=\"text_20\">\n    <!-- Misclassified : 7 -->\n    <g transform=\"translate(238.171278 16.318125)scale(0.12 -0.12)\">\n     <defs>\n      <path d=\"M 628 4666 \nL 1569 4666 \nL 2759 1491 \nL 3956 4666 \nL 4897 4666 \nL 4897 0 \nL 4281 0 \nL 4281 4097 \nL 3078 897 \nL 2444 897 \nL 1241 4097 \nL 1241 0 \nL 628 0 \nL 628 4666 \nz\n\" id=\"DejaVuSans-4d\" transform=\"scale(0.015625)\"/>\n      <path d=\"M 525 4666 \nL 3525 4666 \nL 3525 4397 \nL 1831 0 \nL 1172 0 \nL 2766 4134 \nL 525 4134 \nL 525 4666 \nz\n\" id=\"DejaVuSans-37\" transform=\"scale(0.015625)\"/>\n     </defs>\n     <use xlink:href=\"#DejaVuSans-4d\"/>\n     <use x=\"86.279297\" xlink:href=\"#DejaVuSans-69\"/>\n     <use x=\"114.0625\" xlink:href=\"#DejaVuSans-73\"/>\n     <use x=\"166.162109\" xlink:href=\"#DejaVuSans-63\"/>\n     <use x=\"221.142578\" xlink:href=\"#DejaVuSans-6c\"/>\n     <use x=\"248.925781\" xlink:href=\"#DejaVuSans-61\"/>\n     <use x=\"310.205078\" xlink:href=\"#DejaVuSans-73\"/>\n     <use x=\"362.304688\" xlink:href=\"#DejaVuSans-73\"/>\n     <use x=\"414.404297\" xlink:href=\"#DejaVuSans-69\"/>\n     <use x=\"442.1875\" xlink:href=\"#DejaVuSans-66\"/>\n     <use x=\"477.392578\" xlink:href=\"#DejaVuSans-69\"/>\n     <use x=\"505.175781\" xlink:href=\"#DejaVuSans-65\"/>\n     <use x=\"566.699219\" xlink:href=\"#DejaVuSans-64\"/>\n     <use x=\"630.175781\" xlink:href=\"#DejaVuSans-20\"/>\n     <use x=\"661.962891\" xlink:href=\"#DejaVuSans-3a\"/>\n     <use x=\"695.654297\" xlink:href=\"#DejaVuSans-20\"/>\n     <use x=\"727.441406\" xlink:href=\"#DejaVuSans-37\"/>\n    </g>\n   </g>\n  </g>\n </g>\n <defs>\n  <clipPath id=\"pa491bb330e\">\n   <rect height=\"152.181818\" width=\"152.181818\" x=\"26.925\" y=\"22.318125\"/>\n  </clipPath>\n  <clipPath id=\"p56b1f43fd3\">\n   <rect height=\"152.181818\" width=\"152.181818\" x=\"209.543182\" y=\"22.318125\"/>\n  </clipPath>\n </defs>\n</svg>\n",
      "image/png": "[encoded data removed]"
     },
     "metadata": {
      "needs_background": "light"
     }
    }
   ],
   "metadata": {}
  }
 ],
 "metadata": {
  "orig_nbformat": 4,
  "language_info": {
   "name": "python",
   "version": "3.8.10",
   "mimetype": "text/x-python",
   "codemirror_mode": {
    "name": "ipython",
    "version": 3
   },
   "pygments_lexer": "ipython3",
   "nbconvert_exporter": "python",
   "file_extension": ".py"
  },
  "kernelspec": {
   "name": "python3",
   "display_name": "Python 3.8.10 64-bit ('py38': conda)"
  },
  "interpreter": {
   "hash": "3db542ac60b6226dd50a79a39a56822b2dbbe89167b91e3ffb64b8d7c630bc20"
  }
 },
 "nbformat": 4,
 "nbformat_minor": 2
}