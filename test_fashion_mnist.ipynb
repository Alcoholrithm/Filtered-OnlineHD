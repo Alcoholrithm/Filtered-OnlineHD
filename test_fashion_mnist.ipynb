{
 "cells": [
  {
   "cell_type": "code",
   "execution_count": 1,
   "source": [
    "import numpy as np\n",
    "import torch\n",
    "from tqdm import tqdm\n",
    "from skimage.metrics import structural_similarity as ssim\n",
    "from torch.autograd import Variable\n",
    "from matplotlib.pyplot import imshow\n",
    "import matplotlib.pyplot as plt\n",
    "from tensorflow.keras.datasets import fashion_mnist\n",
    "from time import time\n",
    "import sklearn.preprocessing\n",
    "import numpy as np\n",
    "import robust_onlinehd\n",
    "from GenAttack import GenAttack"
   ],
   "outputs": [],
   "metadata": {}
  },
  {
   "cell_type": "code",
   "execution_count": 2,
   "source": [
    "scaler = sklearn.preprocessing.Normalizer()"
   ],
   "outputs": [],
   "metadata": {}
  },
  {
   "cell_type": "code",
   "execution_count": 3,
   "source": [
    "torch.manual_seed(54)"
   ],
   "outputs": [
    {
     "output_type": "execute_result",
     "data": {
      "text/plain": [
       "<torch._C.Generator at 0x7fc1680152f0>"
      ]
     },
     "metadata": {},
     "execution_count": 3
    }
   ],
   "metadata": {}
  },
  {
   "cell_type": "code",
   "execution_count": 4,
   "source": [
    "\n",
    "# loads simple mnist dataset\n",
    "def load():  \n",
    "    (x, y), (x_test, y_test) = fashion_mnist.load_data()\n",
    "\n",
    "    # changes data to pytorch's tensors\n",
    "    x = torch.from_numpy(x).float()   \n",
    "    y = torch.from_numpy(y).long().squeeze()\n",
    "    x_test = torch.from_numpy(x_test).float()\n",
    "    y_test = torch.from_numpy(y_test).long().squeeze()\n",
    "    \n",
    "    if len(x.shape) == 3:\n",
    "        x = x.unsqueeze(3)\n",
    "        x_test = x_test.unsqueeze(3)\n",
    "\n",
    "    return x, x_test, y, y_test\n",
    "\n",
    "\n",
    "print('Loading...')\n",
    "x, x_test, y, y_test = load()"
   ],
   "outputs": [
    {
     "output_type": "stream",
     "name": "stdout",
     "text": [
      "Loading...\n"
     ]
    },
    {
     "output_type": "stream",
     "name": "stderr",
     "text": [
      "<ipython-input-4-84a179f8522e>:6: UserWarning: The given NumPy array is not writeable, and PyTorch does not support non-writeable tensors. This means you can write to the underlying (supposedly non-writeable) NumPy array using the tensor. You may want to copy the array to protect its data or make it writeable before converting it to a tensor. This type of warning will be suppressed for the rest of this program. (Triggered internally at  /opt/conda/conda-bld/pytorch_1607370172916/work/torch/csrc/utils/tensor_numpy.cpp:141.)\n",
      "  x = torch.from_numpy(x).float()\n"
     ]
    }
   ],
   "metadata": {}
  },
  {
   "cell_type": "code",
   "execution_count": 5,
   "source": [
    "#criterias = [(0, 100, 0), (100, 150, 125), (150, 200, 175), (200, 256, 255)]\n",
    "#criterias = [(0, 50, 0), (50, 100, 75), (100, 125, 124), (125, 150, 149), (150, 175, 174), (175, 200, 199), (200, 225, 224), (225, 256, 255)]\n",
    "#criterias = []\n",
    "#kernel_size = 3\n",
    "kernel_size = 1\n",
    "classes = y.unique().size(0)\n",
    "features = x.size(1) * x.size(2)\n",
    "model = robust_onlinehd.OnlineHD(kernel_size, scaler, classes, features, dim = 10000)\n",
    "model.set_criterias(x, 10)\n",
    "\n",
    "\n",
    "if torch.cuda.is_available():\n",
    "    #x = x.cuda()\n",
    "    #y = y.cuda()\n",
    "    #x_test = x_test.cuda()\n",
    "    #y_test = y_test.cuda()\n",
    "    model = model.to('cuda')\n",
    "    print('Using GPU!')\n",
    "\n",
    "print('Training...')\n",
    "t = time()\n",
    "\n",
    "model = model.fit(x, y, bootstrap=.3, lr=0.095, epochs=300, batch_size=8196)\n",
    "t = time() - t\n",
    "\n",
    "print('Validating...')\n",
    "yhat = model(x).cpu()\n",
    "yhat_test = model(x_test).cpu()\n",
    "acc = (y == yhat).float().mean()\n",
    "acc_test = (y_test == yhat_test).float().mean()\n",
    "print(f'{acc = :6f}')\n",
    "print(f'{acc_test = :6f}')\n",
    "print(f'{t = :6f}')\n"
   ],
   "outputs": [
    {
     "output_type": "stream",
     "name": "stdout",
     "text": [
      "Using GPU!\n",
      "Training...\n",
      "Validating...\n",
      "acc = 0.982217\n",
      "acc_test = 0.873500\n",
      "t = 32.558913\n"
     ]
    }
   ],
   "metadata": {}
  },
  {
   "cell_type": "code",
   "execution_count": 6,
   "source": [
    "preds = model(x_test).cpu().numpy()\n",
    "#preds = model(x).cpu().numpy()"
   ],
   "outputs": [],
   "metadata": {}
  },
  {
   "cell_type": "code",
   "execution_count": 7,
   "source": [
    "targets = torch.randint(0, 10, preds.shape)\n",
    "for i in tqdm(range(len(preds))):\n",
    "    while targets[i] == preds[i]:\n",
    "        targets[i] = torch.randint(0,10, (1,)).item()"
   ],
   "outputs": [
    {
     "output_type": "stream",
     "name": "stderr",
     "text": [
      "100%|██████████| 10000/10000 [00:00<00:00, 51892.04it/s]\n"
     ]
    }
   ],
   "metadata": {}
  },
  {
   "cell_type": "code",
   "execution_count": 8,
   "source": [
    "unif = torch.ones(targets.shape[0])\n",
    "while True:\n",
    "    indices = unif.multinomial(100)\n",
    "    for idx in indices:\n",
    "        if targets[idx] == y_test[idx]:\n",
    "            break\n",
    "    if idx == indices[-1] and targets[idx] != y_test[idx]:\n",
    "        break\n",
    "    else:\n",
    "        indices = unif.multinomial(100)"
   ],
   "outputs": [],
   "metadata": {}
  },
  {
   "cell_type": "code",
   "execution_count": 9,
   "source": [
    "attacker = GenAttack(model, classes, 28 * 28, scaler, 0.6, 'cuda')\n",
    "N = 8                          # size of population to evolve\n",
    "G = 5000                        # number of generations to evolve through\n",
    "p = torch.FloatTensor([0.9])   # the parameter for Bernoulli distribution used in mutation\n",
    "alpha = torch.FloatTensor([1.0]) # the parameter controlling mutation amount (step-size in the original paper)\n",
    "delta = torch.FloatTensor([0.9]) # the parametr controlling mutation amount (norm threshold in the original paper)"
   ],
   "outputs": [],
   "metadata": {}
  },
  {
   "cell_type": "code",
   "execution_count": 10,
   "source": [
    "pops = []\n",
    "results = []"
   ],
   "outputs": [],
   "metadata": {}
  },
  {
   "cell_type": "code",
   "execution_count": 11,
   "source": [
    "t = time()\n",
    "for i in tqdm(indices):\n",
    "    temp = attacker.attack(x_test[i], targets[i], delta, alpha, p, N, G)\n",
    "    pops.append(temp[0].numpy())\n",
    "    results.append(temp[1])\n",
    "t = time() - t\n",
    "\n",
    "print(f'{t = :6f}')"
   ],
   "outputs": [
    {
     "output_type": "stream",
     "name": "stderr",
     "text": [
      "  1%|          | 1/100 [01:00<1:39:36, 60.37s/it]"
     ]
    },
    {
     "output_type": "stream",
     "name": "stdout",
     "text": [
      "All 5000 generations failed.\n"
     ]
    },
    {
     "output_type": "stream",
     "name": "stderr",
     "text": [
      "  2%|▏         | 2/100 [02:00<1:38:06, 60.07s/it]"
     ]
    },
    {
     "output_type": "stream",
     "name": "stdout",
     "text": [
      "All 5000 generations failed.\n"
     ]
    },
    {
     "output_type": "stream",
     "name": "stderr",
     "text": [
      "  3%|▎         | 3/100 [03:00<1:37:02, 60.03s/it]"
     ]
    },
    {
     "output_type": "stream",
     "name": "stdout",
     "text": [
      "All 5000 generations failed.\n"
     ]
    },
    {
     "output_type": "stream",
     "name": "stderr",
     "text": [
      "  4%|▍         | 4/100 [04:01<1:36:35, 60.37s/it]"
     ]
    },
    {
     "output_type": "stream",
     "name": "stdout",
     "text": [
      "All 5000 generations failed.\n"
     ]
    },
    {
     "output_type": "stream",
     "name": "stderr",
     "text": [
      "  5%|▌         | 5/100 [05:01<1:35:34, 60.37s/it]"
     ]
    },
    {
     "output_type": "stream",
     "name": "stdout",
     "text": [
      "All 5000 generations failed.\n"
     ]
    },
    {
     "output_type": "stream",
     "name": "stderr",
     "text": [
      "  6%|▌         | 6/100 [06:02<1:34:43, 60.46s/it]"
     ]
    },
    {
     "output_type": "stream",
     "name": "stdout",
     "text": [
      "All 5000 generations failed.\n"
     ]
    },
    {
     "output_type": "stream",
     "name": "stderr",
     "text": [
      "  7%|▋         | 7/100 [07:01<1:33:21, 60.23s/it]"
     ]
    },
    {
     "output_type": "stream",
     "name": "stdout",
     "text": [
      "All 5000 generations failed.\n"
     ]
    },
    {
     "output_type": "stream",
     "name": "stderr",
     "text": [
      "  8%|▊         | 8/100 [08:02<1:32:21, 60.23s/it]"
     ]
    },
    {
     "output_type": "stream",
     "name": "stdout",
     "text": [
      "All 5000 generations failed.\n"
     ]
    },
    {
     "output_type": "stream",
     "name": "stderr",
     "text": [
      "  9%|▉         | 9/100 [09:02<1:31:26, 60.29s/it]"
     ]
    },
    {
     "output_type": "stream",
     "name": "stdout",
     "text": [
      "All 5000 generations failed.\n"
     ]
    },
    {
     "output_type": "stream",
     "name": "stderr",
     "text": [
      " 10%|█         | 10/100 [10:02<1:30:30, 60.34s/it]"
     ]
    },
    {
     "output_type": "stream",
     "name": "stdout",
     "text": [
      "All 5000 generations failed.\n"
     ]
    },
    {
     "output_type": "stream",
     "name": "stderr",
     "text": [
      " 11%|█         | 11/100 [10:03<1:02:12, 41.94s/it]"
     ]
    },
    {
     "output_type": "stream",
     "name": "stdout",
     "text": [
      "Attack Success at generation 17\n"
     ]
    },
    {
     "output_type": "stream",
     "name": "stderr",
     "text": [
      " 12%|█▏        | 12/100 [11:03<1:09:39, 47.49s/it]"
     ]
    },
    {
     "output_type": "stream",
     "name": "stdout",
     "text": [
      "All 5000 generations failed.\n"
     ]
    },
    {
     "output_type": "stream",
     "name": "stderr",
     "text": [
      " 13%|█▎        | 13/100 [12:03<1:14:21, 51.28s/it]"
     ]
    },
    {
     "output_type": "stream",
     "name": "stdout",
     "text": [
      "All 5000 generations failed.\n"
     ]
    },
    {
     "output_type": "stream",
     "name": "stderr",
     "text": [
      " 14%|█▍        | 14/100 [13:03<1:17:14, 53.89s/it]"
     ]
    },
    {
     "output_type": "stream",
     "name": "stdout",
     "text": [
      "All 5000 generations failed.\n"
     ]
    },
    {
     "output_type": "stream",
     "name": "stderr",
     "text": [
      " 15%|█▌        | 15/100 [14:04<1:19:31, 56.13s/it]"
     ]
    },
    {
     "output_type": "stream",
     "name": "stdout",
     "text": [
      "All 5000 generations failed.\n"
     ]
    },
    {
     "output_type": "stream",
     "name": "stderr",
     "text": [
      " 16%|█▌        | 16/100 [15:06<1:20:57, 57.83s/it]"
     ]
    },
    {
     "output_type": "stream",
     "name": "stdout",
     "text": [
      "All 5000 generations failed.\n"
     ]
    },
    {
     "output_type": "stream",
     "name": "stderr",
     "text": [
      " 17%|█▋        | 17/100 [16:07<1:21:24, 58.85s/it]"
     ]
    },
    {
     "output_type": "stream",
     "name": "stdout",
     "text": [
      "All 5000 generations failed.\n"
     ]
    },
    {
     "output_type": "stream",
     "name": "stderr",
     "text": [
      " 18%|█▊        | 18/100 [17:07<1:21:01, 59.29s/it]"
     ]
    },
    {
     "output_type": "stream",
     "name": "stdout",
     "text": [
      "All 5000 generations failed.\n"
     ]
    },
    {
     "output_type": "stream",
     "name": "stderr",
     "text": [
      " 19%|█▉        | 19/100 [18:07<1:20:07, 59.35s/it]"
     ]
    },
    {
     "output_type": "stream",
     "name": "stdout",
     "text": [
      "All 5000 generations failed.\n"
     ]
    },
    {
     "output_type": "stream",
     "name": "stderr",
     "text": [
      " 20%|██        | 20/100 [19:07<1:19:28, 59.60s/it]"
     ]
    },
    {
     "output_type": "stream",
     "name": "stdout",
     "text": [
      "All 5000 generations failed.\n"
     ]
    },
    {
     "output_type": "stream",
     "name": "stderr",
     "text": [
      " 21%|██        | 21/100 [20:07<1:18:43, 59.79s/it]"
     ]
    },
    {
     "output_type": "stream",
     "name": "stdout",
     "text": [
      "All 5000 generations failed.\n"
     ]
    },
    {
     "output_type": "stream",
     "name": "stderr",
     "text": [
      " 22%|██▏       | 22/100 [21:08<1:17:56, 59.95s/it]"
     ]
    },
    {
     "output_type": "stream",
     "name": "stdout",
     "text": [
      "All 5000 generations failed.\n"
     ]
    },
    {
     "output_type": "stream",
     "name": "stderr",
     "text": [
      " 23%|██▎       | 23/100 [22:09<1:17:18, 60.24s/it]"
     ]
    },
    {
     "output_type": "stream",
     "name": "stdout",
     "text": [
      "All 5000 generations failed.\n"
     ]
    },
    {
     "output_type": "stream",
     "name": "stderr",
     "text": [
      " 24%|██▍       | 24/100 [23:09<1:16:16, 60.22s/it]"
     ]
    },
    {
     "output_type": "stream",
     "name": "stdout",
     "text": [
      "All 5000 generations failed.\n"
     ]
    },
    {
     "output_type": "stream",
     "name": "stderr",
     "text": [
      " 25%|██▌       | 25/100 [24:09<1:15:15, 60.21s/it]"
     ]
    },
    {
     "output_type": "stream",
     "name": "stdout",
     "text": [
      "All 5000 generations failed.\n"
     ]
    },
    {
     "output_type": "stream",
     "name": "stderr",
     "text": [
      " 26%|██▌       | 26/100 [25:09<1:14:09, 60.13s/it]"
     ]
    },
    {
     "output_type": "stream",
     "name": "stdout",
     "text": [
      "All 5000 generations failed.\n"
     ]
    },
    {
     "output_type": "stream",
     "name": "stderr",
     "text": [
      " 27%|██▋       | 27/100 [26:09<1:13:11, 60.16s/it]"
     ]
    },
    {
     "output_type": "stream",
     "name": "stdout",
     "text": [
      "All 5000 generations failed.\n"
     ]
    },
    {
     "output_type": "stream",
     "name": "stderr",
     "text": [
      " 28%|██▊       | 28/100 [27:09<1:12:11, 60.15s/it]"
     ]
    },
    {
     "output_type": "stream",
     "name": "stdout",
     "text": [
      "All 5000 generations failed.\n"
     ]
    },
    {
     "output_type": "stream",
     "name": "stderr",
     "text": [
      " 29%|██▉       | 29/100 [28:09<1:11:11, 60.17s/it]"
     ]
    },
    {
     "output_type": "stream",
     "name": "stdout",
     "text": [
      "All 5000 generations failed.\n"
     ]
    },
    {
     "output_type": "stream",
     "name": "stderr",
     "text": [
      " 30%|███       | 30/100 [29:11<1:10:43, 60.62s/it]"
     ]
    },
    {
     "output_type": "stream",
     "name": "stdout",
     "text": [
      "All 5000 generations failed.\n"
     ]
    },
    {
     "output_type": "stream",
     "name": "stderr",
     "text": [
      " 31%|███       | 31/100 [30:11<1:09:36, 60.53s/it]"
     ]
    },
    {
     "output_type": "stream",
     "name": "stdout",
     "text": [
      "All 5000 generations failed.\n"
     ]
    },
    {
     "output_type": "stream",
     "name": "stderr",
     "text": [
      " 32%|███▏      | 32/100 [31:12<1:08:36, 60.53s/it]"
     ]
    },
    {
     "output_type": "stream",
     "name": "stdout",
     "text": [
      "All 5000 generations failed.\n"
     ]
    },
    {
     "output_type": "stream",
     "name": "stderr",
     "text": [
      " 33%|███▎      | 33/100 [32:14<1:07:56, 60.84s/it]"
     ]
    },
    {
     "output_type": "stream",
     "name": "stdout",
     "text": [
      "All 5000 generations failed.\n"
     ]
    },
    {
     "output_type": "stream",
     "name": "stderr",
     "text": [
      " 34%|███▍      | 34/100 [33:15<1:07:04, 60.98s/it]"
     ]
    },
    {
     "output_type": "stream",
     "name": "stdout",
     "text": [
      "All 5000 generations failed.\n"
     ]
    },
    {
     "output_type": "stream",
     "name": "stderr",
     "text": [
      " 35%|███▌      | 35/100 [33:16<46:38, 43.05s/it]  "
     ]
    },
    {
     "output_type": "stream",
     "name": "stdout",
     "text": [
      "Attack Success at generation 100\n"
     ]
    },
    {
     "output_type": "stream",
     "name": "stderr",
     "text": [
      " 36%|███▌      | 36/100 [34:17<51:33, 48.33s/it]"
     ]
    },
    {
     "output_type": "stream",
     "name": "stdout",
     "text": [
      "All 5000 generations failed.\n"
     ]
    },
    {
     "output_type": "stream",
     "name": "stderr",
     "text": [
      " 37%|███▋      | 37/100 [35:17<54:29, 51.89s/it]"
     ]
    },
    {
     "output_type": "stream",
     "name": "stdout",
     "text": [
      "All 5000 generations failed.\n"
     ]
    },
    {
     "output_type": "stream",
     "name": "stderr",
     "text": [
      " 38%|███▊      | 38/100 [36:19<56:39, 54.84s/it]"
     ]
    },
    {
     "output_type": "stream",
     "name": "stdout",
     "text": [
      "All 5000 generations failed.\n"
     ]
    },
    {
     "output_type": "stream",
     "name": "stderr",
     "text": [
      " 39%|███▉      | 39/100 [37:18<57:16, 56.33s/it]"
     ]
    },
    {
     "output_type": "stream",
     "name": "stdout",
     "text": [
      "All 5000 generations failed.\n"
     ]
    },
    {
     "output_type": "stream",
     "name": "stderr",
     "text": [
      " 40%|████      | 40/100 [38:19<57:31, 57.53s/it]"
     ]
    },
    {
     "output_type": "stream",
     "name": "stdout",
     "text": [
      "All 5000 generations failed.\n"
     ]
    },
    {
     "output_type": "stream",
     "name": "stderr",
     "text": [
      " 41%|████      | 41/100 [39:20<57:39, 58.64s/it]"
     ]
    },
    {
     "output_type": "stream",
     "name": "stdout",
     "text": [
      "All 5000 generations failed.\n"
     ]
    },
    {
     "output_type": "stream",
     "name": "stderr",
     "text": [
      " 42%|████▏     | 42/100 [40:23<58:00, 60.01s/it]"
     ]
    },
    {
     "output_type": "stream",
     "name": "stdout",
     "text": [
      "All 5000 generations failed.\n"
     ]
    },
    {
     "output_type": "stream",
     "name": "stderr",
     "text": [
      " 43%|████▎     | 43/100 [41:23<57:04, 60.08s/it]"
     ]
    },
    {
     "output_type": "stream",
     "name": "stdout",
     "text": [
      "All 5000 generations failed.\n"
     ]
    },
    {
     "output_type": "stream",
     "name": "stderr",
     "text": [
      " 44%|████▍     | 44/100 [42:24<56:07, 60.13s/it]"
     ]
    },
    {
     "output_type": "stream",
     "name": "stdout",
     "text": [
      "All 5000 generations failed.\n"
     ]
    },
    {
     "output_type": "stream",
     "name": "stderr",
     "text": [
      " 45%|████▌     | 45/100 [43:24<55:10, 60.19s/it]"
     ]
    },
    {
     "output_type": "stream",
     "name": "stdout",
     "text": [
      "All 5000 generations failed.\n"
     ]
    },
    {
     "output_type": "stream",
     "name": "stderr",
     "text": [
      " 46%|████▌     | 46/100 [44:24<54:12, 60.23s/it]"
     ]
    },
    {
     "output_type": "stream",
     "name": "stdout",
     "text": [
      "All 5000 generations failed.\n"
     ]
    },
    {
     "output_type": "stream",
     "name": "stderr",
     "text": [
      " 47%|████▋     | 47/100 [45:25<53:19, 60.37s/it]"
     ]
    },
    {
     "output_type": "stream",
     "name": "stdout",
     "text": [
      "All 5000 generations failed.\n"
     ]
    },
    {
     "output_type": "stream",
     "name": "stderr",
     "text": [
      " 48%|████▊     | 48/100 [46:25<52:13, 60.27s/it]"
     ]
    },
    {
     "output_type": "stream",
     "name": "stdout",
     "text": [
      "All 5000 generations failed.\n"
     ]
    },
    {
     "output_type": "stream",
     "name": "stderr",
     "text": [
      " 49%|████▉     | 49/100 [47:25<51:14, 60.29s/it]"
     ]
    },
    {
     "output_type": "stream",
     "name": "stdout",
     "text": [
      "All 5000 generations failed.\n"
     ]
    },
    {
     "output_type": "stream",
     "name": "stderr",
     "text": [
      " 50%|█████     | 50/100 [48:27<50:30, 60.61s/it]"
     ]
    },
    {
     "output_type": "stream",
     "name": "stdout",
     "text": [
      "All 5000 generations failed.\n"
     ]
    },
    {
     "output_type": "stream",
     "name": "stderr",
     "text": [
      " 51%|█████     | 51/100 [49:30<50:11, 61.45s/it]"
     ]
    },
    {
     "output_type": "stream",
     "name": "stdout",
     "text": [
      "All 5000 generations failed.\n"
     ]
    },
    {
     "output_type": "stream",
     "name": "stderr",
     "text": [
      " 52%|█████▏    | 52/100 [50:32<49:09, 61.44s/it]"
     ]
    },
    {
     "output_type": "stream",
     "name": "stdout",
     "text": [
      "All 5000 generations failed.\n"
     ]
    },
    {
     "output_type": "stream",
     "name": "stderr",
     "text": [
      " 53%|█████▎    | 53/100 [51:38<49:13, 62.85s/it]"
     ]
    },
    {
     "output_type": "stream",
     "name": "stdout",
     "text": [
      "All 5000 generations failed.\n"
     ]
    },
    {
     "output_type": "stream",
     "name": "stderr",
     "text": [
      " 54%|█████▍    | 54/100 [52:38<47:36, 62.09s/it]"
     ]
    },
    {
     "output_type": "stream",
     "name": "stdout",
     "text": [
      "All 5000 generations failed.\n"
     ]
    },
    {
     "output_type": "stream",
     "name": "stderr",
     "text": [
      " 55%|█████▌    | 55/100 [53:38<46:07, 61.50s/it]"
     ]
    },
    {
     "output_type": "stream",
     "name": "stdout",
     "text": [
      "All 5000 generations failed.\n"
     ]
    },
    {
     "output_type": "stream",
     "name": "stderr",
     "text": [
      " 56%|█████▌    | 56/100 [54:38<44:46, 61.07s/it]"
     ]
    },
    {
     "output_type": "stream",
     "name": "stdout",
     "text": [
      "All 5000 generations failed.\n"
     ]
    },
    {
     "output_type": "stream",
     "name": "stderr",
     "text": [
      " 57%|█████▋    | 57/100 [55:38<43:29, 60.70s/it]"
     ]
    },
    {
     "output_type": "stream",
     "name": "stdout",
     "text": [
      "All 5000 generations failed.\n"
     ]
    },
    {
     "output_type": "stream",
     "name": "stderr",
     "text": [
      " 58%|█████▊    | 58/100 [56:38<42:13, 60.33s/it]"
     ]
    },
    {
     "output_type": "stream",
     "name": "stdout",
     "text": [
      "All 5000 generations failed.\n"
     ]
    },
    {
     "output_type": "stream",
     "name": "stderr",
     "text": [
      " 59%|█████▉    | 59/100 [57:40<41:33, 60.82s/it]"
     ]
    },
    {
     "output_type": "stream",
     "name": "stdout",
     "text": [
      "All 5000 generations failed.\n"
     ]
    },
    {
     "output_type": "stream",
     "name": "stderr",
     "text": [
      " 60%|██████    | 60/100 [58:43<41:00, 61.51s/it]"
     ]
    },
    {
     "output_type": "stream",
     "name": "stdout",
     "text": [
      "All 5000 generations failed.\n"
     ]
    },
    {
     "output_type": "stream",
     "name": "stderr",
     "text": [
      " 61%|██████    | 61/100 [59:43<39:39, 61.02s/it]"
     ]
    },
    {
     "output_type": "stream",
     "name": "stdout",
     "text": [
      "All 5000 generations failed.\n"
     ]
    },
    {
     "output_type": "stream",
     "name": "stderr",
     "text": [
      " 62%|██████▏   | 62/100 [1:00:43<38:31, 60.83s/it]"
     ]
    },
    {
     "output_type": "stream",
     "name": "stdout",
     "text": [
      "All 5000 generations failed.\n"
     ]
    },
    {
     "output_type": "stream",
     "name": "stderr",
     "text": [
      " 63%|██████▎   | 63/100 [1:01:46<37:55, 61.50s/it]"
     ]
    },
    {
     "output_type": "stream",
     "name": "stdout",
     "text": [
      "All 5000 generations failed.\n"
     ]
    },
    {
     "output_type": "stream",
     "name": "stderr",
     "text": [
      " 64%|██████▍   | 64/100 [1:02:47<36:45, 61.27s/it]"
     ]
    },
    {
     "output_type": "stream",
     "name": "stdout",
     "text": [
      "All 5000 generations failed.\n"
     ]
    },
    {
     "output_type": "stream",
     "name": "stderr",
     "text": [
      " 65%|██████▌   | 65/100 [1:03:12<29:28, 50.52s/it]"
     ]
    },
    {
     "output_type": "stream",
     "name": "stdout",
     "text": [
      "Attack Success at generation 2066\n"
     ]
    },
    {
     "output_type": "stream",
     "name": "stderr",
     "text": [
      " 66%|██████▌   | 66/100 [1:04:16<30:49, 54.39s/it]"
     ]
    },
    {
     "output_type": "stream",
     "name": "stdout",
     "text": [
      "All 5000 generations failed.\n"
     ]
    },
    {
     "output_type": "stream",
     "name": "stderr",
     "text": [
      " 67%|██████▋   | 67/100 [1:05:20<31:35, 57.43s/it]"
     ]
    },
    {
     "output_type": "stream",
     "name": "stdout",
     "text": [
      "All 5000 generations failed.\n"
     ]
    },
    {
     "output_type": "stream",
     "name": "stderr",
     "text": [
      " 68%|██████▊   | 68/100 [1:06:24<31:35, 59.23s/it]"
     ]
    },
    {
     "output_type": "stream",
     "name": "stdout",
     "text": [
      "All 5000 generations failed.\n"
     ]
    },
    {
     "output_type": "stream",
     "name": "stderr",
     "text": [
      " 69%|██████▉   | 69/100 [1:07:25<31:01, 60.04s/it]"
     ]
    },
    {
     "output_type": "stream",
     "name": "stdout",
     "text": [
      "All 5000 generations failed.\n"
     ]
    },
    {
     "output_type": "stream",
     "name": "stderr",
     "text": [
      " 70%|███████   | 70/100 [1:08:28<30:26, 60.88s/it]"
     ]
    },
    {
     "output_type": "stream",
     "name": "stdout",
     "text": [
      "All 5000 generations failed.\n"
     ]
    },
    {
     "output_type": "stream",
     "name": "stderr",
     "text": [
      " 71%|███████   | 71/100 [1:09:29<29:22, 60.78s/it]"
     ]
    },
    {
     "output_type": "stream",
     "name": "stdout",
     "text": [
      "All 5000 generations failed.\n"
     ]
    },
    {
     "output_type": "stream",
     "name": "stderr",
     "text": [
      " 72%|███████▏  | 72/100 [1:10:34<28:55, 61.99s/it]"
     ]
    },
    {
     "output_type": "stream",
     "name": "stdout",
     "text": [
      "All 5000 generations failed.\n"
     ]
    },
    {
     "output_type": "stream",
     "name": "stderr",
     "text": [
      " 73%|███████▎  | 73/100 [1:11:35<27:46, 61.72s/it]"
     ]
    },
    {
     "output_type": "stream",
     "name": "stdout",
     "text": [
      "All 5000 generations failed.\n"
     ]
    },
    {
     "output_type": "stream",
     "name": "stderr",
     "text": [
      " 74%|███████▍  | 74/100 [1:12:35<26:32, 61.23s/it]"
     ]
    },
    {
     "output_type": "stream",
     "name": "stdout",
     "text": [
      "All 5000 generations failed.\n"
     ]
    },
    {
     "output_type": "stream",
     "name": "stderr",
     "text": [
      " 75%|███████▌  | 75/100 [1:13:36<25:33, 61.35s/it]"
     ]
    },
    {
     "output_type": "stream",
     "name": "stdout",
     "text": [
      "All 5000 generations failed.\n"
     ]
    },
    {
     "output_type": "stream",
     "name": "stderr",
     "text": [
      " 76%|███████▌  | 76/100 [1:14:37<24:29, 61.23s/it]"
     ]
    },
    {
     "output_type": "stream",
     "name": "stdout",
     "text": [
      "All 5000 generations failed.\n"
     ]
    },
    {
     "output_type": "stream",
     "name": "stderr",
     "text": [
      " 77%|███████▋  | 77/100 [1:15:38<23:20, 60.91s/it]"
     ]
    },
    {
     "output_type": "stream",
     "name": "stdout",
     "text": [
      "All 5000 generations failed.\n"
     ]
    },
    {
     "output_type": "stream",
     "name": "stderr",
     "text": [
      " 78%|███████▊  | 78/100 [1:16:38<22:13, 60.62s/it]"
     ]
    },
    {
     "output_type": "stream",
     "name": "stdout",
     "text": [
      "All 5000 generations failed.\n"
     ]
    },
    {
     "output_type": "stream",
     "name": "stderr",
     "text": [
      " 79%|███████▉  | 79/100 [1:17:38<21:10, 60.49s/it]"
     ]
    },
    {
     "output_type": "stream",
     "name": "stdout",
     "text": [
      "All 5000 generations failed.\n"
     ]
    },
    {
     "output_type": "stream",
     "name": "stderr",
     "text": [
      " 80%|████████  | 80/100 [1:18:38<20:08, 60.40s/it]"
     ]
    },
    {
     "output_type": "stream",
     "name": "stdout",
     "text": [
      "All 5000 generations failed.\n"
     ]
    },
    {
     "output_type": "stream",
     "name": "stderr",
     "text": [
      " 81%|████████  | 81/100 [1:19:38<19:08, 60.45s/it]"
     ]
    },
    {
     "output_type": "stream",
     "name": "stdout",
     "text": [
      "All 5000 generations failed.\n"
     ]
    },
    {
     "output_type": "stream",
     "name": "stderr",
     "text": [
      " 82%|████████▏ | 82/100 [1:20:39<18:06, 60.37s/it]"
     ]
    },
    {
     "output_type": "stream",
     "name": "stdout",
     "text": [
      "All 5000 generations failed.\n"
     ]
    },
    {
     "output_type": "stream",
     "name": "stderr",
     "text": [
      " 83%|████████▎ | 83/100 [1:21:39<17:07, 60.44s/it]"
     ]
    },
    {
     "output_type": "stream",
     "name": "stdout",
     "text": [
      "All 5000 generations failed.\n"
     ]
    },
    {
     "output_type": "stream",
     "name": "stderr",
     "text": [
      " 84%|████████▍ | 84/100 [1:22:39<16:05, 60.32s/it]"
     ]
    },
    {
     "output_type": "stream",
     "name": "stdout",
     "text": [
      "All 5000 generations failed.\n"
     ]
    },
    {
     "output_type": "stream",
     "name": "stderr",
     "text": [
      " 85%|████████▌ | 85/100 [1:23:40<15:05, 60.35s/it]"
     ]
    },
    {
     "output_type": "stream",
     "name": "stdout",
     "text": [
      "All 5000 generations failed.\n"
     ]
    },
    {
     "output_type": "stream",
     "name": "stderr",
     "text": [
      " 86%|████████▌ | 86/100 [1:24:41<14:06, 60.50s/it]"
     ]
    },
    {
     "output_type": "stream",
     "name": "stdout",
     "text": [
      "All 5000 generations failed.\n"
     ]
    },
    {
     "output_type": "stream",
     "name": "stderr",
     "text": [
      " 87%|████████▋ | 87/100 [1:25:41<13:05, 60.41s/it]"
     ]
    },
    {
     "output_type": "stream",
     "name": "stdout",
     "text": [
      "All 5000 generations failed.\n"
     ]
    },
    {
     "output_type": "stream",
     "name": "stderr",
     "text": [
      " 88%|████████▊ | 88/100 [1:26:41<12:04, 60.38s/it]"
     ]
    },
    {
     "output_type": "stream",
     "name": "stdout",
     "text": [
      "All 5000 generations failed.\n"
     ]
    },
    {
     "output_type": "stream",
     "name": "stderr",
     "text": [
      " 89%|████████▉ | 89/100 [1:27:42<11:04, 60.42s/it]"
     ]
    },
    {
     "output_type": "stream",
     "name": "stdout",
     "text": [
      "All 5000 generations failed.\n"
     ]
    },
    {
     "output_type": "stream",
     "name": "stderr",
     "text": [
      " 90%|█████████ | 90/100 [1:28:42<10:03, 60.37s/it]"
     ]
    },
    {
     "output_type": "stream",
     "name": "stdout",
     "text": [
      "All 5000 generations failed.\n"
     ]
    },
    {
     "output_type": "stream",
     "name": "stderr",
     "text": [
      " 91%|█████████ | 91/100 [1:29:43<09:04, 60.52s/it]"
     ]
    },
    {
     "output_type": "stream",
     "name": "stdout",
     "text": [
      "All 5000 generations failed.\n"
     ]
    },
    {
     "output_type": "stream",
     "name": "stderr",
     "text": [
      " 92%|█████████▏| 92/100 [1:30:44<08:04, 60.61s/it]"
     ]
    },
    {
     "output_type": "stream",
     "name": "stdout",
     "text": [
      "All 5000 generations failed.\n"
     ]
    },
    {
     "output_type": "stream",
     "name": "stderr",
     "text": [
      " 93%|█████████▎| 93/100 [1:31:44<07:04, 60.71s/it]"
     ]
    },
    {
     "output_type": "stream",
     "name": "stdout",
     "text": [
      "All 5000 generations failed.\n"
     ]
    },
    {
     "output_type": "stream",
     "name": "stderr",
     "text": [
      " 94%|█████████▍| 94/100 [1:32:44<06:02, 60.50s/it]"
     ]
    },
    {
     "output_type": "stream",
     "name": "stdout",
     "text": [
      "All 5000 generations failed.\n"
     ]
    },
    {
     "output_type": "stream",
     "name": "stderr",
     "text": [
      " 95%|█████████▌| 95/100 [1:33:44<05:01, 60.30s/it]"
     ]
    },
    {
     "output_type": "stream",
     "name": "stdout",
     "text": [
      "All 5000 generations failed.\n"
     ]
    },
    {
     "output_type": "stream",
     "name": "stderr",
     "text": [
      " 96%|█████████▌| 96/100 [1:34:45<04:01, 60.29s/it]"
     ]
    },
    {
     "output_type": "stream",
     "name": "stdout",
     "text": [
      "All 5000 generations failed.\n"
     ]
    },
    {
     "output_type": "stream",
     "name": "stderr",
     "text": [
      " 97%|█████████▋| 97/100 [1:35:44<03:00, 60.09s/it]"
     ]
    },
    {
     "output_type": "stream",
     "name": "stdout",
     "text": [
      "All 5000 generations failed.\n"
     ]
    },
    {
     "output_type": "stream",
     "name": "stderr",
     "text": [
      " 98%|█████████▊| 98/100 [1:35:47<01:25, 42.91s/it]"
     ]
    },
    {
     "output_type": "stream",
     "name": "stdout",
     "text": [
      "Attack Success at generation 238\n"
     ]
    },
    {
     "output_type": "stream",
     "name": "stderr",
     "text": [
      " 99%|█████████▉| 99/100 [1:36:48<00:48, 48.23s/it]"
     ]
    },
    {
     "output_type": "stream",
     "name": "stdout",
     "text": [
      "All 5000 generations failed.\n"
     ]
    },
    {
     "output_type": "stream",
     "name": "stderr",
     "text": [
      "100%|██████████| 100/100 [1:38:48<00:00, 59.29s/it]"
     ]
    },
    {
     "output_type": "stream",
     "name": "stdout",
     "text": [
      "All 5000 generations failed.\n",
      "t = 5928.738458\n"
     ]
    },
    {
     "output_type": "stream",
     "name": "stderr",
     "text": [
      "\n"
     ]
    }
   ],
   "metadata": {}
  },
  {
   "cell_type": "code",
   "execution_count": 12,
   "source": [
    "pops = np.array(pops)"
   ],
   "outputs": [],
   "metadata": {}
  },
  {
   "cell_type": "code",
   "execution_count": 13,
   "source": [
    "sample_preds = preds[indices]"
   ],
   "outputs": [],
   "metadata": {}
  },
  {
   "cell_type": "code",
   "execution_count": 14,
   "source": [
    "new_preds = []\n",
    "for i in range(100):\n",
    "    new_preds.append(model(torch.tensor(pops[i])).cpu().numpy())"
   ],
   "outputs": [],
   "metadata": {}
  },
  {
   "cell_type": "code",
   "execution_count": 15,
   "source": [
    "success = 0\n",
    "success_idx = []\n",
    "for i in range(100):\n",
    "    if targets[indices[i]].item() in new_preds[i]:\n",
    "        success_idx.append((indices[i].item(), (i, np.where(new_preds[i] == targets[indices[i]].item())[0][0])))\n",
    "        success += 1\n",
    "print(success)"
   ],
   "outputs": [
    {
     "output_type": "stream",
     "name": "stdout",
     "text": [
      "4\n"
     ]
    }
   ],
   "metadata": {}
  },
  {
   "cell_type": "code",
   "execution_count": 16,
   "source": [
    "cache = {\n",
    "    'indices' : indices,\n",
    "    'sample_preds' : sample_preds,\n",
    "    'pops' : np.array(pops),\n",
    "    'hyper_parameter' : [N, G, p, alpha, delta],\n",
    "    'success_idx' : success_idx,\n",
    "    'model' : model, \n",
    "    'scaler' : model.scaler,\n",
    "    'targets' : targets,\n",
    "    'results' : results\n",
    "}"
   ],
   "outputs": [],
   "metadata": {}
  },
  {
   "cell_type": "code",
   "execution_count": 17,
   "source": [
    "torch.save(cache, 'robust_onlinehd_fashion_mnist.pt')"
   ],
   "outputs": [],
   "metadata": {}
  },
  {
   "cell_type": "code",
   "execution_count": 18,
   "source": [
    "model(torch.tensor(pops[0]))"
   ],
   "outputs": [
    {
     "output_type": "execute_result",
     "data": {
      "text/plain": [
       "tensor([5, 5, 5, 5, 5, 5, 5, 5], device='cuda:0')"
      ]
     },
     "metadata": {},
     "execution_count": 18
    }
   ],
   "metadata": {}
  },
  {
   "cell_type": "code",
   "execution_count": 19,
   "source": [
    "labels = {\n",
    "    0 : 'T-shirt/top',\n",
    "    1 : 'Trouser',\n",
    "    2 : 'Pullover',\n",
    "    3 : 'Dress',\n",
    "    4 : 'Coat',\n",
    "    5 : 'Sandal',\n",
    "    6 : 'Shirt',\n",
    "    7 : 'Sneaker',\n",
    "    8 : 'Bag',\n",
    "    9 : 'Ankle boot'\n",
    "}"
   ],
   "outputs": [],
   "metadata": {}
  },
  {
   "cell_type": "code",
   "execution_count": 20,
   "source": [
    "origin_idx, (new_idx, new_idx_idx) = success_idx[torch.randint(0, len(success_idx), (1,)).item()]\n",
    "\n",
    "f, axes = plt.subplots(1, 2)\n",
    "axes[0].imshow(x_test[origin_idx], cmap=plt.gray())\n",
    "_ = axes[0].set_title('Properly classified : %s' % labels[sample_preds[new_idx].item()])\n",
    "axes[1].imshow(pops[new_idx][new_idx_idx].astype(np.int32))\n",
    "_ = axes[1].set_title('Misclassified : %s' % labels[new_preds[new_idx][new_idx_idx]])"
   ],
   "outputs": [
    {
     "output_type": "display_data",
     "data": {
      "text/plain": [
       "<Figure size 432x288 with 2 Axes>"
      ],
      "image/svg+xml": "<?xml version=\"1.0\" encoding=\"utf-8\" standalone=\"no\"?>\n<!DOCTYPE svg PUBLIC \"-//W3C//DTD SVG 1.1//EN\"\n  \"http://www.w3.org/Graphics/SVG/1.1/DTD/svg11.dtd\">\n<svg height=\"198.378068pt\" version=\"1.1\" viewBox=\"0 0 368.925 198.378068\" width=\"368.925pt\" xmlns=\"http://www.w3.org/2000/svg\" xmlns:xlink=\"http://www.w3.org/1999/xlink\">\n <metadata>\n  <rdf:RDF xmlns:cc=\"http://creativecommons.org/ns#\" xmlns:dc=\"http://purl.org/dc/elements/1.1/\" xmlns:rdf=\"http://www.w3.org/1999/02/22-rdf-syntax-ns#\">\n   <cc:Work>\n    <dc:type rdf:resource=\"http://purl.org/dc/dcmitype/StillImage\"/>\n    <dc:date>2021-08-07T11:53:02.219251</dc:date>\n    <dc:format>image/svg+xml</dc:format>\n    <dc:creator>\n     <cc:Agent>\n      <dc:title>Matplotlib v3.4.2, https://matplotlib.org/</dc:title>\n     </cc:Agent>\n    </dc:creator>\n   </cc:Work>\n  </rdf:RDF>\n </metadata>\n <defs>\n  <style type=\"text/css\">*{stroke-linecap:butt;stroke-linejoin:round;}</style>\n </defs>\n <g id=\"figure_1\">\n  <g id=\"patch_1\">\n   <path d=\"M -0 198.378068 \nL 368.925 198.378068 \nL 368.925 0 \nL -0 0 \nz\n\" style=\"fill:none;\"/>\n  </g>\n  <g id=\"axes_1\">\n   <g id=\"patch_2\">\n    <path d=\"M 26.925 174.499943 \nL 179.106818 174.499943 \nL 179.106818 22.318125 \nL 26.925 22.318125 \nz\n\" style=\"fill:#ffffff;\"/>\n   </g>\n   <g clip-path=\"url(#pf5dfbac777)\">\n    <image height=\"153\" id=\"imageb7a9907fe5\" transform=\"scale(1 -1)translate(0 -153)\" width=\"153\" x=\"26.925\" xlink:href=\"data:image/png;base64,\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\" y=\"-21.499943\"/>\n   </g>\n   <g id=\"matplotlib.axis_1\">\n    <g id=\"xtick_1\">\n     <g id=\"line2d_1\">\n      <defs>\n       <path d=\"M 0 0 \nL 0 3.5 \n\" id=\"m0bfc421b55\" style=\"stroke:#000000;stroke-width:0.8;\"/>\n      </defs>\n      <g>\n       <use style=\"stroke:#000000;stroke-width:0.8;\" x=\"29.642532\" xlink:href=\"#m0bfc421b55\" y=\"174.499943\"/>\n      </g>\n     </g>\n     <g id=\"text_1\">\n      <!-- 0 -->\n      <g transform=\"translate(26.461282 189.098381)scale(0.1 -0.1)\">\n       <defs>\n        <path d=\"M 2034 4250 \nQ 1547 4250 1301 3770 \nQ 1056 3291 1056 2328 \nQ 1056 1369 1301 889 \nQ 1547 409 2034 409 \nQ 2525 409 2770 889 \nQ 3016 1369 3016 2328 \nQ 3016 3291 2770 3770 \nQ 2525 4250 2034 4250 \nz\nM 2034 4750 \nQ 2819 4750 3233 4129 \nQ 3647 3509 3647 2328 \nQ 3647 1150 3233 529 \nQ 2819 -91 2034 -91 \nQ 1250 -91 836 529 \nQ 422 1150 422 2328 \nQ 422 3509 836 4129 \nQ 1250 4750 2034 4750 \nz\n\" id=\"DejaVuSans-30\" transform=\"scale(0.015625)\"/>\n       </defs>\n       <use xlink:href=\"#DejaVuSans-30\"/>\n      </g>\n     </g>\n    </g>\n    <g id=\"xtick_2\">\n     <g id=\"line2d_2\">\n      <g>\n       <use style=\"stroke:#000000;stroke-width:0.8;\" x=\"83.993182\" xlink:href=\"#m0bfc421b55\" y=\"174.499943\"/>\n      </g>\n     </g>\n     <g id=\"text_2\">\n      <!-- 10 -->\n      <g transform=\"translate(77.630682 189.098381)scale(0.1 -0.1)\">\n       <defs>\n        <path d=\"M 794 531 \nL 1825 531 \nL 1825 4091 \nL 703 3866 \nL 703 4441 \nL 1819 4666 \nL 2450 4666 \nL 2450 531 \nL 3481 531 \nL 3481 0 \nL 794 0 \nL 794 531 \nz\n\" id=\"DejaVuSans-31\" transform=\"scale(0.015625)\"/>\n       </defs>\n       <use xlink:href=\"#DejaVuSans-31\"/>\n       <use x=\"63.623047\" xlink:href=\"#DejaVuSans-30\"/>\n      </g>\n     </g>\n    </g>\n    <g id=\"xtick_3\">\n     <g id=\"line2d_3\">\n      <g>\n       <use style=\"stroke:#000000;stroke-width:0.8;\" x=\"138.343831\" xlink:href=\"#m0bfc421b55\" y=\"174.499943\"/>\n      </g>\n     </g>\n     <g id=\"text_3\">\n      <!-- 20 -->\n      <g transform=\"translate(131.981331 189.098381)scale(0.1 -0.1)\">\n       <defs>\n        <path d=\"M 1228 531 \nL 3431 531 \nL 3431 0 \nL 469 0 \nL 469 531 \nQ 828 903 1448 1529 \nQ 2069 2156 2228 2338 \nQ 2531 2678 2651 2914 \nQ 2772 3150 2772 3378 \nQ 2772 3750 2511 3984 \nQ 2250 4219 1831 4219 \nQ 1534 4219 1204 4116 \nQ 875 4013 500 3803 \nL 500 4441 \nQ 881 4594 1212 4672 \nQ 1544 4750 1819 4750 \nQ 2544 4750 2975 4387 \nQ 3406 4025 3406 3419 \nQ 3406 3131 3298 2873 \nQ 3191 2616 2906 2266 \nQ 2828 2175 2409 1742 \nQ 1991 1309 1228 531 \nz\n\" id=\"DejaVuSans-32\" transform=\"scale(0.015625)\"/>\n       </defs>\n       <use xlink:href=\"#DejaVuSans-32\"/>\n       <use x=\"63.623047\" xlink:href=\"#DejaVuSans-30\"/>\n      </g>\n     </g>\n    </g>\n   </g>\n   <g id=\"matplotlib.axis_2\">\n    <g id=\"ytick_1\">\n     <g id=\"line2d_4\">\n      <defs>\n       <path d=\"M 0 0 \nL -3.5 0 \n\" id=\"mdad097c785\" style=\"stroke:#000000;stroke-width:0.8;\"/>\n      </defs>\n      <g>\n       <use style=\"stroke:#000000;stroke-width:0.8;\" x=\"26.925\" xlink:href=\"#mdad097c785\" y=\"25.035657\"/>\n      </g>\n     </g>\n     <g id=\"text_4\">\n      <!-- 0 -->\n      <g transform=\"translate(13.5625 28.834876)scale(0.1 -0.1)\">\n       <use xlink:href=\"#DejaVuSans-30\"/>\n      </g>\n     </g>\n    </g>\n    <g id=\"ytick_2\">\n     <g id=\"line2d_5\">\n      <g>\n       <use style=\"stroke:#000000;stroke-width:0.8;\" x=\"26.925\" xlink:href=\"#mdad097c785\" y=\"52.210982\"/>\n      </g>\n     </g>\n     <g id=\"text_5\">\n      <!-- 5 -->\n      <g transform=\"translate(13.5625 56.010201)scale(0.1 -0.1)\">\n       <defs>\n        <path d=\"M 691 4666 \nL 3169 4666 \nL 3169 4134 \nL 1269 4134 \nL 1269 2991 \nQ 1406 3038 1543 3061 \nQ 1681 3084 1819 3084 \nQ 2600 3084 3056 2656 \nQ 3513 2228 3513 1497 \nQ 3513 744 3044 326 \nQ 2575 -91 1722 -91 \nQ 1428 -91 1123 -41 \nQ 819 9 494 109 \nL 494 744 \nQ 775 591 1075 516 \nQ 1375 441 1709 441 \nQ 2250 441 2565 725 \nQ 2881 1009 2881 1497 \nQ 2881 1984 2565 2268 \nQ 2250 2553 1709 2553 \nQ 1456 2553 1204 2497 \nQ 953 2441 691 2322 \nL 691 4666 \nz\n\" id=\"DejaVuSans-35\" transform=\"scale(0.015625)\"/>\n       </defs>\n       <use xlink:href=\"#DejaVuSans-35\"/>\n      </g>\n     </g>\n    </g>\n    <g id=\"ytick_3\">\n     <g id=\"line2d_6\">\n      <g>\n       <use style=\"stroke:#000000;stroke-width:0.8;\" x=\"26.925\" xlink:href=\"#mdad097c785\" y=\"79.386307\"/>\n      </g>\n     </g>\n     <g id=\"text_6\">\n      <!-- 10 -->\n      <g transform=\"translate(7.2 83.185526)scale(0.1 -0.1)\">\n       <use xlink:href=\"#DejaVuSans-31\"/>\n       <use x=\"63.623047\" xlink:href=\"#DejaVuSans-30\"/>\n      </g>\n     </g>\n    </g>\n    <g id=\"ytick_4\">\n     <g id=\"line2d_7\">\n      <g>\n       <use style=\"stroke:#000000;stroke-width:0.8;\" x=\"26.925\" xlink:href=\"#mdad097c785\" y=\"106.561631\"/>\n      </g>\n     </g>\n     <g id=\"text_7\">\n      <!-- 15 -->\n      <g transform=\"translate(7.2 110.36085)scale(0.1 -0.1)\">\n       <use xlink:href=\"#DejaVuSans-31\"/>\n       <use x=\"63.623047\" xlink:href=\"#DejaVuSans-35\"/>\n      </g>\n     </g>\n    </g>\n    <g id=\"ytick_5\">\n     <g id=\"line2d_8\">\n      <g>\n       <use style=\"stroke:#000000;stroke-width:0.8;\" x=\"26.925\" xlink:href=\"#mdad097c785\" y=\"133.736956\"/>\n      </g>\n     </g>\n     <g id=\"text_8\">\n      <!-- 20 -->\n      <g transform=\"translate(7.2 137.536175)scale(0.1 -0.1)\">\n       <use xlink:href=\"#DejaVuSans-32\"/>\n       <use x=\"63.623047\" xlink:href=\"#DejaVuSans-30\"/>\n      </g>\n     </g>\n    </g>\n    <g id=\"ytick_6\">\n     <g id=\"line2d_9\">\n      <g>\n       <use style=\"stroke:#000000;stroke-width:0.8;\" x=\"26.925\" xlink:href=\"#mdad097c785\" y=\"160.912281\"/>\n      </g>\n     </g>\n     <g id=\"text_9\">\n      <!-- 25 -->\n      <g transform=\"translate(7.2 164.7115)scale(0.1 -0.1)\">\n       <use xlink:href=\"#DejaVuSans-32\"/>\n       <use x=\"63.623047\" xlink:href=\"#DejaVuSans-35\"/>\n      </g>\n     </g>\n    </g>\n   </g>\n   <g id=\"patch_3\">\n    <path d=\"M 26.925 174.499943 \nL 26.925 22.318125 \n\" style=\"fill:none;stroke:#000000;stroke-linecap:square;stroke-linejoin:miter;stroke-width:0.8;\"/>\n   </g>\n   <g id=\"patch_4\">\n    <path d=\"M 179.106818 174.499943 \nL 179.106818 22.318125 \n\" style=\"fill:none;stroke:#000000;stroke-linecap:square;stroke-linejoin:miter;stroke-width:0.8;\"/>\n   </g>\n   <g id=\"patch_5\">\n    <path d=\"M 26.925 174.499943 \nL 179.106818 174.499943 \n\" style=\"fill:none;stroke:#000000;stroke-linecap:square;stroke-linejoin:miter;stroke-width:0.8;\"/>\n   </g>\n   <g id=\"patch_6\">\n    <path d=\"M 26.925 22.318125 \nL 179.106818 22.318125 \n\" style=\"fill:none;stroke:#000000;stroke-linecap:square;stroke-linejoin:miter;stroke-width:0.8;\"/>\n   </g>\n   <g id=\"text_10\">\n    <!-- Properly classified : Shirt -->\n    <g transform=\"translate(28.634659 16.318125)scale(0.12 -0.12)\">\n     <defs>\n      <path d=\"M 1259 4147 \nL 1259 2394 \nL 2053 2394 \nQ 2494 2394 2734 2622 \nQ 2975 2850 2975 3272 \nQ 2975 3691 2734 3919 \nQ 2494 4147 2053 4147 \nL 1259 4147 \nz\nM 628 4666 \nL 2053 4666 \nQ 2838 4666 3239 4311 \nQ 3641 3956 3641 3272 \nQ 3641 2581 3239 2228 \nQ 2838 1875 2053 1875 \nL 1259 1875 \nL 1259 0 \nL 628 0 \nL 628 4666 \nz\n\" id=\"DejaVuSans-50\" transform=\"scale(0.015625)\"/>\n      <path d=\"M 2631 2963 \nQ 2534 3019 2420 3045 \nQ 2306 3072 2169 3072 \nQ 1681 3072 1420 2755 \nQ 1159 2438 1159 1844 \nL 1159 0 \nL 581 0 \nL 581 3500 \nL 1159 3500 \nL 1159 2956 \nQ 1341 3275 1631 3429 \nQ 1922 3584 2338 3584 \nQ 2397 3584 2469 3576 \nQ 2541 3569 2628 3553 \nL 2631 2963 \nz\n\" id=\"DejaVuSans-72\" transform=\"scale(0.015625)\"/>\n      <path d=\"M 1959 3097 \nQ 1497 3097 1228 2736 \nQ 959 2375 959 1747 \nQ 959 1119 1226 758 \nQ 1494 397 1959 397 \nQ 2419 397 2687 759 \nQ 2956 1122 2956 1747 \nQ 2956 2369 2687 2733 \nQ 2419 3097 1959 3097 \nz\nM 1959 3584 \nQ 2709 3584 3137 3096 \nQ 3566 2609 3566 1747 \nQ 3566 888 3137 398 \nQ 2709 -91 1959 -91 \nQ 1206 -91 779 398 \nQ 353 888 353 1747 \nQ 353 2609 779 3096 \nQ 1206 3584 1959 3584 \nz\n\" id=\"DejaVuSans-6f\" transform=\"scale(0.015625)\"/>\n      <path d=\"M 1159 525 \nL 1159 -1331 \nL 581 -1331 \nL 581 3500 \nL 1159 3500 \nL 1159 2969 \nQ 1341 3281 1617 3432 \nQ 1894 3584 2278 3584 \nQ 2916 3584 3314 3078 \nQ 3713 2572 3713 1747 \nQ 3713 922 3314 415 \nQ 2916 -91 2278 -91 \nQ 1894 -91 1617 61 \nQ 1341 213 1159 525 \nz\nM 3116 1747 \nQ 3116 2381 2855 2742 \nQ 2594 3103 2138 3103 \nQ 1681 3103 1420 2742 \nQ 1159 2381 1159 1747 \nQ 1159 1113 1420 752 \nQ 1681 391 2138 391 \nQ 2594 391 2855 752 \nQ 3116 1113 3116 1747 \nz\n\" id=\"DejaVuSans-70\" transform=\"scale(0.015625)\"/>\n      <path d=\"M 3597 1894 \nL 3597 1613 \nL 953 1613 \nQ 991 1019 1311 708 \nQ 1631 397 2203 397 \nQ 2534 397 2845 478 \nQ 3156 559 3463 722 \nL 3463 178 \nQ 3153 47 2828 -22 \nQ 2503 -91 2169 -91 \nQ 1331 -91 842 396 \nQ 353 884 353 1716 \nQ 353 2575 817 3079 \nQ 1281 3584 2069 3584 \nQ 2775 3584 3186 3129 \nQ 3597 2675 3597 1894 \nz\nM 3022 2063 \nQ 3016 2534 2758 2815 \nQ 2500 3097 2075 3097 \nQ 1594 3097 1305 2825 \nQ 1016 2553 972 2059 \nL 3022 2063 \nz\n\" id=\"DejaVuSans-65\" transform=\"scale(0.015625)\"/>\n      <path d=\"M 603 4863 \nL 1178 4863 \nL 1178 0 \nL 603 0 \nL 603 4863 \nz\n\" id=\"DejaVuSans-6c\" transform=\"scale(0.015625)\"/>\n      <path d=\"M 2059 -325 \nQ 1816 -950 1584 -1140 \nQ 1353 -1331 966 -1331 \nL 506 -1331 \nL 506 -850 \nL 844 -850 \nQ 1081 -850 1212 -737 \nQ 1344 -625 1503 -206 \nL 1606 56 \nL 191 3500 \nL 800 3500 \nL 1894 763 \nL 2988 3500 \nL 3597 3500 \nL 2059 -325 \nz\n\" id=\"DejaVuSans-79\" transform=\"scale(0.015625)\"/>\n      <path id=\"DejaVuSans-20\" transform=\"scale(0.015625)\"/>\n      <path d=\"M 3122 3366 \nL 3122 2828 \nQ 2878 2963 2633 3030 \nQ 2388 3097 2138 3097 \nQ 1578 3097 1268 2742 \nQ 959 2388 959 1747 \nQ 959 1106 1268 751 \nQ 1578 397 2138 397 \nQ 2388 397 2633 464 \nQ 2878 531 3122 666 \nL 3122 134 \nQ 2881 22 2623 -34 \nQ 2366 -91 2075 -91 \nQ 1284 -91 818 406 \nQ 353 903 353 1747 \nQ 353 2603 823 3093 \nQ 1294 3584 2113 3584 \nQ 2378 3584 2631 3529 \nQ 2884 3475 3122 3366 \nz\n\" id=\"DejaVuSans-63\" transform=\"scale(0.015625)\"/>\n      <path d=\"M 2194 1759 \nQ 1497 1759 1228 1600 \nQ 959 1441 959 1056 \nQ 959 750 1161 570 \nQ 1363 391 1709 391 \nQ 2188 391 2477 730 \nQ 2766 1069 2766 1631 \nL 2766 1759 \nL 2194 1759 \nz\nM 3341 1997 \nL 3341 0 \nL 2766 0 \nL 2766 531 \nQ 2569 213 2275 61 \nQ 1981 -91 1556 -91 \nQ 1019 -91 701 211 \nQ 384 513 384 1019 \nQ 384 1609 779 1909 \nQ 1175 2209 1959 2209 \nL 2766 2209 \nL 2766 2266 \nQ 2766 2663 2505 2880 \nQ 2244 3097 1772 3097 \nQ 1472 3097 1187 3025 \nQ 903 2953 641 2809 \nL 641 3341 \nQ 956 3463 1253 3523 \nQ 1550 3584 1831 3584 \nQ 2591 3584 2966 3190 \nQ 3341 2797 3341 1997 \nz\n\" id=\"DejaVuSans-61\" transform=\"scale(0.015625)\"/>\n      <path d=\"M 2834 3397 \nL 2834 2853 \nQ 2591 2978 2328 3040 \nQ 2066 3103 1784 3103 \nQ 1356 3103 1142 2972 \nQ 928 2841 928 2578 \nQ 928 2378 1081 2264 \nQ 1234 2150 1697 2047 \nL 1894 2003 \nQ 2506 1872 2764 1633 \nQ 3022 1394 3022 966 \nQ 3022 478 2636 193 \nQ 2250 -91 1575 -91 \nQ 1294 -91 989 -36 \nQ 684 19 347 128 \nL 347 722 \nQ 666 556 975 473 \nQ 1284 391 1588 391 \nQ 1994 391 2212 530 \nQ 2431 669 2431 922 \nQ 2431 1156 2273 1281 \nQ 2116 1406 1581 1522 \nL 1381 1569 \nQ 847 1681 609 1914 \nQ 372 2147 372 2553 \nQ 372 3047 722 3315 \nQ 1072 3584 1716 3584 \nQ 2034 3584 2315 3537 \nQ 2597 3491 2834 3397 \nz\n\" id=\"DejaVuSans-73\" transform=\"scale(0.015625)\"/>\n      <path d=\"M 603 3500 \nL 1178 3500 \nL 1178 0 \nL 603 0 \nL 603 3500 \nz\nM 603 4863 \nL 1178 4863 \nL 1178 4134 \nL 603 4134 \nL 603 4863 \nz\n\" id=\"DejaVuSans-69\" transform=\"scale(0.015625)\"/>\n      <path d=\"M 2375 4863 \nL 2375 4384 \nL 1825 4384 \nQ 1516 4384 1395 4259 \nQ 1275 4134 1275 3809 \nL 1275 3500 \nL 2222 3500 \nL 2222 3053 \nL 1275 3053 \nL 1275 0 \nL 697 0 \nL 697 3053 \nL 147 3053 \nL 147 3500 \nL 697 3500 \nL 697 3744 \nQ 697 4328 969 4595 \nQ 1241 4863 1831 4863 \nL 2375 4863 \nz\n\" id=\"DejaVuSans-66\" transform=\"scale(0.015625)\"/>\n      <path d=\"M 2906 2969 \nL 2906 4863 \nL 3481 4863 \nL 3481 0 \nL 2906 0 \nL 2906 525 \nQ 2725 213 2448 61 \nQ 2172 -91 1784 -91 \nQ 1150 -91 751 415 \nQ 353 922 353 1747 \nQ 353 2572 751 3078 \nQ 1150 3584 1784 3584 \nQ 2172 3584 2448 3432 \nQ 2725 3281 2906 2969 \nz\nM 947 1747 \nQ 947 1113 1208 752 \nQ 1469 391 1925 391 \nQ 2381 391 2643 752 \nQ 2906 1113 2906 1747 \nQ 2906 2381 2643 2742 \nQ 2381 3103 1925 3103 \nQ 1469 3103 1208 2742 \nQ 947 2381 947 1747 \nz\n\" id=\"DejaVuSans-64\" transform=\"scale(0.015625)\"/>\n      <path d=\"M 750 794 \nL 1409 794 \nL 1409 0 \nL 750 0 \nL 750 794 \nz\nM 750 3309 \nL 1409 3309 \nL 1409 2516 \nL 750 2516 \nL 750 3309 \nz\n\" id=\"DejaVuSans-3a\" transform=\"scale(0.015625)\"/>\n      <path d=\"M 3425 4513 \nL 3425 3897 \nQ 3066 4069 2747 4153 \nQ 2428 4238 2131 4238 \nQ 1616 4238 1336 4038 \nQ 1056 3838 1056 3469 \nQ 1056 3159 1242 3001 \nQ 1428 2844 1947 2747 \nL 2328 2669 \nQ 3034 2534 3370 2195 \nQ 3706 1856 3706 1288 \nQ 3706 609 3251 259 \nQ 2797 -91 1919 -91 \nQ 1588 -91 1214 -16 \nQ 841 59 441 206 \nL 441 856 \nQ 825 641 1194 531 \nQ 1563 422 1919 422 \nQ 2459 422 2753 634 \nQ 3047 847 3047 1241 \nQ 3047 1584 2836 1778 \nQ 2625 1972 2144 2069 \nL 1759 2144 \nQ 1053 2284 737 2584 \nQ 422 2884 422 3419 \nQ 422 4038 858 4394 \nQ 1294 4750 2059 4750 \nQ 2388 4750 2728 4690 \nQ 3069 4631 3425 4513 \nz\n\" id=\"DejaVuSans-53\" transform=\"scale(0.015625)\"/>\n      <path d=\"M 3513 2113 \nL 3513 0 \nL 2938 0 \nL 2938 2094 \nQ 2938 2591 2744 2837 \nQ 2550 3084 2163 3084 \nQ 1697 3084 1428 2787 \nQ 1159 2491 1159 1978 \nL 1159 0 \nL 581 0 \nL 581 4863 \nL 1159 4863 \nL 1159 2956 \nQ 1366 3272 1645 3428 \nQ 1925 3584 2291 3584 \nQ 2894 3584 3203 3211 \nQ 3513 2838 3513 2113 \nz\n\" id=\"DejaVuSans-68\" transform=\"scale(0.015625)\"/>\n      <path d=\"M 1172 4494 \nL 1172 3500 \nL 2356 3500 \nL 2356 3053 \nL 1172 3053 \nL 1172 1153 \nQ 1172 725 1289 603 \nQ 1406 481 1766 481 \nL 2356 481 \nL 2356 0 \nL 1766 0 \nQ 1100 0 847 248 \nQ 594 497 594 1153 \nL 594 3053 \nL 172 3053 \nL 172 3500 \nL 594 3500 \nL 594 4494 \nL 1172 4494 \nz\n\" id=\"DejaVuSans-74\" transform=\"scale(0.015625)\"/>\n     </defs>\n     <use xlink:href=\"#DejaVuSans-50\"/>\n     <use x=\"58.552734\" xlink:href=\"#DejaVuSans-72\"/>\n     <use x=\"97.416016\" xlink:href=\"#DejaVuSans-6f\"/>\n     <use x=\"158.597656\" xlink:href=\"#DejaVuSans-70\"/>\n     <use x=\"222.074219\" xlink:href=\"#DejaVuSans-65\"/>\n     <use x=\"283.597656\" xlink:href=\"#DejaVuSans-72\"/>\n     <use x=\"324.710938\" xlink:href=\"#DejaVuSans-6c\"/>\n     <use x=\"352.494141\" xlink:href=\"#DejaVuSans-79\"/>\n     <use x=\"411.673828\" xlink:href=\"#DejaVuSans-20\"/>\n     <use x=\"443.460938\" xlink:href=\"#DejaVuSans-63\"/>\n     <use x=\"498.441406\" xlink:href=\"#DejaVuSans-6c\"/>\n     <use x=\"526.224609\" xlink:href=\"#DejaVuSans-61\"/>\n     <use x=\"587.503906\" xlink:href=\"#DejaVuSans-73\"/>\n     <use x=\"639.603516\" xlink:href=\"#DejaVuSans-73\"/>\n     <use x=\"691.703125\" xlink:href=\"#DejaVuSans-69\"/>\n     <use x=\"719.486328\" xlink:href=\"#DejaVuSans-66\"/>\n     <use x=\"754.691406\" xlink:href=\"#DejaVuSans-69\"/>\n     <use x=\"782.474609\" xlink:href=\"#DejaVuSans-65\"/>\n     <use x=\"843.998047\" xlink:href=\"#DejaVuSans-64\"/>\n     <use x=\"907.474609\" xlink:href=\"#DejaVuSans-20\"/>\n     <use x=\"939.261719\" xlink:href=\"#DejaVuSans-3a\"/>\n     <use x=\"972.953125\" xlink:href=\"#DejaVuSans-20\"/>\n     <use x=\"1004.740234\" xlink:href=\"#DejaVuSans-53\"/>\n     <use x=\"1068.216797\" xlink:href=\"#DejaVuSans-68\"/>\n     <use x=\"1131.595703\" xlink:href=\"#DejaVuSans-69\"/>\n     <use x=\"1159.378906\" xlink:href=\"#DejaVuSans-72\"/>\n     <use x=\"1200.492188\" xlink:href=\"#DejaVuSans-74\"/>\n    </g>\n   </g>\n  </g>\n  <g id=\"axes_2\">\n   <g id=\"patch_7\">\n    <path d=\"M 209.543182 174.499943 \nL 361.725 174.499943 \nL 361.725 22.318125 \nL 209.543182 22.318125 \nz\n\" style=\"fill:#ffffff;\"/>\n   </g>\n   <g clip-path=\"url(#pace0e07e8d)\">\n    <image height=\"153\" id=\"imagec475d72423\" transform=\"scale(1 -1)translate(0 -153)\" width=\"153\" x=\"209.543182\" xlink:href=\"data:image/png;base64,\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\" y=\"-21.499943\"/>\n   </g>\n   <g id=\"matplotlib.axis_3\">\n    <g id=\"xtick_4\">\n     <g id=\"line2d_10\">\n      <g>\n       <use style=\"stroke:#000000;stroke-width:0.8;\" x=\"212.260714\" xlink:href=\"#m0bfc421b55\" y=\"174.499943\"/>\n      </g>\n     </g>\n     <g id=\"text_11\">\n      <!-- 0 -->\n      <g transform=\"translate(209.079464 189.098381)scale(0.1 -0.1)\">\n       <use xlink:href=\"#DejaVuSans-30\"/>\n      </g>\n     </g>\n    </g>\n    <g id=\"xtick_5\">\n     <g id=\"line2d_11\">\n      <g>\n       <use style=\"stroke:#000000;stroke-width:0.8;\" x=\"266.611364\" xlink:href=\"#m0bfc421b55\" y=\"174.499943\"/>\n      </g>\n     </g>\n     <g id=\"text_12\">\n      <!-- 10 -->\n      <g transform=\"translate(260.248864 189.098381)scale(0.1 -0.1)\">\n       <use xlink:href=\"#DejaVuSans-31\"/>\n       <use x=\"63.623047\" xlink:href=\"#DejaVuSans-30\"/>\n      </g>\n     </g>\n    </g>\n    <g id=\"xtick_6\">\n     <g id=\"line2d_12\">\n      <g>\n       <use style=\"stroke:#000000;stroke-width:0.8;\" x=\"320.962013\" xlink:href=\"#m0bfc421b55\" y=\"174.499943\"/>\n      </g>\n     </g>\n     <g id=\"text_13\">\n      <!-- 20 -->\n      <g transform=\"translate(314.599513 189.098381)scale(0.1 -0.1)\">\n       <use xlink:href=\"#DejaVuSans-32\"/>\n       <use x=\"63.623047\" xlink:href=\"#DejaVuSans-30\"/>\n      </g>\n     </g>\n    </g>\n   </g>\n   <g id=\"matplotlib.axis_4\">\n    <g id=\"ytick_7\">\n     <g id=\"line2d_13\">\n      <g>\n       <use style=\"stroke:#000000;stroke-width:0.8;\" x=\"209.543182\" xlink:href=\"#mdad097c785\" y=\"25.035657\"/>\n      </g>\n     </g>\n     <g id=\"text_14\">\n      <!-- 0 -->\n      <g transform=\"translate(196.180682 28.834876)scale(0.1 -0.1)\">\n       <use xlink:href=\"#DejaVuSans-30\"/>\n      </g>\n     </g>\n    </g>\n    <g id=\"ytick_8\">\n     <g id=\"line2d_14\">\n      <g>\n       <use style=\"stroke:#000000;stroke-width:0.8;\" x=\"209.543182\" xlink:href=\"#mdad097c785\" y=\"52.210982\"/>\n      </g>\n     </g>\n     <g id=\"text_15\">\n      <!-- 5 -->\n      <g transform=\"translate(196.180682 56.010201)scale(0.1 -0.1)\">\n       <use xlink:href=\"#DejaVuSans-35\"/>\n      </g>\n     </g>\n    </g>\n    <g id=\"ytick_9\">\n     <g id=\"line2d_15\">\n      <g>\n       <use style=\"stroke:#000000;stroke-width:0.8;\" x=\"209.543182\" xlink:href=\"#mdad097c785\" y=\"79.386307\"/>\n      </g>\n     </g>\n     <g id=\"text_16\">\n      <!-- 10 -->\n      <g transform=\"translate(189.818182 83.185526)scale(0.1 -0.1)\">\n       <use xlink:href=\"#DejaVuSans-31\"/>\n       <use x=\"63.623047\" xlink:href=\"#DejaVuSans-30\"/>\n      </g>\n     </g>\n    </g>\n    <g id=\"ytick_10\">\n     <g id=\"line2d_16\">\n      <g>\n       <use style=\"stroke:#000000;stroke-width:0.8;\" x=\"209.543182\" xlink:href=\"#mdad097c785\" y=\"106.561631\"/>\n      </g>\n     </g>\n     <g id=\"text_17\">\n      <!-- 15 -->\n      <g transform=\"translate(189.818182 110.36085)scale(0.1 -0.1)\">\n       <use xlink:href=\"#DejaVuSans-31\"/>\n       <use x=\"63.623047\" xlink:href=\"#DejaVuSans-35\"/>\n      </g>\n     </g>\n    </g>\n    <g id=\"ytick_11\">\n     <g id=\"line2d_17\">\n      <g>\n       <use style=\"stroke:#000000;stroke-width:0.8;\" x=\"209.543182\" xlink:href=\"#mdad097c785\" y=\"133.736956\"/>\n      </g>\n     </g>\n     <g id=\"text_18\">\n      <!-- 20 -->\n      <g transform=\"translate(189.818182 137.536175)scale(0.1 -0.1)\">\n       <use xlink:href=\"#DejaVuSans-32\"/>\n       <use x=\"63.623047\" xlink:href=\"#DejaVuSans-30\"/>\n      </g>\n     </g>\n    </g>\n    <g id=\"ytick_12\">\n     <g id=\"line2d_18\">\n      <g>\n       <use style=\"stroke:#000000;stroke-width:0.8;\" x=\"209.543182\" xlink:href=\"#mdad097c785\" y=\"160.912281\"/>\n      </g>\n     </g>\n     <g id=\"text_19\">\n      <!-- 25 -->\n      <g transform=\"translate(189.818182 164.7115)scale(0.1 -0.1)\">\n       <use xlink:href=\"#DejaVuSans-32\"/>\n       <use x=\"63.623047\" xlink:href=\"#DejaVuSans-35\"/>\n      </g>\n     </g>\n    </g>\n   </g>\n   <g id=\"patch_8\">\n    <path d=\"M 209.543182 174.499943 \nL 209.543182 22.318125 \n\" style=\"fill:none;stroke:#000000;stroke-linecap:square;stroke-linejoin:miter;stroke-width:0.8;\"/>\n   </g>\n   <g id=\"patch_9\">\n    <path d=\"M 361.725 174.499943 \nL 361.725 22.318125 \n\" style=\"fill:none;stroke:#000000;stroke-linecap:square;stroke-linejoin:miter;stroke-width:0.8;\"/>\n   </g>\n   <g id=\"patch_10\">\n    <path d=\"M 209.543182 174.499943 \nL 361.725 174.499943 \n\" style=\"fill:none;stroke:#000000;stroke-linecap:square;stroke-linejoin:miter;stroke-width:0.8;\"/>\n   </g>\n   <g id=\"patch_11\">\n    <path d=\"M 209.543182 22.318125 \nL 361.725 22.318125 \n\" style=\"fill:none;stroke:#000000;stroke-linecap:square;stroke-linejoin:miter;stroke-width:0.8;\"/>\n   </g>\n   <g id=\"text_20\">\n    <!-- Misclassified : Coat -->\n    <g transform=\"translate(228.098778 16.318125)scale(0.12 -0.12)\">\n     <defs>\n      <path d=\"M 628 4666 \nL 1569 4666 \nL 2759 1491 \nL 3956 4666 \nL 4897 4666 \nL 4897 0 \nL 4281 0 \nL 4281 4097 \nL 3078 897 \nL 2444 897 \nL 1241 4097 \nL 1241 0 \nL 628 0 \nL 628 4666 \nz\n\" id=\"DejaVuSans-4d\" transform=\"scale(0.015625)\"/>\n      <path d=\"M 4122 4306 \nL 4122 3641 \nQ 3803 3938 3442 4084 \nQ 3081 4231 2675 4231 \nQ 1875 4231 1450 3742 \nQ 1025 3253 1025 2328 \nQ 1025 1406 1450 917 \nQ 1875 428 2675 428 \nQ 3081 428 3442 575 \nQ 3803 722 4122 1019 \nL 4122 359 \nQ 3791 134 3420 21 \nQ 3050 -91 2638 -91 \nQ 1578 -91 968 557 \nQ 359 1206 359 2328 \nQ 359 3453 968 4101 \nQ 1578 4750 2638 4750 \nQ 3056 4750 3426 4639 \nQ 3797 4528 4122 4306 \nz\n\" id=\"DejaVuSans-43\" transform=\"scale(0.015625)\"/>\n     </defs>\n     <use xlink:href=\"#DejaVuSans-4d\"/>\n     <use x=\"86.279297\" xlink:href=\"#DejaVuSans-69\"/>\n     <use x=\"114.0625\" xlink:href=\"#DejaVuSans-73\"/>\n     <use x=\"166.162109\" xlink:href=\"#DejaVuSans-63\"/>\n     <use x=\"221.142578\" xlink:href=\"#DejaVuSans-6c\"/>\n     <use x=\"248.925781\" xlink:href=\"#DejaVuSans-61\"/>\n     <use x=\"310.205078\" xlink:href=\"#DejaVuSans-73\"/>\n     <use x=\"362.304688\" xlink:href=\"#DejaVuSans-73\"/>\n     <use x=\"414.404297\" xlink:href=\"#DejaVuSans-69\"/>\n     <use x=\"442.1875\" xlink:href=\"#DejaVuSans-66\"/>\n     <use x=\"477.392578\" xlink:href=\"#DejaVuSans-69\"/>\n     <use x=\"505.175781\" xlink:href=\"#DejaVuSans-65\"/>\n     <use x=\"566.699219\" xlink:href=\"#DejaVuSans-64\"/>\n     <use x=\"630.175781\" xlink:href=\"#DejaVuSans-20\"/>\n     <use x=\"661.962891\" xlink:href=\"#DejaVuSans-3a\"/>\n     <use x=\"695.654297\" xlink:href=\"#DejaVuSans-20\"/>\n     <use x=\"727.441406\" xlink:href=\"#DejaVuSans-43\"/>\n     <use x=\"797.265625\" xlink:href=\"#DejaVuSans-6f\"/>\n     <use x=\"858.447266\" xlink:href=\"#DejaVuSans-61\"/>\n     <use x=\"919.726562\" xlink:href=\"#DejaVuSans-74\"/>\n    </g>\n   </g>\n  </g>\n </g>\n <defs>\n  <clipPath id=\"pf5dfbac777\">\n   <rect height=\"152.181818\" width=\"152.181818\" x=\"26.925\" y=\"22.318125\"/>\n  </clipPath>\n  <clipPath id=\"pace0e07e8d\">\n   <rect height=\"152.181818\" width=\"152.181818\" x=\"209.543182\" y=\"22.318125\"/>\n  </clipPath>\n </defs>\n</svg>\n",
      "image/png": "[encoded data removed]"
     },
     "metadata": {
      "needs_background": "light"
     }
    }
   ],
   "metadata": {}
  }
 ],
 "metadata": {
  "orig_nbformat": 4,
  "language_info": {
   "name": "python",
   "version": "3.8.10",
   "mimetype": "text/x-python",
   "codemirror_mode": {
    "name": "ipython",
    "version": 3
   },
   "pygments_lexer": "ipython3",
   "nbconvert_exporter": "python",
   "file_extension": ".py"
  },
  "kernelspec": {
   "name": "python3",
   "display_name": "Python 3.8.10 64-bit ('py38': conda)"
  },
  "interpreter": {
   "hash": "3db542ac60b6226dd50a79a39a56822b2dbbe89167b91e3ffb64b8d7c630bc20"
  }
 },
 "nbformat": 4,
 "nbformat_minor": 2
}